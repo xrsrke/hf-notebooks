{
 "cells": [
  {
   "cell_type": "code",
   "execution_count": 1,
   "id": "c4be4d74-8b53-4bc6-ad12-add826b4b8f3",
   "metadata": {},
   "outputs": [],
   "source": [
    "import numpy as np"
   ]
  },
  {
   "cell_type": "code",
   "execution_count": 4,
   "id": "e9913de3-4180-4e9e-b5f0-561150d9428f",
   "metadata": {},
   "outputs": [
    {
     "data": {
      "text/plain": [
       "array([10000000000,   774263682,    59948425,     4641588,      359381,\n",
       "             27825,        2154,         166,          12,           1])"
      ]
     },
     "execution_count": 4,
     "metadata": {},
     "output_type": "execute_result"
    }
   ],
   "source": [
    "np.logspace(10, np.log10(1), num=10, dtype=int)"
   ]
  },
  {
   "cell_type": "code",
   "execution_count": 5,
   "id": "3d63e054-aad8-4843-b42a-818eee018e2d",
   "metadata": {},
   "outputs": [
    {
     "data": {
      "text/plain": [
       "array([  0.,   5.,  10.,  15.,  20.,  25.,  30.,  35.,  40.,  45.,  50.,\n",
       "        55.,  60.,  65.,  70.,  75.,  80.,  85.,  90.,  95., 100.])"
      ]
     },
     "execution_count": 5,
     "metadata": {},
     "output_type": "execute_result"
    }
   ],
   "source": [
    "np.linspace(0, 100, num=21)"
   ]
  },
  {
   "cell_type": "code",
   "execution_count": 7,
   "id": "1fb34d15-4692-4184-a9ff-3e938a843c5d",
   "metadata": {},
   "outputs": [],
   "source": [
    "max_length = 10*10**6"
   ]
  },
  {
   "cell_type": "code",
   "execution_count": 8,
   "id": "48933849-13ca-42f4-9d0e-23980a60542c",
   "metadata": {},
   "outputs": [],
   "source": [
    "context_lengths = [1024 * (2 ** i) for i in range(int(np.log2(max_length / 1024)) + 1)]"
   ]
  },
  {
   "cell_type": "code",
   "execution_count": 9,
   "id": "bbdcdd7c-5e18-44e9-82da-e4cd4b40f6bb",
   "metadata": {},
   "outputs": [
    {
     "data": {
      "text/plain": [
       "[1024,\n",
       " 2048,\n",
       " 4096,\n",
       " 8192,\n",
       " 16384,\n",
       " 32768,\n",
       " 65536,\n",
       " 131072,\n",
       " 262144,\n",
       " 524288,\n",
       " 1048576,\n",
       " 2097152,\n",
       " 4194304,\n",
       " 8388608]"
      ]
     },
     "execution_count": 9,
     "metadata": {},
     "output_type": "execute_result"
    }
   ],
   "source": [
    "context_lengths"
   ]
  },
  {
   "cell_type": "code",
   "execution_count": 10,
   "id": "3a857df1-fcc5-4398-9ce3-e943abffa461",
   "metadata": {},
   "outputs": [
    {
     "name": "stdout",
     "output_type": "stream",
     "text": [
      "Closest context length to 10000000 that is divisible by 64: 10000000\n"
     ]
    }
   ],
   "source": [
    "def find_closest_context_length(target_length):\n",
    "    context_length = target_length\n",
    "    while context_length % 64 != 0:\n",
    "        context_length += 1\n",
    "    return context_length\n",
    "\n",
    "target_length = 10000000  # 10 million\n",
    "closest_context_length = find_closest_context_length(target_length)\n",
    "print(f\"Closest context length to {target_length} that is divisible by 64: {closest_context_length}\")"
   ]
  },
  {
   "cell_type": "code",
   "execution_count": 2,
   "id": "bf433a70-6868-48be-b9ef-b6c324a9ec64",
   "metadata": {},
   "outputs": [],
   "source": [
    "import numpy as np"
   ]
  },
  {
   "cell_type": "code",
   "execution_count": 3,
   "id": "4480b99c-2834-4caf-8d83-8940231957da",
   "metadata": {},
   "outputs": [],
   "source": [
    "STR_TO_DTYPE = {f\"uint{np.iinfo(dtype).bits}\": dtype for dtype in [np.uint8, np.uint16, np.uint32, np.uint64]}"
   ]
  },
  {
   "cell_type": "code",
   "execution_count": 4,
   "id": "0241b036-cd56-4ac3-a370-6493721961a6",
   "metadata": {},
   "outputs": [
    {
     "data": {
      "text/plain": [
       "{'uint8': numpy.uint8,\n",
       " 'uint16': numpy.uint16,\n",
       " 'uint32': numpy.uint32,\n",
       " 'uint64': numpy.uint64}"
      ]
     },
     "execution_count": 4,
     "metadata": {},
     "output_type": "execute_result"
    }
   ],
   "source": [
    "STR_TO_DTYPE"
   ]
  },
  {
   "cell_type": "code",
   "execution_count": 5,
   "id": "66c39c57-9fec-4bd3-aca4-bd2d124a533a",
   "metadata": {},
   "outputs": [
    {
     "data": {
      "text/plain": [
       "1835008"
      ]
     },
     "execution_count": 5,
     "metadata": {},
     "output_type": "execute_result"
    }
   ],
   "source": [
    "57344 * 2 * 16"
   ]
  },
  {
   "cell_type": "code",
   "execution_count": 6,
   "id": "f0659f35-e921-462f-a0d2-260ea403dc35",
   "metadata": {},
   "outputs": [
    {
     "data": {
      "text/plain": [
       "1048576"
      ]
     },
     "execution_count": 6,
     "metadata": {},
     "output_type": "execute_result"
    }
   ],
   "source": [
    "32768 * 2 * 16"
   ]
  },
  {
   "cell_type": "code",
   "execution_count": 9,
   "id": "df71c914-fa8d-4527-8cff-9bf6c3acd5fc",
   "metadata": {},
   "outputs": [
    {
     "data": {
      "text/plain": [
       "2097152"
      ]
     },
     "execution_count": 9,
     "metadata": {},
     "output_type": "execute_result"
    }
   ],
   "source": [
    "32768 * 16 * 4"
   ]
  },
  {
   "cell_type": "code",
   "execution_count": 5,
   "id": "390d65e9-342b-4594-9b56-96a8ad87c000",
   "metadata": {},
   "outputs": [
    {
     "data": {
      "text/plain": [
       "['xThe capital of France is ParisThe capital of France is Paris']"
      ]
     },
     "execution_count": 5,
     "metadata": {},
     "output_type": "execute_result"
    }
   ],
   "source": [
    "[\"x \" + \"The capital of France is Paris\" * 2]"
   ]
  },
  {
   "cell_type": "code",
   "execution_count": null,
   "id": "e65e5658-19e1-4099-b6b6-da81a26f6c78",
   "metadata": {},
   "outputs": [],
   "source": []
  }
 ],
 "metadata": {
  "kernelspec": {
   "display_name": "Python 3 (ipykernel)",
   "language": "python",
   "name": "python3"
  },
  "language_info": {
   "codemirror_mode": {
    "name": "ipython",
    "version": 3
   },
   "file_extension": ".py",
   "mimetype": "text/x-python",
   "name": "python",
   "nbconvert_exporter": "python",
   "pygments_lexer": "ipython3",
   "version": "3.8.18"
  }
 },
 "nbformat": 4,
 "nbformat_minor": 5
}
