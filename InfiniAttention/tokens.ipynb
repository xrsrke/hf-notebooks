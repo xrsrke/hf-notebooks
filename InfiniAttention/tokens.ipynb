{
 "cells": [
  {
   "cell_type": "markdown",
   "id": "d90194e8-fe4c-4dbe-8c4d-f98ca5b914d8",
   "metadata": {},
   "source": [
    "### Exp 2 "
   ]
  },
  {
   "cell_type": "code",
   "execution_count": 5,
   "id": "f4d496e2-46e2-4f8c-b6fd-12e3cadb298e",
   "metadata": {},
   "outputs": [],
   "source": [
    "sequence_length = 40960\n",
    "batch_accumulation_per_replica = 4\n",
    "dp_size = 16"
   ]
  },
  {
   "cell_type": "code",
   "execution_count": 6,
   "id": "4bcec1a5-dadc-44f5-b589-ad7ef9dee651",
   "metadata": {},
   "outputs": [
    {
     "data": {
      "text/plain": [
       "2621440"
      ]
     },
     "execution_count": 6,
     "metadata": {},
     "output_type": "execute_result"
    }
   ],
   "source": [
    "sequence_length * dp_size * batch_accumulation_per_replica"
   ]
  },
  {
   "cell_type": "code",
   "execution_count": null,
   "id": "bf1c30a8-e2a4-482d-a521-fbc2da77738a",
   "metadata": {},
   "outputs": [],
   "source": []
  },
  {
   "cell_type": "code",
   "execution_count": 14,
   "id": "05c492c8-1a71-4100-8db7-7e51f356ece2",
   "metadata": {},
   "outputs": [],
   "source": [
    "sequence_length = 81920\n",
    "dp_size = 16"
   ]
  },
  {
   "cell_type": "code",
   "execution_count": 16,
   "id": "2874499a-e21d-4a2b-b54c-ad435877a99d",
   "metadata": {},
   "outputs": [
    {
     "data": {
      "text/plain": [
       "2621440"
      ]
     },
     "execution_count": 16,
     "metadata": {},
     "output_type": "execute_result"
    }
   ],
   "source": [
    "sequence_length * dp_size * 2"
   ]
  },
  {
   "cell_type": "code",
   "execution_count": 23,
   "id": "353c7879-735b-4aca-aea8-9ddb2d09b99b",
   "metadata": {},
   "outputs": [
    {
     "data": {
      "text/plain": [
       "2097152"
      ]
     },
     "execution_count": 23,
     "metadata": {},
     "output_type": "execute_result"
    }
   ],
   "source": [
    "65536 * 16 * 2"
   ]
  },
  {
   "cell_type": "code",
   "execution_count": 7,
   "id": "3f82e671-22cb-42a2-a834-6aa33f280e3b",
   "metadata": {},
   "outputs": [],
   "source": [
    "#                                dataset  tokens_in_b\n",
    "# 0                  fineweb-v1-8k/short   239.821719\n",
    "# 1               stack_full_v21-8k/long   184.039289\n",
    "# 2              stack_full_v21-8k/short    19.408368\n",
    "# 3                   fineweb-v1-8k/long    10.448420\n",
    "# 4                    project-gutenberg     9.262314\n",
    "# 5                       OpenHermes-2-5     0.738636\n",
    "# Here’s the token count breakdown. for the experiments i would do (roughly) for fraction of training tokens:\n",
    "# fineweb long:     30%\n",
    "# fineweb short:    30%\n",
    "# stack long:       15%\n",
    "# stack short:      15%\n",
    "# projectgutenberg: 8%\n",
    "# openhermes:       2%\n"
   ]
  },
  {
   "cell_type": "code",
   "execution_count": 8,
   "id": "3dc354de-b126-4761-b4ce-479fb8d5eb00",
   "metadata": {},
   "outputs": [],
   "source": [
    "import math"
   ]
  },
  {
   "cell_type": "code",
   "execution_count": 10,
   "id": "2cfb8a82-75a5-4589-a97c-1d060591096c",
   "metadata": {},
   "outputs": [
    {
     "data": {
      "text/plain": [
       "0.015625"
      ]
     },
     "execution_count": 10,
     "metadata": {},
     "output_type": "execute_result"
    }
   ],
   "source": [
    "math.sqrt(1/4096)"
   ]
  },
  {
   "cell_type": "code",
   "execution_count": null,
   "id": "2977c865-a9b9-4dae-af7f-479c4bd36548",
   "metadata": {},
   "outputs": [],
   "source": []
  }
 ],
 "metadata": {
  "kernelspec": {
   "display_name": "Python 3 (ipykernel)",
   "language": "python",
   "name": "python3"
  },
  "language_info": {
   "codemirror_mode": {
    "name": "ipython",
    "version": 3
   },
   "file_extension": ".py",
   "mimetype": "text/x-python",
   "name": "python",
   "nbconvert_exporter": "python",
   "pygments_lexer": "ipython3",
   "version": "3.8.18"
  }
 },
 "nbformat": 4,
 "nbformat_minor": 5
}
