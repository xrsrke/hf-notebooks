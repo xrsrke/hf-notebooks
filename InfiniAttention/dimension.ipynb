{
 "cells": [
  {
   "cell_type": "code",
   "execution_count": 13,
   "id": "5c937b5c-5e23-4f9c-9c13-d9b45905f22c",
   "metadata": {},
   "outputs": [],
   "source": [
    "import torch"
   ]
  },
  {
   "cell_type": "code",
   "execution_count": 14,
   "id": "c259b2d5-c685-46ac-8851-a87fa4198c9f",
   "metadata": {},
   "outputs": [],
   "source": [
    "BATCH_SIZE = 5\n",
    "SEQ_LENGTH = 10\n",
    "N_HEADS = 4\n",
    "D_HEAD = 20"
   ]
  },
  {
   "cell_type": "code",
   "execution_count": 15,
   "id": "c250c00a-ed6c-4543-a64a-75cc3c070cad",
   "metadata": {},
   "outputs": [],
   "source": [
    "query_states = torch.randn(BATCH_SIZE, N_HEADS, SEQ_LENGTH, D_HEAD)\n",
    "key_states = torch.randn(BATCH_SIZE, N_HEADS, SEQ_LENGTH, D_HEAD)\n",
    "value_states = torch.randn(BATCH_SIZE, N_HEADS, SEQ_LENGTH, D_HEAD)"
   ]
  },
  {
   "cell_type": "code",
   "execution_count": 16,
   "id": "cb820686-e736-4bea-94e3-cf0d98776ca7",
   "metadata": {},
   "outputs": [
    {
     "data": {
      "text/plain": [
       "torch.Size([5, 4, 10, 20])"
      ]
     },
     "execution_count": 16,
     "metadata": {},
     "output_type": "execute_result"
    }
   ],
   "source": [
    "key_states.shape"
   ]
  },
  {
   "cell_type": "code",
   "execution_count": 17,
   "id": "b68cb0a2-9696-454b-821d-1b85eea95846",
   "metadata": {},
   "outputs": [
    {
     "data": {
      "text/plain": [
       "torch.Size([5, 4, 10, 20])"
      ]
     },
     "execution_count": 17,
     "metadata": {},
     "output_type": "execute_result"
    }
   ],
   "source": [
    "value_states.shape"
   ]
  },
  {
   "cell_type": "code",
   "execution_count": 18,
   "id": "fefaaa5c-1782-4907-8e0c-44ac69e4dee9",
   "metadata": {},
   "outputs": [
    {
     "data": {
      "text/plain": [
       "torch.Size([5, 4, 20, 20])"
      ]
     },
     "execution_count": 18,
     "metadata": {},
     "output_type": "execute_result"
    }
   ],
   "source": [
    "(key_states.transpose(-2, -1) @ value_states).shape"
   ]
  },
  {
   "cell_type": "code",
   "execution_count": null,
   "id": "af7f8b4a-54ce-4c91-9289-cbba556b3136",
   "metadata": {},
   "outputs": [],
   "source": []
  },
  {
   "cell_type": "code",
   "execution_count": 19,
   "id": "009bf35c-42e6-45cc-8eb4-58d83063ec61",
   "metadata": {},
   "outputs": [],
   "source": [
    "import torch"
   ]
  },
  {
   "cell_type": "code",
   "execution_count": 20,
   "id": "06283faf-b48b-4a2e-9c43-89407150c832",
   "metadata": {},
   "outputs": [],
   "source": [
    "n_heads, seq_length = 10, 5"
   ]
  },
  {
   "cell_type": "code",
   "execution_count": 21,
   "id": "2976d631-d461-4b81-9184-22d845bc3fd0",
   "metadata": {},
   "outputs": [],
   "source": [
    "states = torch.arange(n_heads*seq_length).view(n_heads, seq_length)"
   ]
  },
  {
   "cell_type": "code",
   "execution_count": 22,
   "id": "9673874f-1993-4c11-9246-17e551dc49e5",
   "metadata": {},
   "outputs": [
    {
     "data": {
      "text/plain": [
       "tensor([[ 0,  1,  2,  3,  4],\n",
       "        [ 5,  6,  7,  8,  9],\n",
       "        [10, 11, 12, 13, 14],\n",
       "        [15, 16, 17, 18, 19],\n",
       "        [20, 21, 22, 23, 24],\n",
       "        [25, 26, 27, 28, 29],\n",
       "        [30, 31, 32, 33, 34],\n",
       "        [35, 36, 37, 38, 39],\n",
       "        [40, 41, 42, 43, 44],\n",
       "        [45, 46, 47, 48, 49]])"
      ]
     },
     "execution_count": 22,
     "metadata": {},
     "output_type": "execute_result"
    }
   ],
   "source": [
    "states"
   ]
  },
  {
   "cell_type": "code",
   "execution_count": 23,
   "id": "579f6458-82f6-4042-8568-40473dab566b",
   "metadata": {},
   "outputs": [
    {
     "data": {
      "text/plain": [
       "tensor([[[ 0,  1,  2,  3,  4],\n",
       "         [ 5,  6,  7,  8,  9],\n",
       "         [10, 11, 12, 13, 14],\n",
       "         [15, 16, 17, 18, 19],\n",
       "         [20, 21, 22, 23, 24],\n",
       "         [25, 26, 27, 28, 29],\n",
       "         [30, 31, 32, 33, 34],\n",
       "         [35, 36, 37, 38, 39],\n",
       "         [40, 41, 42, 43, 44],\n",
       "         [45, 46, 47, 48, 49]]])"
      ]
     },
     "execution_count": 23,
     "metadata": {},
     "output_type": "execute_result"
    }
   ],
   "source": [
    "states[None, :, :]"
   ]
  },
  {
   "cell_type": "code",
   "execution_count": 24,
   "id": "2bb94164-772c-4732-b90b-c5dfbd22a6df",
   "metadata": {},
   "outputs": [],
   "source": [
    "import math"
   ]
  },
  {
   "cell_type": "code",
   "execution_count": 25,
   "id": "d27f95d2-dfad-4394-b0ee-f887514c5fb8",
   "metadata": {},
   "outputs": [
    {
     "data": {
      "text/plain": [
       "0.03125"
      ]
     },
     "execution_count": 25,
     "metadata": {},
     "output_type": "execute_result"
    }
   ],
   "source": [
    "math.sqrt(1/1024)"
   ]
  },
  {
   "cell_type": "code",
   "execution_count": null,
   "id": "bcbf69e7-0cb1-4e58-8a0e-3022701384b9",
   "metadata": {},
   "outputs": [],
   "source": []
  },
  {
   "cell_type": "markdown",
   "id": "af7da180-2786-4e86-a2f1-a355c3ca46b0",
   "metadata": {},
   "source": [
    "### GQA"
   ]
  },
  {
   "cell_type": "code",
   "execution_count": 26,
   "id": "956db2a1-7cf7-4cef-a3d2-f52bbbcec649",
   "metadata": {},
   "outputs": [],
   "source": [
    "import torch\n",
    "from einops import repeat"
   ]
  },
  {
   "cell_type": "code",
   "execution_count": 27,
   "id": "d644873c-d041-4eb3-9547-7003450295f4",
   "metadata": {},
   "outputs": [],
   "source": [
    "n_q_heads = 4\n",
    "batch_size, n_kv_heads, d_k, d_v = 1, 2, 5, 5"
   ]
  },
  {
   "cell_type": "code",
   "execution_count": 28,
   "id": "1dc544d6-482a-4271-adcd-35683b507c3b",
   "metadata": {},
   "outputs": [],
   "source": [
    "prev_memory = torch.arange(batch_size*n_kv_heads*d_k*d_v).view(batch_size, n_kv_heads, d_k, d_v)"
   ]
  },
  {
   "cell_type": "code",
   "execution_count": 29,
   "id": "dd9f472c-e5ee-4a59-8d2e-95bf6f01803b",
   "metadata": {},
   "outputs": [
    {
     "data": {
      "text/plain": [
       "tensor([[[[ 0,  1,  2,  3,  4],\n",
       "          [ 5,  6,  7,  8,  9],\n",
       "          [10, 11, 12, 13, 14],\n",
       "          [15, 16, 17, 18, 19],\n",
       "          [20, 21, 22, 23, 24]],\n",
       "\n",
       "         [[25, 26, 27, 28, 29],\n",
       "          [30, 31, 32, 33, 34],\n",
       "          [35, 36, 37, 38, 39],\n",
       "          [40, 41, 42, 43, 44],\n",
       "          [45, 46, 47, 48, 49]]]])"
      ]
     },
     "execution_count": 29,
     "metadata": {},
     "output_type": "execute_result"
    }
   ],
   "source": [
    "prev_memory"
   ]
  },
  {
   "cell_type": "code",
   "execution_count": 35,
   "id": "24132071-0767-47cc-b453-1063abd67aea",
   "metadata": {},
   "outputs": [
    {
     "data": {
      "text/plain": [
       "tensor([[[[ 0,  1,  2,  3,  4],\n",
       "          [ 5,  6,  7,  8,  9],\n",
       "          [10, 11, 12, 13, 14],\n",
       "          [15, 16, 17, 18, 19],\n",
       "          [20, 21, 22, 23, 24]],\n",
       "\n",
       "         [[25, 26, 27, 28, 29],\n",
       "          [30, 31, 32, 33, 34],\n",
       "          [35, 36, 37, 38, 39],\n",
       "          [40, 41, 42, 43, 44],\n",
       "          [45, 46, 47, 48, 49]]]])"
      ]
     },
     "execution_count": 35,
     "metadata": {},
     "output_type": "execute_result"
    }
   ],
   "source": [
    "prev_memory"
   ]
  },
  {
   "cell_type": "code",
   "execution_count": 37,
   "id": "bd699c0d-750a-47fa-a837-cc2083265f0d",
   "metadata": {},
   "outputs": [
    {
     "data": {
      "text/plain": [
       "tensor([[[[ 0,  1,  2,  3,  4],\n",
       "          [ 5,  6,  7,  8,  9],\n",
       "          [10, 11, 12, 13, 14],\n",
       "          [15, 16, 17, 18, 19],\n",
       "          [20, 21, 22, 23, 24],\n",
       "          [ 0,  1,  2,  3,  4],\n",
       "          [ 5,  6,  7,  8,  9],\n",
       "          [10, 11, 12, 13, 14],\n",
       "          [15, 16, 17, 18, 19],\n",
       "          [20, 21, 22, 23, 24]],\n",
       "\n",
       "         [[25, 26, 27, 28, 29],\n",
       "          [30, 31, 32, 33, 34],\n",
       "          [35, 36, 37, 38, 39],\n",
       "          [40, 41, 42, 43, 44],\n",
       "          [45, 46, 47, 48, 49],\n",
       "          [25, 26, 27, 28, 29],\n",
       "          [30, 31, 32, 33, 34],\n",
       "          [35, 36, 37, 38, 39],\n",
       "          [40, 41, 42, 43, 44],\n",
       "          [45, 46, 47, 48, 49]]]])"
      ]
     },
     "execution_count": 37,
     "metadata": {},
     "output_type": "execute_result"
    }
   ],
   "source": [
    "prev_memory.repeat(1, 1, n_q_heads // n_kv_heads, 1)"
   ]
  },
  {
   "cell_type": "code",
   "execution_count": 40,
   "id": "f0f45cab-122b-4392-afba-cc28cc1a60fe",
   "metadata": {},
   "outputs": [
    {
     "data": {
      "text/plain": [
       "tensor([[[[ 0,  1,  2,  3,  4],\n",
       "          [ 5,  6,  7,  8,  9],\n",
       "          [10, 11, 12, 13, 14],\n",
       "          [15, 16, 17, 18, 19],\n",
       "          [20, 21, 22, 23, 24]],\n",
       "\n",
       "         [[ 0,  1,  2,  3,  4],\n",
       "          [ 5,  6,  7,  8,  9],\n",
       "          [10, 11, 12, 13, 14],\n",
       "          [15, 16, 17, 18, 19],\n",
       "          [20, 21, 22, 23, 24]],\n",
       "\n",
       "         [[25, 26, 27, 28, 29],\n",
       "          [30, 31, 32, 33, 34],\n",
       "          [35, 36, 37, 38, 39],\n",
       "          [40, 41, 42, 43, 44],\n",
       "          [45, 46, 47, 48, 49]],\n",
       "\n",
       "         [[25, 26, 27, 28, 29],\n",
       "          [30, 31, 32, 33, 34],\n",
       "          [35, 36, 37, 38, 39],\n",
       "          [40, 41, 42, 43, 44],\n",
       "          [45, 46, 47, 48, 49]]]])"
      ]
     },
     "execution_count": 40,
     "metadata": {},
     "output_type": "execute_result"
    }
   ],
   "source": [
    "repeat(\n",
    "    prev_memory, \"batch_size n_kv_heads d_k d_v -> batch_size (n_kv_heads n) d_k d_v\",\n",
    "    n=n_q_heads // n_kv_heads\n",
    ")"
   ]
  },
  {
   "cell_type": "code",
   "execution_count": 43,
   "id": "c797a5b4-bab2-431d-a36c-62d5d0880a12",
   "metadata": {},
   "outputs": [
    {
     "data": {
      "text/plain": [
       "tensor([[[[ 0,  1,  2,  3,  4],\n",
       "          [ 5,  6,  7,  8,  9],\n",
       "          [10, 11, 12, 13, 14],\n",
       "          [15, 16, 17, 18, 19],\n",
       "          [20, 21, 22, 23, 24]],\n",
       "\n",
       "         [[25, 26, 27, 28, 29],\n",
       "          [30, 31, 32, 33, 34],\n",
       "          [35, 36, 37, 38, 39],\n",
       "          [40, 41, 42, 43, 44],\n",
       "          [45, 46, 47, 48, 49]],\n",
       "\n",
       "         [[ 0,  1,  2,  3,  4],\n",
       "          [ 5,  6,  7,  8,  9],\n",
       "          [10, 11, 12, 13, 14],\n",
       "          [15, 16, 17, 18, 19],\n",
       "          [20, 21, 22, 23, 24]],\n",
       "\n",
       "         [[25, 26, 27, 28, 29],\n",
       "          [30, 31, 32, 33, 34],\n",
       "          [35, 36, 37, 38, 39],\n",
       "          [40, 41, 42, 43, 44],\n",
       "          [45, 46, 47, 48, 49]]]])"
      ]
     },
     "execution_count": 43,
     "metadata": {},
     "output_type": "execute_result"
    }
   ],
   "source": [
    "repeat(\n",
    "    prev_memory, \"batch_size n_kv_heads d_k d_v -> batch_size (n n_kv_heads) d_k d_v\",\n",
    "    n=n_q_heads // n_kv_heads\n",
    ")"
   ]
  },
  {
   "cell_type": "code",
   "execution_count": 44,
   "id": "82c58b8f-b63e-4921-b4e2-c964f4c236c5",
   "metadata": {},
   "outputs": [
    {
     "data": {
      "text/plain": [
       "tensor([[[[ 0,  1,  2,  3,  4],\n",
       "          [ 5,  6,  7,  8,  9],\n",
       "          [10, 11, 12, 13, 14],\n",
       "          [15, 16, 17, 18, 19],\n",
       "          [20, 21, 22, 23, 24]],\n",
       "\n",
       "         [[ 0,  1,  2,  3,  4],\n",
       "          [ 5,  6,  7,  8,  9],\n",
       "          [10, 11, 12, 13, 14],\n",
       "          [15, 16, 17, 18, 19],\n",
       "          [20, 21, 22, 23, 24]],\n",
       "\n",
       "         [[25, 26, 27, 28, 29],\n",
       "          [30, 31, 32, 33, 34],\n",
       "          [35, 36, 37, 38, 39],\n",
       "          [40, 41, 42, 43, 44],\n",
       "          [45, 46, 47, 48, 49]],\n",
       "\n",
       "         [[25, 26, 27, 28, 29],\n",
       "          [30, 31, 32, 33, 34],\n",
       "          [35, 36, 37, 38, 39],\n",
       "          [40, 41, 42, 43, 44],\n",
       "          [45, 46, 47, 48, 49]]]])"
      ]
     },
     "execution_count": 44,
     "metadata": {},
     "output_type": "execute_result"
    }
   ],
   "source": [
    "repeat(\n",
    "    prev_memory, \"batch_size n_kv_heads d_k d_v -> batch_size (n_kv_heads n) d_k d_v\",\n",
    "    n=n_q_heads // n_kv_heads\n",
    ")"
   ]
  },
  {
   "cell_type": "code",
   "execution_count": 60,
   "id": "5916d5c7-63b4-4ab8-be7e-8323dd8fe007",
   "metadata": {},
   "outputs": [],
   "source": [
    "import torch\n",
    "\n",
    "n_q_heads = 8\n",
    "n_kv_heads = 2 \n",
    "d_head = 10\n",
    "\n",
    "q = torch.rand(n_q_heads, d_head)\n",
    "\n",
    "# Create original k, v \n",
    "k = torch.arange(n_kv_heads * d_head).reshape(n_kv_heads, d_head).float()\n",
    "v = torch.arange(n_kv_heads * d_head).reshape(n_kv_heads, d_head).float()"
   ]
  },
  {
   "cell_type": "code",
   "execution_count": 61,
   "id": "419068c0-9ff2-4c89-8aaf-a56f787a08f6",
   "metadata": {},
   "outputs": [
    {
     "data": {
      "text/plain": [
       "tensor([[ 0.,  1.,  2.,  3.,  4.,  5.,  6.,  7.,  8.,  9.],\n",
       "        [10., 11., 12., 13., 14., 15., 16., 17., 18., 19.]])"
      ]
     },
     "execution_count": 61,
     "metadata": {},
     "output_type": "execute_result"
    }
   ],
   "source": [
    "k"
   ]
  },
  {
   "cell_type": "code",
   "execution_count": null,
   "id": "36634b9d-f565-408d-b9bc-8e1beda3e77a",
   "metadata": {},
   "outputs": [],
   "source": []
  },
  {
   "cell_type": "code",
   "execution_count": 62,
   "id": "ac326308-9dca-4525-9f68-b35acd0262bb",
   "metadata": {},
   "outputs": [],
   "source": [
    "# k = k.repeat(n_q_heads // n_kv_heads, 1)  \n",
    "# v = v.repeat(n_q_heads // n_kv_heads, 1)"
   ]
  },
  {
   "cell_type": "code",
   "execution_count": 63,
   "id": "b6b63f02-4679-499f-8196-db573f5fe014",
   "metadata": {},
   "outputs": [
    {
     "data": {
      "text/plain": [
       "tensor([[ 0.,  1.,  2.,  3.,  4.,  5.,  6.,  7.,  8.,  9.],\n",
       "        [10., 11., 12., 13., 14., 15., 16., 17., 18., 19.],\n",
       "        [ 0.,  1.,  2.,  3.,  4.,  5.,  6.,  7.,  8.,  9.],\n",
       "        [10., 11., 12., 13., 14., 15., 16., 17., 18., 19.],\n",
       "        [ 0.,  1.,  2.,  3.,  4.,  5.,  6.,  7.,  8.,  9.],\n",
       "        [10., 11., 12., 13., 14., 15., 16., 17., 18., 19.],\n",
       "        [ 0.,  1.,  2.,  3.,  4.,  5.,  6.,  7.,  8.,  9.],\n",
       "        [10., 11., 12., 13., 14., 15., 16., 17., 18., 19.]])"
      ]
     },
     "execution_count": 63,
     "metadata": {},
     "output_type": "execute_result"
    }
   ],
   "source": [
    "k"
   ]
  },
  {
   "cell_type": "code",
   "execution_count": 64,
   "id": "eaf2ca33-12a6-43c4-9e21-33b22651bfd2",
   "metadata": {},
   "outputs": [],
   "source": [
    "q = torch.rand(n_q_heads, d_head)\n"
   ]
  },
  {
   "cell_type": "code",
   "execution_count": 65,
   "id": "2bc9fd31-86c1-49db-9e98-ffd5c8c98c7e",
   "metadata": {},
   "outputs": [],
   "source": [
    "attn = torch.matmul(q, k.transpose(1,0))"
   ]
  },
  {
   "cell_type": "code",
   "execution_count": 67,
   "id": "de396151-b0a9-48a0-b8ac-4699c714592c",
   "metadata": {},
   "outputs": [
    {
     "data": {
      "text/plain": [
       "tensor([[28.0864, 84.9314, 28.0864, 84.9314, 28.0864, 84.9314, 28.0864, 84.9314],\n",
       "        [21.6458, 64.5257, 21.6458, 64.5257, 21.6458, 64.5257, 21.6458, 64.5257],\n",
       "        [26.5185, 90.9190, 26.5185, 90.9190, 26.5185, 90.9190, 26.5185, 90.9190],\n",
       "        [18.6815, 51.9978, 18.6815, 51.9978, 18.6815, 51.9978, 18.6815, 51.9978],\n",
       "        [15.0524, 48.3450, 15.0524, 48.3450, 15.0524, 48.3450, 15.0524, 48.3450],\n",
       "        [24.1377, 79.5783, 24.1377, 79.5783, 24.1377, 79.5783, 24.1377, 79.5783],\n",
       "        [17.2669, 61.5019, 17.2669, 61.5019, 17.2669, 61.5019, 17.2669, 61.5019],\n",
       "        [23.2112, 84.4215, 23.2112, 84.4215, 23.2112, 84.4215, 23.2112, 84.4215]])"
      ]
     },
     "execution_count": 67,
     "metadata": {},
     "output_type": "execute_result"
    }
   ],
   "source": [
    "attn"
   ]
  },
  {
   "cell_type": "markdown",
   "id": "a64d7e94-85a6-4dde-8190-fd3bc902026f",
   "metadata": {},
   "source": [
    "##### Try 5"
   ]
  },
  {
   "cell_type": "code",
   "execution_count": 78,
   "id": "af55cd0b-8620-4849-b0b7-97161eef521c",
   "metadata": {},
   "outputs": [],
   "source": [
    "import torch\n",
    "\n",
    "n_q_heads = 8\n",
    "n_kv_heads = 2 \n",
    "d_head = 10\n",
    "\n",
    "q = torch.rand(n_q_heads, d_head).float()\n",
    "k = torch.arange(n_kv_heads * d_head).reshape(n_kv_heads, d_head).float()\n",
    "v = torch.arange(n_kv_heads * d_head).reshape(n_kv_heads, d_head).float()"
   ]
  },
  {
   "cell_type": "code",
   "execution_count": 79,
   "id": "42667f44-2e01-4281-a5e2-72a963b766c8",
   "metadata": {},
   "outputs": [
    {
     "data": {
      "text/plain": [
       "tensor([[ 0.,  1.,  2.,  3.,  4.,  5.,  6.,  7.,  8.,  9.],\n",
       "        [10., 11., 12., 13., 14., 15., 16., 17., 18., 19.]])"
      ]
     },
     "execution_count": 79,
     "metadata": {},
     "output_type": "execute_result"
    }
   ],
   "source": [
    "k"
   ]
  },
  {
   "cell_type": "code",
   "execution_count": 80,
   "id": "6b36ebd9-121c-4e96-b4f0-f82843fedaff",
   "metadata": {},
   "outputs": [
    {
     "data": {
      "text/plain": [
       "tensor([[ 0.,  1.,  2.,  3.,  4.,  5.,  6.,  7.,  8.,  9.],\n",
       "        [10., 11., 12., 13., 14., 15., 16., 17., 18., 19.]])"
      ]
     },
     "execution_count": 80,
     "metadata": {},
     "output_type": "execute_result"
    }
   ],
   "source": [
    "v"
   ]
  },
  {
   "cell_type": "code",
   "execution_count": 84,
   "id": "e1f86358-83ee-4fa5-aabe-6c1307c4ee39",
   "metadata": {},
   "outputs": [],
   "source": [
    "def repeat_kv(x: torch.Tensor, n_rep: int) -> torch.Tensor:\n",
    "    n_kv_heads, head_dim = x.shape\n",
    "    if n_rep == 1:\n",
    "        return x\n",
    "    return (\n",
    "        # (B, Seq_Len, N_KV_Heads, 1, Head_Dim)\n",
    "        x[:, None, :]\n",
    "        # (B, Seq_Len, N_KV_Heads, N_Rep, Head_Dim)\n",
    "        .expand(n_kv_heads, n_rep, head_dim)\n",
    "        # (B, Seq_Len, N_KV_Heads * N_Rep, Head_Dim)\n",
    "        .reshape(n_kv_heads * n_rep, head_dim)\n",
    "    )"
   ]
  },
  {
   "cell_type": "code",
   "execution_count": 85,
   "id": "8e44fba5-d320-4e99-afae-c5a84adb0e5c",
   "metadata": {},
   "outputs": [],
   "source": [
    "keys = repeat_kv(k, 2)"
   ]
  },
  {
   "cell_type": "code",
   "execution_count": 86,
   "id": "24ce7bc3-e564-4581-8d3f-dc80075921ac",
   "metadata": {},
   "outputs": [
    {
     "data": {
      "text/plain": [
       "tensor([[ 0.,  1.,  2.,  3.,  4.,  5.,  6.,  7.,  8.,  9.],\n",
       "        [ 0.,  1.,  2.,  3.,  4.,  5.,  6.,  7.,  8.,  9.],\n",
       "        [10., 11., 12., 13., 14., 15., 16., 17., 18., 19.],\n",
       "        [10., 11., 12., 13., 14., 15., 16., 17., 18., 19.]])"
      ]
     },
     "execution_count": 86,
     "metadata": {},
     "output_type": "execute_result"
    }
   ],
   "source": [
    "keys"
   ]
  },
  {
   "cell_type": "code",
   "execution_count": 87,
   "id": "d19bc1ae-b36a-4b4a-900f-c9fa81f69a25",
   "metadata": {},
   "outputs": [],
   "source": [
    "from einops import repeat"
   ]
  },
  {
   "cell_type": "code",
   "execution_count": 90,
   "id": "45a43d30-a195-405c-ab38-c3734a94ade0",
   "metadata": {},
   "outputs": [
    {
     "data": {
      "text/plain": [
       "tensor([[ 0.,  1.,  2.,  3.,  4.,  5.,  6.,  7.,  8.,  9.],\n",
       "        [10., 11., 12., 13., 14., 15., 16., 17., 18., 19.],\n",
       "        [ 0.,  1.,  2.,  3.,  4.,  5.,  6.,  7.,  8.,  9.],\n",
       "        [10., 11., 12., 13., 14., 15., 16., 17., 18., 19.]])"
      ]
     },
     "execution_count": 90,
     "metadata": {},
     "output_type": "execute_result"
    }
   ],
   "source": [
    "repeat(\n",
    "    k,\n",
    "    \"n_kv_heads d_k -> (n n_kv_heads) d_k\",\n",
    "    n=2,\n",
    ")"
   ]
  },
  {
   "cell_type": "code",
   "execution_count": 92,
   "id": "ab172eb2-dbd5-4c87-aeed-a50a9c7bf7d5",
   "metadata": {},
   "outputs": [
    {
     "data": {
      "text/plain": [
       "tensor([[[[0.]],\n",
       "\n",
       "         [[0.]],\n",
       "\n",
       "         [[0.]]]])"
      ]
     },
     "execution_count": 92,
     "metadata": {},
     "output_type": "execute_result"
    }
   ],
   "source": [
    "torch.full((1, 3, 1, 1), 0.0)"
   ]
  },
  {
   "cell_type": "code",
   "execution_count": null,
   "id": "f51edaf7-3932-4548-b248-992654936e66",
   "metadata": {},
   "outputs": [],
   "source": []
  }
 ],
 "metadata": {
  "kernelspec": {
   "display_name": "Python 3 (ipykernel)",
   "language": "python",
   "name": "python3"
  },
  "language_info": {
   "codemirror_mode": {
    "name": "ipython",
    "version": 3
   },
   "file_extension": ".py",
   "mimetype": "text/x-python",
   "name": "python",
   "nbconvert_exporter": "python",
   "pygments_lexer": "ipython3",
   "version": "3.8.18"
  }
 },
 "nbformat": 4,
 "nbformat_minor": 5
}
