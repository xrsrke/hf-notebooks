{
 "cells": [
  {
   "cell_type": "code",
   "execution_count": 2,
   "id": "39123f1c-7148-41fb-97a6-d0b1906c8786",
   "metadata": {},
   "outputs": [
    {
     "name": "stdout",
     "output_type": "stream",
     "text": [
      "Optimal model size: 70.00 billion parameters\n",
      "Optimal dataset size: 20.00 trillion tokens\n",
      "Minimum loss: 1.851\n"
     ]
    }
   ],
   "source": [
    "import numpy as np\n",
    "import scipy.optimize as opt\n",
    "\n",
    "# Constants from the Chinchilla scaling law\n",
    "A = 406.4\n",
    "B = 410.7 \n",
    "alpha = 0.34\n",
    "beta = 0.28\n",
    "\n",
    "# Loss function\n",
    "def loss(params, tokens, A=A, B=B, alpha=alpha, beta=beta):\n",
    "    return 1.69 + A/(params**alpha) + B/(tokens**beta)\n",
    "\n",
    "# Compute budget function (in FLOPs)\n",
    "def compute_budget(params, tokens):\n",
    "    return 6 * params * tokens\n",
    "\n",
    "# Objective function to minimize (loss)\n",
    "def objective(x):\n",
    "    params, tokens = x\n",
    "    return loss(params, tokens)\n",
    "\n",
    "# Budget constraint function \n",
    "def budget_constraint(x):\n",
    "    params, tokens = x\n",
    "    return budget_70b_20t - compute_budget(params, tokens)\n",
    "\n",
    "# Compute budget for a 70B model trained on 20T tokens\n",
    "budget_70b_20t = compute_budget(70e9, 200000e9)\n",
    "\n",
    "# Bounds for model size and dataset size\n",
    "bounds = ((7e10, 1e12), (1e12, 2e13))  # 70B to 1T params, 1T to 20T tokens\n",
    "\n",
    "# Initial guess\n",
    "x0 = np.array([7e10, 2e13])  # 70B params, 20T tokens\n",
    "\n",
    "# Solve constrained optimization problem\n",
    "result = opt.minimize(objective, x0, method='SLSQP', \n",
    "                      bounds=bounds,\n",
    "                      constraints=({'type': 'ineq', 'fun': budget_constraint}))\n",
    "\n",
    "# Extract optimal parameters\n",
    "params_opt, tokens_opt = result.x\n",
    "\n",
    "print(f\"Optimal model size: {params_opt/1e9:.2f} billion parameters\")\n",
    "print(f\"Optimal dataset size: {tokens_opt/1e12:.2f} trillion tokens\")\n",
    "print(f\"Minimum loss: {loss(params_opt, tokens_opt):.3f}\")"
   ]
  },
  {
   "cell_type": "code",
   "execution_count": null,
   "id": "eabaaaee-b79e-47cc-b289-dabe3b8ad3d2",
   "metadata": {},
   "outputs": [],
   "source": []
  }
 ],
 "metadata": {
  "kernelspec": {
   "display_name": "Python 3 (ipykernel)",
   "language": "python",
   "name": "python3"
  },
  "language_info": {
   "codemirror_mode": {
    "name": "ipython",
    "version": 3
   },
   "file_extension": ".py",
   "mimetype": "text/x-python",
   "name": "python",
   "nbconvert_exporter": "python",
   "pygments_lexer": "ipython3",
   "version": "3.10.14"
  }
 },
 "nbformat": 4,
 "nbformat_minor": 5
}
