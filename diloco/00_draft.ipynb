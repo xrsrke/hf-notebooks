{
 "cells": [
  {
   "cell_type": "code",
   "execution_count": 1,
   "id": "8e8d0bf6-da09-49a5-bd91-e2ab263dd8ae",
   "metadata": {},
   "outputs": [],
   "source": [
    "from utils import calculate_weight_memory, calculate_kv_cache\n",
    "from utils import convert_bytes_to_gigabytes, convert_bytes_to_megabytes\n",
    "from constants import LLAMA3_400B_CONFIG\n",
    "from name import TrainingConfig, Datatype, Transformer\n",
    "from transformer_mem_functional import calculate_memory_requirements"
   ]
  },
  {
   "cell_type": "code",
   "execution_count": 2,
   "id": "ea8937ba-e7b5-441a-b360-6b749a339a94",
   "metadata": {},
   "outputs": [
    {
     "data": {
      "text/plain": [
       "{'Model Memory': '39.865 GB',\n",
       " 'KV Cache Memory': '2.215 GB',\n",
       " 'Gradient Memory': '39.865 GB',\n",
       " 'Activation Memory': '18.824 GB',\n",
       " 'Optimizer Memory': '239.189 GB',\n",
       " 'Communication Memory': '3.000 GB',\n",
       " 'Miscellaneous Memory': '0.000 GB',\n",
       " 'Total Training Memory (GB)': '340.743 GB',\n",
       " 'Total Inference Memory (GB)': '42.079 GB'}"
      ]
     },
     "execution_count": 2,
     "metadata": {},
     "output_type": "execute_result"
    }
   ],
   "source": [
    "{k: convert_bytes_to_gigabytes(v) for k, v in calculate_memory_requirements(\n",
    "    transformer=Transformer(\n",
    "        name=\"x\",\n",
    "        n_layers=44,\n",
    "        hidden_size=6144,\n",
    "        n_heads=64,\n",
    "        n_key_value_heads=64,\n",
    "        ctx_length=2048\n",
    "    ),\n",
    "    config=TrainingConfig(\n",
    "    tp_size=1, pp_size=1, num_gpus=1,\n",
    "    partition_activations=True, zero1=1,\n",
    "    checkpoint_activations=True,\n",
    "    batch_size_per_replicas=1,\n",
    "    weight_dtype=Datatype.BFLOAT16,\n",
    "    gradient_dtype=Datatype.BFLOAT16,\n",
    "    optim_first_state_dtype=Datatype.FLOAT32,\n",
    "    optim_second_state_dtype=Datatype.FLOAT32\n",
    ")).items()}"
   ]
  },
  {
   "cell_type": "code",
   "execution_count": 3,
   "id": "808c6219-2a64-4ccd-acd6-e064d6da89e7",
   "metadata": {},
   "outputs": [
    {
     "data": {
      "text/plain": [
       "{'Model Memory': '39.865 GB',\n",
       " 'KV Cache Memory': '2.215 GB',\n",
       " 'Gradient Memory': '39.865 GB',\n",
       " 'Activation Memory': '18.824 GB',\n",
       " 'Optimizer Memory': '239.189 GB',\n",
       " 'Communication Memory': '3.000 GB',\n",
       " 'Miscellaneous Memory': '0.000 GB',\n",
       " 'Total Training Memory (GB)': '340.743 GB',\n",
       " 'Total Inference Memory (GB)': '42.079 GB'}"
      ]
     },
     "execution_count": 3,
     "metadata": {},
     "output_type": "execute_result"
    }
   ],
   "source": [
    "{k: convert_bytes_to_gigabytes(v) for k, v in calculate_memory_requirements(\n",
    "    transformer=Transformer(\n",
    "        name=\"x\",\n",
    "        n_layers=44,\n",
    "        hidden_size=6144,\n",
    "        n_heads=64,\n",
    "        n_key_value_heads=64,\n",
    "        ctx_length=2048\n",
    "    ),\n",
    "    config=TrainingConfig(\n",
    "    tp_size=1, pp_size=1, num_gpus=1,\n",
    "    partition_activations=True,\n",
    "    zero1=1,\n",
    "    checkpoint_activations=True,\n",
    "    batch_size_per_replicas=1,\n",
    "    \n",
    "    weight_dtype=Datatype.BFLOAT16,\n",
    "    gradient_dtype=Datatype.BFLOAT16,\n",
    "    \n",
    "    optim_first_state_dtype=Datatype.FLOAT32,\n",
    "    optim_second_state_dtype=Datatype.FLOAT32,\n",
    "    master_weight_dtype=Datatype.FLOAT32,\n",
    ")).items()}"
   ]
  },
  {
   "cell_type": "code",
   "execution_count": 2,
   "id": "ec2f3978-ead4-404f-a003-c2dc7ca20032",
   "metadata": {},
   "outputs": [
    {
     "data": {
      "text/plain": [
       "{'Model Memory': '39.865 GB',\n",
       " 'KV Cache Memory': '2.215 GB',\n",
       " 'Gradient Memory': '39.865 GB',\n",
       " 'Activation Memory': '18.824 GB',\n",
       " 'Optimizer Memory': '239.189 GB',\n",
       " 'Communication Memory': '3.000 GB',\n",
       " 'Miscellaneous Memory': '0.000 GB',\n",
       " 'Total Training Memory (GB)': '340.743 GB',\n",
       " 'Total Inference Memory (GB)': '42.079 GB'}"
      ]
     },
     "execution_count": 2,
     "metadata": {},
     "output_type": "execute_result"
    }
   ],
   "source": [
    "{k: convert_bytes_to_gigabytes(v) for k, v in calculate_memory_requirements(\n",
    "    transformer=Transformer(\n",
    "        name=\"x\",\n",
    "        n_layers=44,\n",
    "        hidden_size=6144,\n",
    "        n_heads=64,\n",
    "        n_key_value_heads=64,\n",
    "        ctx_length=2048\n",
    "    ),\n",
    "    config=TrainingConfig(\n",
    "    tp_size=1, pp_size=1, num_gpus=1,\n",
    "    partition_activations=True,\n",
    "    zero1=1,\n",
    "    checkpoint_activations=True,\n",
    "    batch_size_per_replicas=1,\n",
    "    \n",
    "    weight_dtype=Datatype.BFLOAT16,\n",
    "    gradient_dtype=Datatype.BFLOAT16,\n",
    "    \n",
    "    optim_first_state_dtype=Datatype.FLOAT32,\n",
    "    optim_second_state_dtype=Datatype.FLOAT32,\n",
    "    master_weight_dtype=Datatype.FLOAT32,\n",
    ")).items()}"
   ]
  },
  {
   "cell_type": "code",
   "execution_count": null,
   "id": "d3e38b21-e07a-47b0-b8b5-af6e8b669331",
   "metadata": {},
   "outputs": [],
   "source": []
  }
 ],
 "metadata": {
  "kernelspec": {
   "display_name": "Python 3 (ipykernel)",
   "language": "python",
   "name": "python3"
  },
  "language_info": {
   "codemirror_mode": {
    "name": "ipython",
    "version": 3
   },
   "file_extension": ".py",
   "mimetype": "text/x-python",
   "name": "python",
   "nbconvert_exporter": "python",
   "pygments_lexer": "ipython3",
   "version": "3.10.14"
  }
 },
 "nbformat": 4,
 "nbformat_minor": 5
}
