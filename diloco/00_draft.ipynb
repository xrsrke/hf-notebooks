{
 "cells": [
  {
   "cell_type": "code",
   "execution_count": 11,
   "id": "93499f2d-a0c2-4c17-a256-3cee88151f7d",
   "metadata": {},
   "outputs": [],
   "source": [
    "from utils import get_critical_batch_size, convert_to_million_format"
   ]
  },
  {
   "cell_type": "code",
   "execution_count": 12,
   "id": "dbbf4a56-5cb2-4704-be0b-896b3cebf7fc",
   "metadata": {},
   "outputs": [],
   "source": [
    "target_model_sizes = [100*10**9, 500*10**9, 1000*10**9, 10000*10**9, 100000*10**9]\n",
    "\n",
    "[get_critical_batch_size(x) * 4096 for x in target_model_sizes]"
   ]
  },
  {
   "cell_type": "code",
   "execution_count": 13,
   "id": "d4489a4c-1d7b-4b51-ac1a-ea4af1fe8f85",
   "metadata": {},
   "outputs": [
    {
     "data": {
      "text/plain": [
       "[4740703.56033686,\n",
       " 8025570.014198784,\n",
       " 10067990.55408977,\n",
       " 21381727.945469383,\n",
       " 45409090.073922805]"
      ]
     },
     "execution_count": 13,
     "metadata": {},
     "output_type": "execute_result"
    }
   ],
   "source": [
    "[get_critical_batch_size(x) * 4096 for x in target_model_sizes]"
   ]
  },
  {
   "cell_type": "code",
   "execution_count": null,
   "id": "8e8d0bf6-da09-49a5-bd91-e2ab263dd8ae",
   "metadata": {},
   "outputs": [],
   "source": []
  }
 ],
 "metadata": {
  "kernelspec": {
   "display_name": "Python 3 (ipykernel)",
   "language": "python",
   "name": "python3"
  },
  "language_info": {
   "codemirror_mode": {
    "name": "ipython",
    "version": 3
   },
   "file_extension": ".py",
   "mimetype": "text/x-python",
   "name": "python",
   "nbconvert_exporter": "python",
   "pygments_lexer": "ipython3",
   "version": "3.10.14"
  }
 },
 "nbformat": 4,
 "nbformat_minor": 5
}
