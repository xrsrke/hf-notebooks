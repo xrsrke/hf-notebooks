{
 "cells": [
  {
   "cell_type": "code",
   "execution_count": 1,
   "id": "57afd696-626e-4b48-a23e-c0f35164c4d5",
   "metadata": {},
   "outputs": [],
   "source": [
    "from geopy.distance import geodesic, great_circle"
   ]
  },
  {
   "cell_type": "code",
   "execution_count": 2,
   "id": "5ef9a79d-8154-4d0f-98f9-aa2d76a3bd6f",
   "metadata": {},
   "outputs": [],
   "source": [
    "from constants import FRANCE_SUPERCOMPUTERS"
   ]
  },
  {
   "cell_type": "code",
   "execution_count": 3,
   "id": "2307fb47-71b8-478e-915b-f85f46964018",
   "metadata": {},
   "outputs": [],
   "source": [
    "jeanzay_coordinates = FRANCE_SUPERCOMPUTERS[\"JEAN_ZAY\"].coordinate"
   ]
  },
  {
   "cell_type": "code",
   "execution_count": 4,
   "id": "9d4332fa-c6fa-4773-887a-cd97747d35d5",
   "metadata": {},
   "outputs": [
    {
     "data": {
      "text/plain": [
       "(48.7071906, 2.1753469)"
      ]
     },
     "execution_count": 4,
     "metadata": {},
     "output_type": "execute_result"
    }
   ],
   "source": [
    "jeanzay_coordinates"
   ]
  },
  {
   "cell_type": "code",
   "execution_count": 5,
   "id": "d4812ca6-ebf2-4777-a35c-38502fce3a35",
   "metadata": {},
   "outputs": [],
   "source": [
    "joliot_curie_coordinate = FRANCE_SUPERCOMPUTERS[\"JOLIOT_CURIE\"].coordinate"
   ]
  },
  {
   "cell_type": "code",
   "execution_count": 6,
   "id": "4e6e3368-1750-4053-9559-8ce20094d1f0",
   "metadata": {},
   "outputs": [
    {
     "data": {
      "text/plain": [
       "(45.7826699, 4.8626)"
      ]
     },
     "execution_count": 6,
     "metadata": {},
     "output_type": "execute_result"
    }
   ],
   "source": [
    "joliot_curie_coordinate"
   ]
  },
  {
   "cell_type": "code",
   "execution_count": 7,
   "id": "8d8cec77-02f7-435c-b096-7eb991cafef2",
   "metadata": {},
   "outputs": [],
   "source": [
    "def calculate_surface_distance(coord1, coord2):\n",
    "    \"\"\"\n",
    "    Calculate the shortest distance between two points along the Earth's surface.\n",
    "    Uses the great circle distance (orthodromic distance).\n",
    "    \n",
    "    Args:\n",
    "        coord1: Tuple of (latitude, longitude) for first point\n",
    "        coord2: Tuple of (latitude, longitude) for second point\n",
    "        \n",
    "    Returns:\n",
    "        Distance in kilometers\n",
    "    \"\"\"\n",
    "    return great_circle(coord1, coord2).kilometers"
   ]
  },
  {
   "cell_type": "code",
   "execution_count": 8,
   "id": "db01f4c7-62e8-4222-b6ac-c8e788c61577",
   "metadata": {},
   "outputs": [],
   "source": [
    "distance = calculate_distance(jeanzay_coordinates, joliot_curie_coordinate)"
   ]
  },
  {
   "cell_type": "code",
   "execution_count": 9,
   "id": "3eee3803-043d-4870-8311-c70ce4c484b3",
   "metadata": {},
   "outputs": [
    {
     "data": {
      "text/plain": [
       "Distance(383.4820879745782)"
      ]
     },
     "execution_count": 9,
     "metadata": {},
     "output_type": "execute_result"
    }
   ],
   "source": [
    "distance"
   ]
  },
  {
   "cell_type": "code",
   "execution_count": 11,
   "id": "39e21980-52c0-4e03-9b89-faa8de12081f",
   "metadata": {},
   "outputs": [
    {
     "data": {
      "text/plain": [
       "Distance(383.2158429688479)"
      ]
     },
     "execution_count": 11,
     "metadata": {},
     "output_type": "execute_result"
    }
   ],
   "source": [
    "calculate_surface_distance(jeanzay_coordinates, joliot_curie_coordinate)"
   ]
  },
  {
   "cell_type": "code",
   "execution_count": null,
   "id": "0fd52fc7-1b08-4fae-9df0-9f6c123dbacd",
   "metadata": {},
   "outputs": [],
   "source": []
  },
  {
   "cell_type": "code",
   "execution_count": null,
   "id": "8f11ebe9-14ae-4673-9bd1-9cb9f341b45d",
   "metadata": {},
   "outputs": [],
   "source": []
  }
 ],
 "metadata": {
  "kernelspec": {
   "display_name": "Python 3 (ipykernel)",
   "language": "python",
   "name": "python3"
  },
  "language_info": {
   "codemirror_mode": {
    "name": "ipython",
    "version": 3
   },
   "file_extension": ".py",
   "mimetype": "text/x-python",
   "name": "python",
   "nbconvert_exporter": "python",
   "pygments_lexer": "ipython3",
   "version": "3.10.14"
  }
 },
 "nbformat": 4,
 "nbformat_minor": 5
}
