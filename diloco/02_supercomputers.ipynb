{
 "cells": [
  {
   "cell_type": "code",
   "execution_count": 1,
   "id": "57afd696-626e-4b48-a23e-c0f35164c4d5",
   "metadata": {},
   "outputs": [],
   "source": [
    "from geopy.distance import geodesic, great_circle"
   ]
  },
  {
   "cell_type": "code",
   "execution_count": 2,
   "id": "5ef9a79d-8154-4d0f-98f9-aa2d76a3bd6f",
   "metadata": {},
   "outputs": [],
   "source": [
    "from constants import FRANCE_SUPERCOMPUTERS"
   ]
  },
  {
   "cell_type": "code",
   "execution_count": 3,
   "id": "2307fb47-71b8-478e-915b-f85f46964018",
   "metadata": {},
   "outputs": [],
   "source": [
    "jeanzay_coordinates = FRANCE_SUPERCOMPUTERS[\"JEAN_ZAY\"].coordinate"
   ]
  },
  {
   "cell_type": "code",
   "execution_count": 4,
   "id": "9d4332fa-c6fa-4773-887a-cd97747d35d5",
   "metadata": {},
   "outputs": [
    {
     "data": {
      "text/plain": [
       "(48.7071906, 2.1753469)"
      ]
     },
     "execution_count": 4,
     "metadata": {},
     "output_type": "execute_result"
    }
   ],
   "source": [
    "jeanzay_coordinates"
   ]
  },
  {
   "cell_type": "code",
   "execution_count": 5,
   "id": "d4812ca6-ebf2-4777-a35c-38502fce3a35",
   "metadata": {},
   "outputs": [],
   "source": [
    "joliot_curie_coordinate = FRANCE_SUPERCOMPUTERS[\"JOLIOT_CURIE\"].coordinate\n",
    "el_capitan_coordinate = FRANCE_SUPERCOMPUTERS[\"EL_CAPITAN\"].coordinate"
   ]
  },
  {
   "cell_type": "code",
   "execution_count": 7,
   "id": "39e21980-52c0-4e03-9b89-faa8de12081f",
   "metadata": {},
   "outputs": [],
   "source": [
    "jz_to_jc_distance = calculate_surface_distance(jeanzay_coordinates, joliot_curie_coordinate)"
   ]
  },
  {
   "cell_type": "code",
   "execution_count": 8,
   "id": "968db2f0-f85e-4d13-b486-c6147a549cad",
   "metadata": {},
   "outputs": [
    {
     "data": {
      "text/plain": [
       "383.2158429688479"
      ]
     },
     "execution_count": 8,
     "metadata": {},
     "output_type": "execute_result"
    }
   ],
   "source": [
    "jz_to_jc_distance"
   ]
  },
  {
   "cell_type": "code",
   "execution_count": 10,
   "id": "e6bca1c7-f51d-4e6a-98b8-747a25f7cf33",
   "metadata": {},
   "outputs": [],
   "source": [
    "jz_to_ec_distance = calculate_surface_distance(jeanzay_coordinates, el_capitan_coordinate)"
   ]
  },
  {
   "cell_type": "code",
   "execution_count": 11,
   "id": "fcd97d2c-8fca-4da5-b720-3d8a290c7ee1",
   "metadata": {},
   "outputs": [
    {
     "data": {
      "text/plain": [
       "8930.91810836962"
      ]
     },
     "execution_count": 11,
     "metadata": {},
     "output_type": "execute_result"
    }
   ],
   "source": [
    "jz_to_ec_distance"
   ]
  },
  {
   "cell_type": "markdown",
   "id": "bdb0855b-72b3-4efb-9da5-fc054793d9fa",
   "metadata": {},
   "source": [
    "The minimum latency"
   ]
  },
  {
   "cell_type": "code",
   "execution_count": 12,
   "id": "8f11ebe9-14ae-4673-9bd1-9cb9f341b45d",
   "metadata": {},
   "outputs": [],
   "source": [
    "SPEED_OF_LIGHT = 299792 # km/s"
   ]
  },
  {
   "cell_type": "code",
   "execution_count": 13,
   "id": "a2d5914b-66e2-45f1-8d6b-e74fad0d8fdf",
   "metadata": {},
   "outputs": [
    {
     "data": {
      "text/plain": [
       "0.0012782724121018837"
      ]
     },
     "execution_count": 13,
     "metadata": {},
     "output_type": "execute_result"
    }
   ],
   "source": [
    "jz_to_jc_distance / SPEED_OF_LIGHT"
   ]
  },
  {
   "cell_type": "markdown",
   "id": "3ee1e36c-6ddc-41d7-873d-e21ea67997f7",
   "metadata": {},
   "source": [
    "The theoretical limit of latency between JZ and EL CAPITAN"
   ]
  },
  {
   "cell_type": "code",
   "execution_count": 14,
   "id": "fe613444-93d5-45eb-890c-27fa5a0adac1",
   "metadata": {},
   "outputs": [],
   "source": [
    "minimum_latency_between_jz_and_jc = jz_to_jc_distance / SPEED_OF_LIGHT"
   ]
  },
  {
   "cell_type": "code",
   "execution_count": 15,
   "id": "78fd3f30-8248-4d7c-9208-eedab7f31f26",
   "metadata": {},
   "outputs": [],
   "source": [
    "minimum_latency_between_jz_and_ec = jz_to_ec_distance / SPEED_OF_LIGHT"
   ]
  },
  {
   "cell_type": "code",
   "execution_count": 16,
   "id": "4266b41a-6bf5-4cec-bbba-d796cdb66910",
   "metadata": {},
   "outputs": [
    {
     "data": {
      "text/plain": [
       "0.029790381692538895"
      ]
     },
     "execution_count": 16,
     "metadata": {},
     "output_type": "execute_result"
    }
   ],
   "source": [
    "minimum_latency_between_jz_and_ec"
   ]
  },
  {
   "cell_type": "code",
   "execution_count": null,
   "id": "ddafdebc-d0f3-4df0-9624-63c807ba6719",
   "metadata": {},
   "outputs": [],
   "source": [
    "# def compute_minimum_latency_between_clusters(cluster_1_name, cluster_2_name):\n",
    "#     cluster_1_coordinate = FRANCE_SUPERCOMPUTERS[cluster_1_name].coordinate\n",
    "#     cluster_2_coordinate = FRANCE_SUPERCOMPUTERS[cluster_2_name].coordinate\n",
    "#     distance = calculate_surface_distance(cluster_1_coordinate, cluster_2_coordinate)\n",
    "#     minimum_latency = distance / SPEED_OF_LIGHT\n",
    "#     return minimum_latency"
   ]
  },
  {
   "cell_type": "markdown",
   "id": "b5cc8df4-04fb-4fea-a1be-4e7ef07dd3b3",
   "metadata": {},
   "source": [
    "##### 100T"
   ]
  },
  {
   "cell_type": "code",
   "execution_count": 17,
   "id": "3346bf0b-9025-4c34-b0f0-dad1c670fde9",
   "metadata": {},
   "outputs": [],
   "source": [
    "from utils import convert_seconds_to_days, convert_seconds_to_years, convert_to_xt_format"
   ]
  },
  {
   "cell_type": "code",
   "execution_count": 18,
   "id": "ab37b210-0ebf-41e5-acc5-9d8c827cb97d",
   "metadata": {},
   "outputs": [],
   "source": [
    "total_min_com_latency_between_jz_and_ec = 50000000.0 * minimum_latency_between_jz_and_ec"
   ]
  },
  {
   "cell_type": "code",
   "execution_count": 19,
   "id": "bf1c5028-5840-4917-9dc2-76c0d08d3ddd",
   "metadata": {},
   "outputs": [
    {
     "data": {
      "text/plain": [
       "'17.240 days'"
      ]
     },
     "execution_count": 19,
     "metadata": {},
     "output_type": "execute_result"
    }
   ],
   "source": [
    "convert_seconds_to_days(total_min_com_latency_between_jz_and_ec)"
   ]
  },
  {
   "cell_type": "markdown",
   "id": "7393f7a6-9599-4395-aba0-dcfbe0493a9b",
   "metadata": {},
   "source": [
    "How many hours of GPU idle?"
   ]
  },
  {
   "cell_type": "code",
   "execution_count": 20,
   "id": "674852e2-e550-468d-a7ea-0c929543e607",
   "metadata": {},
   "outputs": [],
   "source": [
    "total_gpu_idles_between_jz_and_ec = total_min_com_latency_between_jz_and_ec * 44121702 # seconds"
   ]
  },
  {
   "cell_type": "code",
   "execution_count": 21,
   "id": "950775fb-d63c-49c9-8446-1d3e8d48156e",
   "metadata": {},
   "outputs": [
    {
     "data": {
      "text/plain": [
       "'2082544.844 years'"
      ]
     },
     "execution_count": 21,
     "metadata": {},
     "output_type": "execute_result"
    }
   ],
   "source": [
    "convert_seconds_to_years(total_gpu_idles_between_jz_and_ec)"
   ]
  },
  {
   "cell_type": "markdown",
   "id": "66d6903e-09c7-413e-9bd1-a0b73a235135",
   "metadata": {},
   "source": [
    "How many dollars? (assume 2 dollar per hrs)"
   ]
  },
  {
   "cell_type": "code",
   "execution_count": 22,
   "id": "8b07fd8a-d83c-48fb-8c23-dd2f9d28bd2d",
   "metadata": {},
   "outputs": [],
   "source": [
    "total_gpu_idles_between_jz_and_ec_in_dollars = 2 * (total_gpu_idles_between_jz_and_ec / 60)"
   ]
  },
  {
   "cell_type": "code",
   "execution_count": 23,
   "id": "d45f44aa-f4fb-4072-9c08-66c968c81686",
   "metadata": {},
   "outputs": [
    {
     "data": {
      "text/plain": [
       "'2.2T'"
      ]
     },
     "execution_count": 23,
     "metadata": {},
     "output_type": "execute_result"
    }
   ],
   "source": [
    "convert_to_xt_format(total_gpu_idles_between_jz_and_ec_in_dollars)"
   ]
  },
  {
   "cell_type": "markdown",
   "id": "2f0a64ee-6afb-46ac-8dc0-906aa3fe2a83",
   "metadata": {},
   "source": [
    "##### 1T"
   ]
  },
  {
   "cell_type": "code",
   "execution_count": 24,
   "id": "a92af62c-0947-4107-9675-d863e29db269",
   "metadata": {},
   "outputs": [
    {
     "data": {
      "text/plain": [
       "'208.254 years'"
      ]
     },
     "execution_count": 24,
     "metadata": {},
     "output_type": "execute_result"
    }
   ],
   "source": [
    "# num steps, num gpus\n",
    "convert_seconds_to_years((500000 * minimum_latency_between_jz_and_ec) * 441217)"
   ]
  },
  {
   "cell_type": "code",
   "execution_count": 26,
   "id": "e521e545-743c-4058-9f09-6474941d6461",
   "metadata": {},
   "outputs": [
    {
     "data": {
      "text/plain": [
       "'8.936 years'"
      ]
     },
     "execution_count": 26,
     "metadata": {},
     "output_type": "execute_result"
    }
   ],
   "source": [
    "# num steps, num gpus\n",
    "convert_seconds_to_years((500000 * minimum_latency_between_jz_and_jc) * 441217)"
   ]
  },
  {
   "cell_type": "code",
   "execution_count": 32,
   "id": "6df64da9-19c4-48c2-b14b-f136f099fa8c",
   "metadata": {},
   "outputs": [
    {
     "data": {
      "text/plain": [
       "9399925.314172614"
      ]
     },
     "execution_count": 32,
     "metadata": {},
     "output_type": "execute_result"
    }
   ],
   "source": [
    "((2 * (500000 * minimum_latency_between_jz_and_jc) * 441217) / 60) # 9B"
   ]
  },
  {
   "cell_type": "code",
   "execution_count": null,
   "id": "819d1e14-e0f6-4dc3-8d45-c1a79e2de99a",
   "metadata": {},
   "outputs": [],
   "source": []
  }
 ],
 "metadata": {
  "kernelspec": {
   "display_name": "Python 3 (ipykernel)",
   "language": "python",
   "name": "python3"
  },
  "language_info": {
   "codemirror_mode": {
    "name": "ipython",
    "version": 3
   },
   "file_extension": ".py",
   "mimetype": "text/x-python",
   "name": "python",
   "nbconvert_exporter": "python",
   "pygments_lexer": "ipython3",
   "version": "3.10.14"
  }
 },
 "nbformat": 4,
 "nbformat_minor": 5
}
