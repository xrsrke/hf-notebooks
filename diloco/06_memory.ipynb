{
 "cells": [
  {
   "cell_type": "code",
   "execution_count": 1,
   "id": "4773bc69-9c7f-4d32-b13d-bd8d076e3e32",
   "metadata": {},
   "outputs": [],
   "source": [
    "from utils import calculate_weight_memory, calculate_kv_cache\n",
    "from utils import convert_bytes_to_gigabytes, convert_bytes_to_megabytes\n",
    "from constants import LLAMA3_400B_CONFIG\n",
    "from name import TrainingConfig, Datatype, Transformer\n",
    "from transformer_mem_functional import calculate_memory_requirements"
   ]
  },
  {
   "cell_type": "code",
   "execution_count": 5,
   "id": "12f8c1b0-3b31-46b3-b120-aa9dfec33429",
   "metadata": {},
   "outputs": [
    {
     "data": {
      "text/plain": [
       "Transformer(name='llama3 405B', n_layers=126, hidden_size=16384, n_heads=128, n_key_value_heads=8, ctx_length=8192)"
      ]
     },
     "execution_count": 5,
     "metadata": {},
     "output_type": "execute_result"
    }
   ],
   "source": [
    "LLAMA3_400B_CONFIG"
   ]
  },
  {
   "cell_type": "code",
   "execution_count": 8,
   "id": "182b886e-8058-4414-aa16-83d023636f30",
   "metadata": {},
   "outputs": [],
   "source": [
    "training_config = TrainingConfig(\n",
    "    tp_size=1, pp_size=1, num_gpus=1,\n",
    "    partition_activations=False, zero1=0,\n",
    "    checkpoint_activations=False,\n",
    "    batch_size_per_replicas=1,\n",
    "    weight_dtype=Datatype.BFLOAT16,\n",
    "    gradient_dtype=Datatype.BFLOAT16\n",
    ")"
   ]
  },
  {
   "cell_type": "code",
   "execution_count": 9,
   "id": "3c12bd39-fcaa-45a1-84f4-29724ec06a2c",
   "metadata": {},
   "outputs": [
    {
     "data": {
      "text/plain": [
       "{'Model Memory': 756.015380859375,\n",
       " 'KV Cache Memory': 63.0,\n",
       " 'Gradient Memory': 756.015380859375,\n",
       " 'Activation Memory': 5575.5,\n",
       " 'Optimizer Memory': 4536.09228515625,\n",
       " 'Communication Memory': 0.0,\n",
       " 'Miscellaneous Memory': 0.0,\n",
       " 'Total Training Memory (GB)': 11623.623046875,\n",
       " 'Total Inference Memory (GB)': 819.015380859375}"
      ]
     },
     "execution_count": 9,
     "metadata": {},
     "output_type": "execute_result"
    }
   ],
   "source": [
    "calculate_memory_requirements(transformer=LLAMA3_400B_CONFIG, config=training_config)"
   ]
  },
  {
   "cell_type": "code",
   "execution_count": 7,
   "id": "9b06eedd-5eef-4655-b669-6b28a66e01b1",
   "metadata": {},
   "outputs": [
    {
     "data": {
      "text/plain": [
       "{'Model Memory': 39864827904.0,\n",
       " 'KV Cache Memory': 2214592512.0,\n",
       " 'Gradient Memory': 39864827904.0,\n",
       " 'Activation Memory': 18824036352.0,\n",
       " 'Optimizer Memory': 159459311616.0,\n",
       " 'Communication Memory': 3000000000.0,\n",
       " 'Miscellaneous Memory': 0,\n",
       " 'Total Training Memory (GB)': 261013003776.0,\n",
       " 'Total Inference Memory (GB)': 42079420416.0}"
      ]
     },
     "execution_count": 7,
     "metadata": {},
     "output_type": "execute_result"
    }
   ],
   "source": [
    "calculate_memory_requirements(\n",
    "    transformer=Transformer(\n",
    "        name=\"x\",\n",
    "        n_layers=44,\n",
    "        hidden_size=6144,\n",
    "        n_heads=64,\n",
    "        n_key_value_heads=64,\n",
    "        ctx_length=2048\n",
    "    ),\n",
    "    config=TrainingConfig(\n",
    "    tp_size=1, pp_size=1, num_gpus=1,\n",
    "    partition_activations=True, zero1=1,\n",
    "    checkpoint_activations=True,\n",
    "    batch_size_per_replicas=1,\n",
    "    weight_dtype=Datatype.BFLOAT16,\n",
    "    gradient_dtype=Datatype.BFLOAT16,\n",
    "    optim_first_state_dtype=Datatype.FLOAT32,\n",
    "    optim_second_state_dtype=Datatype.FLOAT32\n",
    "))"
   ]
  },
  {
   "cell_type": "code",
   "execution_count": 9,
   "id": "06cd3236-169e-4f7e-b348-860adafd057d",
   "metadata": {},
   "outputs": [
    {
     "data": {
      "text/plain": [
       "{'Model Memory': '39.865 GB',\n",
       " 'KV Cache Memory': '2.215 GB',\n",
       " 'Gradient Memory': '39.865 GB',\n",
       " 'Activation Memory': '18.824 GB',\n",
       " 'Optimizer Memory': '159.459 GB',\n",
       " 'Communication Memory': '3.000 GB',\n",
       " 'Miscellaneous Memory': '0.000 GB',\n",
       " 'Total Training Memory (GB)': '261.013 GB',\n",
       " 'Total Inference Memory (GB)': '42.079 GB'}"
      ]
     },
     "execution_count": 9,
     "metadata": {},
     "output_type": "execute_result"
    }
   ],
   "source": [
    "{k: convert_bytes_to_gigabytes(v) for k, v in calculate_memory_requirements(\n",
    "    transformer=Transformer(\n",
    "        name=\"x\",\n",
    "        n_layers=44,\n",
    "        hidden_size=6144,\n",
    "        n_heads=64,\n",
    "        n_key_value_heads=64,\n",
    "        ctx_length=2048\n",
    "    ),\n",
    "    config=TrainingConfig(\n",
    "    tp_size=1, pp_size=1, num_gpus=1,\n",
    "    partition_activations=True, zero1=1,\n",
    "    checkpoint_activations=True,\n",
    "    batch_size_per_replicas=1,\n",
    "    weight_dtype=Datatype.BFLOAT16,\n",
    "    gradient_dtype=Datatype.BFLOAT16,\n",
    "    optim_first_state_dtype=Datatype.FLOAT32,\n",
    "    optim_second_state_dtype=Datatype.FLOAT32\n",
    ")).items()}"
   ]
  },
  {
   "cell_type": "code",
   "execution_count": 6,
   "id": "00472762-d989-4bea-891d-fe8992db984a",
   "metadata": {},
   "outputs": [
    {
     "data": {
      "text/plain": [
       "{'Model Memory': '811.765 GB',\n",
       " 'KV Cache Memory': '67.646 GB',\n",
       " 'Gradient Memory': '811.765 GB',\n",
       " 'Activation Memory': '574.989 GB',\n",
       " 'Optimizer Memory': '3247.061 GB',\n",
       " 'Communication Memory': '3.000 GB',\n",
       " 'Miscellaneous Memory': '0.000 GB',\n",
       " 'Total Training Memory (GB)': '5448.581 GB',\n",
       " 'Total Inference Memory (GB)': '879.411 GB'}"
      ]
     },
     "execution_count": 6,
     "metadata": {},
     "output_type": "execute_result"
    }
   ],
   "source": [
    "{k: convert_bytes_to_gigabytes(v) for k, v in calculate_memory_requirements(\n",
    "    transformer=LLAMA3_400B_CONFIG,\n",
    "    config=TrainingConfig(\n",
    "    tp_size=1, pp_size=1, num_gpus=1,\n",
    "    partition_activations=True, zero1=1,\n",
    "    checkpoint_activations=True,\n",
    "    batch_size_per_replicas=1,\n",
    "    weight_dtype=Datatype.BFLOAT16,\n",
    "    gradient_dtype=Datatype.BFLOAT16,\n",
    "    optim_first_state_dtype=Datatype.FLOAT32,\n",
    "    optim_second_state_dtype=Datatype.FLOAT32\n",
    ")).items()}"
   ]
  },
  {
   "cell_type": "code",
   "execution_count": 5,
   "id": "93bf70d6-53b6-445d-a0ae-1bf2ac922c8a",
   "metadata": {},
   "outputs": [
    {
     "data": {
      "text/plain": [
       "dict_items([('Model Memory', 811765334016.0), ('KV Cache Memory', 67645734912.0), ('Gradient Memory', 811765334016.0), ('Activation Memory', 574988746752.0), ('Optimizer Memory', 3247061336064.0), ('Communication Memory', 3000000000.0), ('Miscellaneous Memory', 0), ('Total Training Memory (GB)', 5448580750848.0), ('Total Inference Memory (GB)', 879411068928.0)])"
      ]
     },
     "execution_count": 5,
     "metadata": {},
     "output_type": "execute_result"
    }
   ],
   "source": [
    "calculate_memory_requirements(\n",
    "    transformer=LLAMA3_400B_CONFIG,\n",
    "    config=TrainingConfig(\n",
    "    tp_size=1, pp_size=1, num_gpus=1,\n",
    "    partition_activations=True, zero1=1,\n",
    "    checkpoint_activations=True,\n",
    "    batch_size_per_replicas=1,\n",
    "    weight_dtype=Datatype.BFLOAT16,\n",
    "    gradient_dtype=Datatype.BFLOAT16,\n",
    "    optim_first_state_dtype=Datatype.FLOAT32,\n",
    "    optim_second_state_dtype=Datatype.FLOAT32\n",
    ")).items()"
   ]
  },
  {
   "cell_type": "code",
   "execution_count": null,
   "id": "ca2bce61-1dff-4b98-a224-0d6ee1cc3de2",
   "metadata": {},
   "outputs": [],
   "source": []
  }
 ],
 "metadata": {
  "kernelspec": {
   "display_name": "Python 3 (ipykernel)",
   "language": "python",
   "name": "python3"
  },
  "language_info": {
   "codemirror_mode": {
    "name": "ipython",
    "version": 3
   },
   "file_extension": ".py",
   "mimetype": "text/x-python",
   "name": "python",
   "nbconvert_exporter": "python",
   "pygments_lexer": "ipython3",
   "version": "3.10.14"
  }
 },
 "nbformat": 4,
 "nbformat_minor": 5
}
