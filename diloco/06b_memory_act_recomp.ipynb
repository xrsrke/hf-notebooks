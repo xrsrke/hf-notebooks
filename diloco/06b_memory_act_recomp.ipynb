{
 "cells": [
  {
   "cell_type": "code",
   "execution_count": 2,
   "id": "70a0290b-2d5b-4c08-ab27-9b7171f68e3d",
   "metadata": {},
   "outputs": [],
   "source": [
    "from utils import calculate_weight_memory, calculate_kv_cache\n",
    "from utils import convert_bytes_to_gigabytes, convert_bytes_to_megabytes\n",
    "from name import TrainingConfig, Datatype, Transformer\n",
    "from transformer_mem_functional import calculate_memory_requirements\n",
    "from constants import LLAMA3_70B_CONFIG, LLAMA3_400B_CONFIG, VANILA_TRAINING_CONFIG, H100_MEMORY, A100_MEMORY, V100_MEMORY, MI250X_MEMORY\n",
    "from constants import VANILA_TRAINING_CONFIG_WITH_ACC_RECOMP"
   ]
  },
  {
   "cell_type": "code",
   "execution_count": 3,
   "id": "05aeefb4-d397-4058-b3b9-d8640f392b6d",
   "metadata": {},
   "outputs": [
    {
     "data": {
      "text/plain": [
       "TrainingConfig(tp_size=1, pp_size=1, num_gpus=1, ctx_length=8192, partition_activations=False, zero1=1, checkpoint_activations=True, batch_size_per_replicas=1, weight_dtype=<Datatype.BFLOAT16: 2>, act_dtype=<Datatype.BFLOAT16: 2>, gradient_dtype=<Datatype.BFLOAT16: 2>, optim_first_state_dtype=<Datatype.FLOAT32: 1>, optim_second_state_dtype=<Datatype.FLOAT32: 1>, master_weight_dtype=<Datatype.FLOAT32: 1>)"
      ]
     },
     "execution_count": 3,
     "metadata": {},
     "output_type": "execute_result"
    }
   ],
   "source": [
    "VANILA_TRAINING_CONFIG_WITH_ACC_RECOMP"
   ]
  },
  {
   "cell_type": "code",
   "execution_count": 4,
   "id": "8b763691-47bd-4a6c-a389-9b0f22ee236d",
   "metadata": {},
   "outputs": [
    {
     "data": {
      "text/plain": [
       "{'model_mem': (128854261760.0, 10.62),\n",
       " 'activation_mem': (182536110080.0, 15.04),\n",
       " 'kv_cache_mem': (21474836480.0, 0),\n",
       " 'grad_mem': (128854261760.0, 10.62),\n",
       " 'optim_mem': (773125570560.0, 63.72),\n",
       " 'total_training_mem': (1213370204160.0, 100),\n",
       " 'total_inference_mem': (150329098240.0, 0)}"
      ]
     },
     "execution_count": 4,
     "metadata": {},
     "output_type": "execute_result"
    }
   ],
   "source": [
    "calculate_memory_requirements(\n",
    "    transformer=LLAMA3_70B_CONFIG,\n",
    "    config=VANILA_TRAINING_CONFIG_WITH_ACC_RECOMP\n",
    ")"
   ]
  },
  {
   "cell_type": "code",
   "execution_count": null,
   "id": "46240276-df7f-412a-b69c-b4dbf23c47f2",
   "metadata": {},
   "outputs": [],
   "source": []
  }
 ],
 "metadata": {
  "kernelspec": {
   "display_name": "Python 3 (ipykernel)",
   "language": "python",
   "name": "python3"
  },
  "language_info": {
   "codemirror_mode": {
    "name": "ipython",
    "version": 3
   },
   "file_extension": ".py",
   "mimetype": "text/x-python",
   "name": "python",
   "nbconvert_exporter": "python",
   "pygments_lexer": "ipython3",
   "version": "3.10.14"
  }
 },
 "nbformat": 4,
 "nbformat_minor": 5
}
