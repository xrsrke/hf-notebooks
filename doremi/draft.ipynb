{
 "cells": [
  {
   "cell_type": "code",
   "execution_count": 3,
   "id": "c7f44cb7-bcd7-4cbe-a6eb-84762ae5e80f",
   "metadata": {},
   "outputs": [],
   "source": [
    "import torch"
   ]
  },
  {
   "cell_type": "code",
   "execution_count": 4,
   "id": "b9f3eb60-77b5-4688-a2c8-2e17f8fc6b5c",
   "metadata": {},
   "outputs": [],
   "source": [
    "global_batch_size = 512"
   ]
  },
  {
   "cell_type": "code",
   "execution_count": 5,
   "id": "9dfd40e7-6112-4808-b677-91a386151023",
   "metadata": {},
   "outputs": [],
   "source": [
    "domain_weights = torch.tensor([0.00019, 0.00010, 0.99804, 0.00012, 0.00017, 0.00013, 0.00010, 0.00012, 0.00014, 0.00013, 0.00013, 0.00019, 0.00013, 0.00009, 0.00009, 0.00012]) "
   ]
  },
  {
   "cell_type": "code",
   "execution_count": 8,
   "id": "191a3b73-b6e5-45a3-81cf-42571a2750d0",
   "metadata": {},
   "outputs": [
    {
     "data": {
      "text/plain": [
       "[0, 0, 511, 0, 0, 0, 0, 0, 0, 0, 0, 0, 0, 0, 0, 0]"
      ]
     },
     "execution_count": 8,
     "metadata": {},
     "output_type": "execute_result"
    }
   ],
   "source": [
    "[round(global_batch_size * weight.item()) for weight in domain_weights]"
   ]
  },
  {
   "cell_type": "code",
   "execution_count": null,
   "id": "89dff5a1-03a8-456f-a319-4a43e9186396",
   "metadata": {},
   "outputs": [],
   "source": []
  },
  {
   "cell_type": "code",
   "execution_count": null,
   "id": "96f9db43-27e1-41de-bb27-d2ee6472b421",
   "metadata": {},
   "outputs": [],
   "source": []
  },
  {
   "cell_type": "code",
   "execution_count": 14,
   "id": "bc23b971-2622-4784-9750-73bd220f4cd1",
   "metadata": {},
   "outputs": [],
   "source": [
    "def calculate_new_index(original_index, num_sample_per_dataset, num_datasets):\n",
    "    dataset_number = original_index % num_datasets\n",
    "    position_within_dataset = original_index // num_datasets\n",
    "    new_index = dataset_number * num_sample_per_dataset + position_within_dataset\n",
    "    return new_index"
   ]
  },
  {
   "cell_type": "code",
   "execution_count": 19,
   "id": "8cfb0a16-67ea-43f6-b896-d117b1449126",
   "metadata": {},
   "outputs": [],
   "source": [
    "def calculate_original_index(new_index, num_sample_per_dataset, num_datasets):\n",
    "    dataset_number = new_index // num_sample_per_dataset\n",
    "    position_within_dataset = new_index % num_sample_per_dataset\n",
    "    original_index = position_within_dataset * num_datasets + dataset_number\n",
    "    return original_index"
   ]
  },
  {
   "cell_type": "code",
   "execution_count": 18,
   "id": "8893f69d-608a-4796-9219-f889f41dfe7c",
   "metadata": {},
   "outputs": [
    {
     "data": {
      "text/plain": [
       "300"
      ]
     },
     "execution_count": 18,
     "metadata": {},
     "output_type": "execute_result"
    }
   ],
   "source": [
    "calculate_new_index(3, num_sample_per_dataset=100, num_datasets=5)"
   ]
  },
  {
   "cell_type": "code",
   "execution_count": 24,
   "id": "a98116bc-907b-401f-8bd3-3af338b99a1a",
   "metadata": {},
   "outputs": [
    {
     "data": {
      "text/plain": [
       "15"
      ]
     },
     "execution_count": 24,
     "metadata": {},
     "output_type": "execute_result"
    }
   ],
   "source": [
    "calculate_original_index(3, num_sample_per_dataset=100, num_datasets=5)"
   ]
  },
  {
   "cell_type": "code",
   "execution_count": 25,
   "id": "f8e266d2-a976-413d-a3d9-e85c452ce6b2",
   "metadata": {},
   "outputs": [
    {
     "data": {
      "text/plain": [
       "512"
      ]
     },
     "execution_count": 25,
     "metadata": {},
     "output_type": "execute_result"
    }
   ],
   "source": [
    "sum([1, 27, 1, 1, 1, 11, 29, 22, 1, 1, 1, 0, 0, 144, 271, 1])"
   ]
  },
  {
   "cell_type": "code",
   "execution_count": 27,
   "id": "dd1758bb-4e32-4acf-adfd-de2f71f19902",
   "metadata": {},
   "outputs": [
    {
     "data": {
      "text/plain": [
       "512"
      ]
     },
     "execution_count": 27,
     "metadata": {},
     "output_type": "execute_result"
    }
   ],
   "source": [
    "sum([1, 1, 1, 1, 1, 389, 1, 1, 1, 1, 1, 1, 1, 1, 109, 1])"
   ]
  },
  {
   "cell_type": "code",
   "execution_count": 30,
   "id": "5e2ba8dd-0a6e-4eba-9fa5-fbf7c05822ea",
   "metadata": {},
   "outputs": [
    {
     "data": {
      "text/plain": [
       "512"
      ]
     },
     "execution_count": 30,
     "metadata": {},
     "output_type": "execute_result"
    }
   ],
   "source": [
    "sum([1, 1, 1, 1, 1, 379, 0, 1, 1, 1, 1, 1, 1, 1, 120, 1])"
   ]
  },
  {
   "cell_type": "code",
   "execution_count": null,
   "id": "f5a6ce94-4766-468c-b091-e28c8629fc32",
   "metadata": {},
   "outputs": [],
   "source": []
  }
 ],
 "metadata": {
  "kernelspec": {
   "display_name": "Python 3 (ipykernel)",
   "language": "python",
   "name": "python3"
  },
  "language_info": {
   "codemirror_mode": {
    "name": "ipython",
    "version": 3
   },
   "file_extension": ".py",
   "mimetype": "text/x-python",
   "name": "python",
   "nbconvert_exporter": "python",
   "pygments_lexer": "ipython3",
   "version": "3.8.18"
  }
 },
 "nbformat": 4,
 "nbformat_minor": 5
}
