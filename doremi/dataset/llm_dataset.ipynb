{
 "cells": [
  {
   "cell_type": "code",
   "execution_count": 104,
   "id": "9f06a3e3-7cc1-478a-97b8-f5b2bed86674",
   "metadata": {},
   "outputs": [],
   "source": [
    "# raw_datasets = [\n",
    "#     (\"stack_full\", 300006286251),\n",
    "#     (\"fineweb/CC-MAIN-2023-50\", 299918912908),\n",
    "#     (\"fineweb/CC-MAIN-2023-40\", 234577593868),\n",
    "#     (\"c4\", 174635677947),\n",
    "#     (\"fineweb/CC-MAIN-2023-23\", 159795454845),\n",
    "#     (\"fineweb/CC-MAIN-2023-14\", 124908970667),\n",
    "#     (\"fineweb/CC-MAIN-2023-06\", 91084249541),\n",
    "#     (\"fineweb/CC-MAIN-2022-49\", 84783043327),\n",
    "#     (\"fineweb/CC-MAIN-2022-27\", 74920986479),\n",
    "#     (\"fineweb/CC-MAIN-2022-33\", 73033112530),\n",
    "#     (\"fineweb/CC-MAIN-2022-05\", 61205145838),\n",
    "#     (\"arxiv\", 30328913436),\n",
    "#     (\"synthetic-data\", 28596897142),\n",
    "#     (\"stack-pull-requests\", 20341817979),\n",
    "#     (\"stack-jupyter-scripts\", 16944691904),\n",
    "#     (\"stack-jupyter-structured\", 15298112220),\n",
    "#     (\"open-web-math\", 14011668716),\n",
    "#     (\"stack-issues\", 11380942372),\n",
    "#     (\"stackoverflow\", 10370972771),\n",
    "#     (\"wikipedia\", 5341954858),\n",
    "#     (\"project-gutenberg\", 4953685397),\n",
    "#     (\"deepmind-math\", 4837141843),\n",
    "#     (\"stack-kaggle-scripts\", 1726142721),\n",
    "#     (\"stack-documentation\", 1656392322),\n",
    "# ]"
   ]
  },
  {
   "cell_type": "markdown",
   "id": "bcc6d342-6bea-4613-8692-19ce00b0daaa",
   "metadata": {},
   "source": [
    "#### Total number of tokens in fineweb"
   ]
  },
  {
   "cell_type": "code",
   "execution_count": 105,
   "id": "2827f642-bc10-49ba-8108-f5c4ba69e6b3",
   "metadata": {},
   "outputs": [],
   "source": [
    "fineweb_datasets = [\n",
    "    (\"fineweb/CC-MAIN-2023-50\", 299918912908),\n",
    "    (\"fineweb/CC-MAIN-2023-40\", 234577593868),\n",
    "    (\"fineweb/CC-MAIN-2023-23\", 159795454845),\n",
    "    (\"fineweb/CC-MAIN-2023-14\", 124908970667),\n",
    "    (\"fineweb/CC-MAIN-2023-06\", 91084249541),\n",
    "    (\"fineweb/CC-MAIN-2022-49\", 84783043327),\n",
    "    (\"fineweb/CC-MAIN-2022-27\", 74920986479),\n",
    "    (\"fineweb/CC-MAIN-2022-33\", 73033112530),\n",
    "    (\"fineweb/CC-MAIN-2022-05\", 61205145838),\n",
    "]"
   ]
  },
  {
   "cell_type": "code",
   "execution_count": 106,
   "id": "ddd33dd7-ec6e-492a-b406-e8cc5bc485df",
   "metadata": {},
   "outputs": [],
   "source": [
    "fineweb_total_tokens = sum([x for _, x in fineweb_datasets])"
   ]
  },
  {
   "cell_type": "markdown",
   "id": "8670fe80-250a-4ff5-801f-482cde5f4adb",
   "metadata": {},
   "source": [
    "### Data distribution based on token count"
   ]
  },
  {
   "cell_type": "code",
   "execution_count": 107,
   "id": "16467aaf-4378-47ab-aef9-62028699aced",
   "metadata": {
    "scrolled": true
   },
   "outputs": [
    {
     "data": {
      "text/plain": [
       "{'stack_full': 300006286251,\n",
       " 'fineweb': 1204227470003,\n",
       " 'c4': 174635677947,\n",
       " 'arxiv': 30328913436,\n",
       " 'synthetic-data': 28596897142,\n",
       " 'stack-pull-requests': 20341817979,\n",
       " 'stack-jupyter-scripts': 16944691904,\n",
       " 'stack-jupyter-structured': 15298112220,\n",
       " 'open-web-math': 14011668716,\n",
       " 'stack-issues': 11380942372,\n",
       " 'stackoverflow': 10370972771,\n",
       " 'wikipedia': 5341954858,\n",
       " 'project-gutenberg': 4953685397,\n",
       " 'deepmind-math': 4837141843,\n",
       " 'stack-kaggle-scripts': 1726142721,\n",
       " 'stack-documentation': 1656392322}"
      ]
     },
     "execution_count": 107,
     "metadata": {},
     "output_type": "execute_result"
    }
   ],
   "source": [
    "# source: https://huggingface.slack.com/archives/C06F8VDSF37/p1708173629417409?thread_ts=1708035008.026629&cid=C06F8VDSF37\n",
    "datasets = [\n",
    "    (\"stack_full\", 300006286251),\n",
    "    (\"fineweb\", fineweb_total_tokens),\n",
    "    (\"c4\", 174635677947),\n",
    "    (\"arxiv\", 30328913436),\n",
    "    (\"synthetic-data\", 28596897142),\n",
    "    (\"stack-pull-requests\", 20341817979),\n",
    "    (\"stack-jupyter-scripts\", 16944691904),\n",
    "    (\"stack-jupyter-structured\", 15298112220),\n",
    "    (\"open-web-math\", 14011668716),\n",
    "    (\"stack-issues\", 11380942372),\n",
    "    (\"stackoverflow\", 10370972771),\n",
    "    (\"wikipedia\", 5341954858),\n",
    "    (\"project-gutenberg\", 4953685397),\n",
    "    (\"deepmind-math\", 4837141843),\n",
    "    (\"stack-kaggle-scripts\", 1726142721),\n",
    "    (\"stack-documentation\", 1656392322),\n",
    "]\n",
    "\n",
    "# Convert to a dictionary\n",
    "dataset_dict = {name: tokens for name, tokens in datasets}\n",
    "\n",
    "dataset_dict"
   ]
  },
  {
   "cell_type": "code",
   "execution_count": 108,
   "id": "5a5f9ec1-ffba-43c8-9fa1-d97fd7dc0ddc",
   "metadata": {},
   "outputs": [],
   "source": [
    "total_num_tokens = sum([x for x in dataset_dict.values()])"
   ]
  },
  {
   "cell_type": "code",
   "execution_count": 109,
   "id": "14c9f019-5f77-4d27-9c59-3243f92ee954",
   "metadata": {},
   "outputs": [
    {
     "data": {
      "text/plain": [
       "1844658767882"
      ]
     },
     "execution_count": 109,
     "metadata": {},
     "output_type": "execute_result"
    }
   ],
   "source": [
    "total_num_tokens"
   ]
  },
  {
   "cell_type": "code",
   "execution_count": 110,
   "id": "757fabdc-2c08-4b57-8a3b-2e3417c6206c",
   "metadata": {},
   "outputs": [],
   "source": [
    "weights = {name: num_tokens / total_num_tokens for name, num_tokens in dataset_dict.items()}"
   ]
  },
  {
   "cell_type": "code",
   "execution_count": 111,
   "id": "938cdfd0-9fa1-44ab-bc81-1ed8861f64a2",
   "metadata": {},
   "outputs": [
    {
     "data": {
      "text/plain": [
       "{'stack_full': 0.16263511250672186,\n",
       " 'fineweb': 0.6528185542877774,\n",
       " 'c4': 0.09467099334990459,\n",
       " 'arxiv': 0.0164414763120786,\n",
       " 'synthetic-data': 0.01550254043723999,\n",
       " 'stack-pull-requests': 0.011027415115022095,\n",
       " 'stack-jupyter-scripts': 0.009185813766226018,\n",
       " 'stack-jupyter-structured': 0.00829319356314609,\n",
       " 'open-web-math': 0.0075958052296511815,\n",
       " 'stack-issues': 0.006169673529954469,\n",
       " 'stackoverflow': 0.005622163270287513,\n",
       " 'wikipedia': 0.0028959040831890684,\n",
       " 'project-gutenberg': 0.0026854210021118007,\n",
       " 'deepmind-math': 0.00262224207925128,\n",
       " 'stack-kaggle-scripts': 0.0009357517775398223,\n",
       " 'stack-documentation': 0.0008979396898982224}"
      ]
     },
     "execution_count": 111,
     "metadata": {},
     "output_type": "execute_result"
    }
   ],
   "source": [
    "weights"
   ]
  },
  {
   "cell_type": "code",
   "execution_count": 112,
   "id": "d4555d81-7c4f-45e1-9fa6-abdf371e83ab",
   "metadata": {},
   "outputs": [
    {
     "data": {
      "text/plain": [
       "[('fineweb', 0.6528185542877774),\n",
       " ('stack_full', 0.16263511250672186),\n",
       " ('c4', 0.09467099334990459),\n",
       " ('arxiv', 0.0164414763120786),\n",
       " ('synthetic-data', 0.01550254043723999),\n",
       " ('stack-pull-requests', 0.011027415115022095),\n",
       " ('stack-jupyter-scripts', 0.009185813766226018),\n",
       " ('stack-jupyter-structured', 0.00829319356314609),\n",
       " ('open-web-math', 0.0075958052296511815),\n",
       " ('stack-issues', 0.006169673529954469),\n",
       " ('stackoverflow', 0.005622163270287513),\n",
       " ('wikipedia', 0.0028959040831890684),\n",
       " ('project-gutenberg', 0.0026854210021118007),\n",
       " ('deepmind-math', 0.00262224207925128),\n",
       " ('stack-kaggle-scripts', 0.0009357517775398223),\n",
       " ('stack-documentation', 0.0008979396898982224)]"
      ]
     },
     "execution_count": 112,
     "metadata": {},
     "output_type": "execute_result"
    }
   ],
   "source": [
    "sorted(weights.items(), key=lambda item: item[1], reverse=True)"
   ]
  },
  {
   "cell_type": "markdown",
   "id": "670f428e-9018-4570-abb7-a21a107a7bdf",
   "metadata": {},
   "source": [
    "### Adjust the weights of `stack-kaggle-scripts`, `stack-documentation`, make it has 1 sample"
   ]
  },
  {
   "cell_type": "code",
   "execution_count": 122,
   "id": "50c7aa0d-03ce-4d15-b071-3be76a8de833",
   "metadata": {},
   "outputs": [],
   "source": [
    "weights[\"stack-kaggle-scripts\"] = 1/512 +  0.0001 # take into account of rounding errors\n",
    "weights[\"stack-documentation\"] = 1/512 + 0.0001"
   ]
  },
  {
   "cell_type": "code",
   "execution_count": 123,
   "id": "bc505f9e-e530-4136-86cc-5dbbf9306d3a",
   "metadata": {},
   "outputs": [
    {
     "data": {
      "text/plain": [
       "0.002053125"
      ]
     },
     "execution_count": 123,
     "metadata": {},
     "output_type": "execute_result"
    }
   ],
   "source": [
    "weights[\"stack-kaggle-scripts\"]"
   ]
  },
  {
   "cell_type": "code",
   "execution_count": 124,
   "id": "9e3308d3-33e1-4df7-b325-af7fce513348",
   "metadata": {},
   "outputs": [],
   "source": [
    "weights[\"fineweb\"] = 1 - sum([w for name, w in weights.items() if name != \"fineweb\"])"
   ]
  },
  {
   "cell_type": "code",
   "execution_count": 125,
   "id": "73f7f564-345f-4353-9b10-3b54cb819900",
   "metadata": {},
   "outputs": [
    {
     "data": {
      "text/plain": [
       "1.0000000000000002"
      ]
     },
     "execution_count": 125,
     "metadata": {},
     "output_type": "execute_result"
    }
   ],
   "source": [
    "sum([x for x in weights.values()])"
   ]
  },
  {
   "cell_type": "code",
   "execution_count": 126,
   "id": "818b77e5-63db-4884-8fee-b9cb09de4da4",
   "metadata": {},
   "outputs": [
    {
     "data": {
      "text/plain": [
       "[('fineweb', 0.6505459957552155),\n",
       " ('stack_full', 0.16263511250672186),\n",
       " ('c4', 0.09467099334990459),\n",
       " ('arxiv', 0.0164414763120786),\n",
       " ('synthetic-data', 0.01550254043723999),\n",
       " ('stack-pull-requests', 0.011027415115022095),\n",
       " ('stack-jupyter-scripts', 0.009185813766226018),\n",
       " ('stack-jupyter-structured', 0.00829319356314609),\n",
       " ('open-web-math', 0.0075958052296511815),\n",
       " ('stack-issues', 0.006169673529954469),\n",
       " ('stackoverflow', 0.005622163270287513),\n",
       " ('wikipedia', 0.0028959040831890684),\n",
       " ('project-gutenberg', 0.0026854210021118007),\n",
       " ('deepmind-math', 0.00262224207925128),\n",
       " ('stack-kaggle-scripts', 0.002053125),\n",
       " ('stack-documentation', 0.002053125)]"
      ]
     },
     "execution_count": 126,
     "metadata": {},
     "output_type": "execute_result"
    }
   ],
   "source": [
    "sorted(weights.items(), key=lambda item: item[1], reverse=True)"
   ]
  },
  {
   "cell_type": "code",
   "execution_count": 127,
   "id": "988fb9fa-f065-459b-a339-0d6de37b84dc",
   "metadata": {},
   "outputs": [
    {
     "data": {
      "text/plain": [
       "1.05119744"
      ]
     },
     "execution_count": 127,
     "metadata": {},
     "output_type": "execute_result"
    }
   ],
   "source": [
    "0.00205312*512"
   ]
  },
  {
   "cell_type": "code",
   "execution_count": null,
   "id": "b31db8d4-c53d-40e3-83cf-0a06055562d2",
   "metadata": {},
   "outputs": [],
   "source": []
  }
 ],
 "metadata": {
  "kernelspec": {
   "display_name": "Python 3 (ipykernel)",
   "language": "python",
   "name": "python3"
  },
  "language_info": {
   "codemirror_mode": {
    "name": "ipython",
    "version": 3
   },
   "file_extension": ".py",
   "mimetype": "text/x-python",
   "name": "python",
   "nbconvert_exporter": "python",
   "pygments_lexer": "ipython3",
   "version": "3.8.18"
  }
 },
 "nbformat": 4,
 "nbformat_minor": 5
}
