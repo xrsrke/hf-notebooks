{
 "cells": [
  {
   "cell_type": "code",
   "execution_count": 1,
   "id": "9cf59d8b-7fee-457a-8b43-e8756b9e736d",
   "metadata": {},
   "outputs": [],
   "source": [
    "# source: https://huggingface.slack.com/archives/C06F8VDSF37/p1708180247307409?thread_ts=1708088048.695229&cid=C06F8VDSF37\n",
    "# textbooks: 17673923407\n",
    "# stories_ultrachat: 1611548758\n",
    "# stories_openhermes: 1122565111\n",
    "# jupyter: 2976816235\n",
    "# amt-web: 2418963389\n",
    "# amt-python: 1027408571\n",
    "# amt-khan: 1360493681"
   ]
  },
  {
   "cell_type": "code",
   "execution_count": 3,
   "id": "05358c5e-c7e8-42c6-abe7-fe7dfcfb27eb",
   "metadata": {},
   "outputs": [],
   "source": [
    "datasets = {\n",
    "    \"textbooks\": 17673923407,\n",
    "    \"stories_ultrachat\": 1611548758,\n",
    "    \"stories_openhermes\": 1122565111,\n",
    "    \"jupyter\": 2976816235,\n",
    "    \"amt-web\": 2418963389,\n",
    "    \"amt-python\": 1027408571,\n",
    "    \"amt-khan\": 1360493681,\n",
    "}"
   ]
  },
  {
   "cell_type": "code",
   "execution_count": 4,
   "id": "4b598f9b-6bd5-4c3d-87a9-f0be61de7f6f",
   "metadata": {},
   "outputs": [],
   "source": [
    "total_tokens = sum([x for x in datasets.values()])"
   ]
  },
  {
   "cell_type": "code",
   "execution_count": 7,
   "id": "b312d0d2-559f-4f86-bbda-76fe849b7d07",
   "metadata": {},
   "outputs": [
    {
     "data": {
      "text/plain": [
       "53771.43698120117"
      ]
     },
     "execution_count": 7,
     "metadata": {},
     "output_type": "execute_result"
    }
   ],
   "source": [
    "total_tokens/1024/512"
   ]
  },
  {
   "cell_type": "code",
   "execution_count": 4,
   "id": "74cfc7e0-f1a7-49a2-b69c-2f0ec790bacd",
   "metadata": {},
   "outputs": [],
   "source": [
    "weights = {name: n/total_tokens for name, n in datasets.items()}"
   ]
  },
  {
   "cell_type": "code",
   "execution_count": 5,
   "id": "796c65ee-1241-4387-9585-cc65fc6f388f",
   "metadata": {},
   "outputs": [
    {
     "data": {
      "text/plain": [
       "{'textbooks': 0.6269189655199215,\n",
       " 'stories_ultrachat': 0.057163905092523316,\n",
       " 'stories_openhermes': 0.03981896616334453,\n",
       " 'jupyter': 0.10559186614161543,\n",
       " 'amt-web': 0.08580403968831365,\n",
       " 'amt-python': 0.03644362961551115,\n",
       " 'amt-khan': 0.04825862777877037}"
      ]
     },
     "execution_count": 5,
     "metadata": {},
     "output_type": "execute_result"
    }
   ],
   "source": [
    "weights"
   ]
  },
  {
   "cell_type": "code",
   "execution_count": 20,
   "id": "db0988a9-4832-485a-aafa-3a79143ffd8a",
   "metadata": {},
   "outputs": [
    {
     "name": "stdout",
     "output_type": "stream",
     "text": [
      "textbooks 53718.97704268293\n",
      "stories_ultrachat 53718.97704268293\n",
      "stories_openhermes 53718.97704268293\n",
      "jupyter 53718.97704268292\n",
      "amt-web 53718.97704268292\n",
      "amt-python 53718.97704268293\n",
      "amt-khan 53718.97704268293\n"
     ]
    }
   ],
   "source": [
    "for name, weight in weights.items():\n",
    "    print(name, datasets[name] / 1025 / (weight * 512))"
   ]
  },
  {
   "cell_type": "markdown",
   "id": "af65591c-4458-4bf4-b7e6-892a6f1afe2d",
   "metadata": {},
   "source": [
    "### The maximum number of training steps"
   ]
  },
  {
   "cell_type": "code",
   "execution_count": 6,
   "id": "31a90724-a7c5-488a-80b5-18e72938f7e5",
   "metadata": {},
   "outputs": [],
   "source": [
    "sorted_weights = sorted(weights.items(), key=lambda item: item[1], reverse=True)"
   ]
  },
  {
   "cell_type": "code",
   "execution_count": 7,
   "id": "496c9902-b7c3-4947-ac93-b766ac6465fc",
   "metadata": {},
   "outputs": [
    {
     "data": {
      "text/plain": [
       "[('textbooks', 0.6269189655199215),\n",
       " ('jupyter', 0.10559186614161543),\n",
       " ('amt-web', 0.08580403968831365),\n",
       " ('stories_ultrachat', 0.057163905092523316),\n",
       " ('amt-khan', 0.04825862777877037),\n",
       " ('stories_openhermes', 0.03981896616334453),\n",
       " ('amt-python', 0.03644362961551115)]"
      ]
     },
     "execution_count": 7,
     "metadata": {},
     "output_type": "execute_result"
    }
   ],
   "source": [
    "sorted_weights"
   ]
  },
  {
   "cell_type": "code",
   "execution_count": 8,
   "id": "3b5148c0-7774-4a54-a5c1-18752c33dd15",
   "metadata": {},
   "outputs": [],
   "source": [
    "smallest_dataset_name = sorted_weights[-1][0]"
   ]
  },
  {
   "cell_type": "code",
   "execution_count": 9,
   "id": "ecd5b5c0-c892-4444-a947-65c7bea922a1",
   "metadata": {},
   "outputs": [
    {
     "data": {
      "text/plain": [
       "'amt-python'"
      ]
     },
     "execution_count": 9,
     "metadata": {},
     "output_type": "execute_result"
    }
   ],
   "source": [
    "smallest_dataset_name"
   ]
  },
  {
   "cell_type": "code",
   "execution_count": 10,
   "id": "0ccfb656-5847-453b-b069-2774047d3685",
   "metadata": {},
   "outputs": [],
   "source": [
    "smallest_dataset_num_samples = weights[smallest_dataset_name] * 512"
   ]
  },
  {
   "cell_type": "code",
   "execution_count": 13,
   "id": "cd8edb1b-52ae-4b4f-be44-008c9db7875a",
   "metadata": {},
   "outputs": [
    {
     "data": {
      "text/plain": [
       "18.659138363141707"
      ]
     },
     "execution_count": 13,
     "metadata": {},
     "output_type": "execute_result"
    }
   ],
   "source": [
    "smallest_dataset_num_samples"
   ]
  },
  {
   "cell_type": "code",
   "execution_count": 14,
   "id": "fa0a79b6-8cdc-4c86-9048-d3fa53a1813a",
   "metadata": {},
   "outputs": [],
   "source": [
    "smallest_dataset_num_tokens = datasets[smallest_dataset_name]"
   ]
  },
  {
   "cell_type": "code",
   "execution_count": 15,
   "id": "47c5bc05-8f89-4b10-967d-d55b19459236",
   "metadata": {},
   "outputs": [
    {
     "data": {
      "text/plain": [
       "1027408571"
      ]
     },
     "execution_count": 15,
     "metadata": {},
     "output_type": "execute_result"
    }
   ],
   "source": [
    "smallest_dataset_num_tokens"
   ]
  },
  {
   "cell_type": "code",
   "execution_count": 12,
   "id": "2a9f7fa6-af7b-453f-88d7-fe1241a6b964",
   "metadata": {},
   "outputs": [
    {
     "data": {
      "text/plain": [
       "53771.43698120117"
      ]
     },
     "execution_count": 12,
     "metadata": {},
     "output_type": "execute_result"
    }
   ],
   "source": [
    "smallest_dataset_num_tokens/1024/smallest_dataset_num_samples"
   ]
  },
  {
   "cell_type": "code",
   "execution_count": null,
   "id": "7dc81cca-e79f-4ade-8ef3-3fe63e8a917e",
   "metadata": {},
   "outputs": [],
   "source": []
  },
  {
   "cell_type": "code",
   "execution_count": null,
   "id": "ad34fc01-e100-4d20-adf9-121ca04567ad",
   "metadata": {},
   "outputs": [],
   "source": []
  },
  {
   "cell_type": "code",
   "execution_count": null,
   "id": "97e8a771-fb3b-4ca2-b834-9861af84386b",
   "metadata": {},
   "outputs": [],
   "source": []
  },
  {
   "cell_type": "code",
   "execution_count": 1,
   "id": "21adbd8a-11a9-429c-afae-2d234a94c75a",
   "metadata": {},
   "outputs": [
    {
     "data": {
      "text/plain": [
       "0.001"
      ]
     },
     "execution_count": 1,
     "metadata": {},
     "output_type": "execute_result"
    }
   ],
   "source": [
    "1e-3"
   ]
  },
  {
   "cell_type": "code",
   "execution_count": 3,
   "id": "a984e798-8928-453f-a401-3f13fd650c3b",
   "metadata": {},
   "outputs": [
    {
     "data": {
      "text/plain": [
       "1.00001"
      ]
     },
     "execution_count": 3,
     "metadata": {},
     "output_type": "execute_result"
    }
   ],
   "source": [
    "sum([0.00007, 0.05775, 0.00007, 0.00017, 0.00010, 0.00013, 0.00173, 0.00105, 0.00008, 0.00009, 0.00014, 0.00008, 0.00007, 0.00077, 0.93465, 0.00306])"
   ]
  },
  {
   "cell_type": "code",
   "execution_count": 6,
   "id": "1755f808-03f5-4d29-8691-a0ea5acb1a20",
   "metadata": {},
   "outputs": [
    {
     "data": {
      "text/plain": [
       "1.00001"
      ]
     },
     "execution_count": 6,
     "metadata": {},
     "output_type": "execute_result"
    }
   ],
   "source": [
    "sum([0.00007, 0.05775, 0.00007, 0.00017, 0.00010, 0.00013, 0.00173, 0.00105, 0.00008, 0.00009, 0.00014, 0.00008, 0.00007, 0.00077, 0.93465, 0.00306])"
   ]
  }
 ],
 "metadata": {
  "kernelspec": {
   "display_name": "Python 3 (ipykernel)",
   "language": "python",
   "name": "python3"
  },
  "language_info": {
   "codemirror_mode": {
    "name": "ipython",
    "version": 3
   },
   "file_extension": ".py",
   "mimetype": "text/x-python",
   "name": "python",
   "nbconvert_exporter": "python",
   "pygments_lexer": "ipython3",
   "version": "3.8.18"
  }
 },
 "nbformat": 4,
 "nbformat_minor": 5
}
