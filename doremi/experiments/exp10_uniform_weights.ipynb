{
 "cells": [
  {
   "cell_type": "code",
   "execution_count": 1,
   "id": "9726f7c4-7884-4fe3-a575-e975bb85989e",
   "metadata": {},
   "outputs": [],
   "source": [
    "num_domains = 16"
   ]
  },
  {
   "cell_type": "code",
   "execution_count": 2,
   "id": "d488bcd1-59cd-491c-a944-a445c0e9af33",
   "metadata": {},
   "outputs": [
    {
     "data": {
      "text/plain": [
       "0.0625"
      ]
     },
     "execution_count": 2,
     "metadata": {},
     "output_type": "execute_result"
    }
   ],
   "source": [
    "1/16"
   ]
  },
  {
   "cell_type": "code",
   "execution_count": null,
   "id": "bf9e7a1d-e613-41d1-844c-9c05171a7475",
   "metadata": {},
   "outputs": [],
   "source": []
  }
 ],
 "metadata": {
  "kernelspec": {
   "display_name": "Python 3 (ipykernel)",
   "language": "python",
   "name": "python3"
  },
  "language_info": {
   "codemirror_mode": {
    "name": "ipython",
    "version": 3
   },
   "file_extension": ".py",
   "mimetype": "text/x-python",
   "name": "python",
   "nbconvert_exporter": "python",
   "pygments_lexer": "ipython3",
   "version": "3.8.18"
  }
 },
 "nbformat": 4,
 "nbformat_minor": 5
}
