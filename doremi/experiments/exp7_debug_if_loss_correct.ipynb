{
 "cells": [
  {
   "cell_type": "code",
   "execution_count": 32,
   "id": "6c99ccc0-f9f8-460c-a180-95795494691b",
   "metadata": {},
   "outputs": [],
   "source": [
    "import torch"
   ]
  },
  {
   "cell_type": "code",
   "execution_count": 33,
   "id": "d9ba392a-450a-4c76-b19d-2c06bcfc1cd9",
   "metadata": {},
   "outputs": [],
   "source": [
    "def compute_doremi_loss_from_the_orig_paper(domain_weights, step_size, smoothing_param, normalized_domain_losses):\n",
    "    log_new_domain_weights = torch.log(domain_weights) + step_size * normalized_domain_losses\n",
    "    log_new_domain_weights = log_new_domain_weights - torch.logsumexp(log_new_domain_weights, dim=0)\n",
    "    train_domain_weights = (1 - smoothing_param) * torch.exp(log_new_domain_weights) + smoothing_param / len(\n",
    "        log_new_domain_weights\n",
    "    )\n",
    "    return train_domain_weights"
   ]
  },
  {
   "cell_type": "code",
   "execution_count": 34,
   "id": "6be35adf-0198-4a02-97e6-929cd7e8c2ea",
   "metadata": {},
   "outputs": [],
   "source": [
    "domain_weights = torch.tensor([0.1, 0.2, 0.3, 0.4])\n",
    "step_size = 1.\n",
    "smoothing_param = 0.001\n",
    "domain_losses = torch.tensor([8, 9, 10, 11])"
   ]
  },
  {
   "cell_type": "code",
   "execution_count": 35,
   "id": "b01f39ed-1465-4dbb-acd5-ffe14b5a5fa7",
   "metadata": {},
   "outputs": [],
   "source": [
    "weights_from_orig = compute_doremi_loss_from_the_orig_paper(domain_weights, step_size, smoothing_param, domain_losses)"
   ]
  },
  {
   "cell_type": "code",
   "execution_count": 36,
   "id": "b883f8b1-b879-41ac-bac6-2fe51036c27d",
   "metadata": {},
   "outputs": [
    {
     "data": {
      "text/plain": [
       "tensor([0.0094, 0.0501, 0.2035, 0.7370])"
      ]
     },
     "execution_count": 36,
     "metadata": {},
     "output_type": "execute_result"
    }
   ],
   "source": [
    "weights_from_orig"
   ]
  },
  {
   "cell_type": "code",
   "execution_count": 39,
   "id": "48c9455a-afd2-4b8b-bfbc-f7501315a120",
   "metadata": {},
   "outputs": [],
   "source": [
    "def compute_doremi_loss(domain_weights, step_size, smoothing_param, normalized_domain_losses):\n",
    "    new_domain_weights = domain_weights * torch.exp(step_size*domain_losses)\n",
    "    normalized_new_domain_weights = (1-smoothing_param) * new_domain_weights / new_domain_weights.sum() + smoothing_param * (1/(normalized_domain_losses))\n",
    "    return normalized_new_domain_weights"
   ]
  },
  {
   "cell_type": "code",
   "execution_count": 40,
   "id": "3a766922-795a-493c-b779-f8e04d2183bf",
   "metadata": {},
   "outputs": [
    {
     "data": {
      "text/plain": [
       "tensor([0.0093, 0.0500, 0.2034, 0.7368])"
      ]
     },
     "execution_count": 40,
     "metadata": {},
     "output_type": "execute_result"
    }
   ],
   "source": [
    "compute_doremi_loss(domain_weights, step_size, smoothing_param, domain_losses)"
   ]
  },
  {
   "cell_type": "code",
   "execution_count": null,
   "id": "70bc0b35-14b3-46c1-b879-7091e33ea473",
   "metadata": {},
   "outputs": [],
   "source": []
  },
  {
   "cell_type": "code",
   "execution_count": null,
   "id": "1fe85fee-191c-4e70-8e79-0e5c7220bba4",
   "metadata": {},
   "outputs": [],
   "source": []
  }
 ],
 "metadata": {
  "kernelspec": {
   "display_name": "Python 3 (ipykernel)",
   "language": "python",
   "name": "python3"
  },
  "language_info": {
   "codemirror_mode": {
    "name": "ipython",
    "version": 3
   },
   "file_extension": ".py",
   "mimetype": "text/x-python",
   "name": "python",
   "nbconvert_exporter": "python",
   "pygments_lexer": "ipython3",
   "version": "3.8.18"
  }
 },
 "nbformat": 4,
 "nbformat_minor": 5
}
