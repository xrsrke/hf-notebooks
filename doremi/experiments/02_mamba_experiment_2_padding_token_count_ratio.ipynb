{
 "cells": [
  {
   "cell_type": "markdown",
   "id": "690ab65e-87fd-4394-9745-7c5930a0bff5",
   "metadata": {},
   "source": [
    "**orange experiment**"
   ]
  },
  {
   "cell_type": "markdown",
   "id": "5d377200-7b41-4b5a-8b31-62b5e46d6e32",
   "metadata": {},
   "source": [
    "### Raw Weights"
   ]
  },
  {
   "cell_type": "code",
   "execution_count": 13,
   "id": "e2aef707-5aef-468b-bb0c-a24c32167be1",
   "metadata": {},
   "outputs": [],
   "source": [
    "import torch"
   ]
  },
  {
   "cell_type": "code",
   "execution_count": 14,
   "id": "d433e7db-ddbb-4c8d-a4bb-62b85ba7c981",
   "metadata": {},
   "outputs": [],
   "source": [
    "weights = torch.tensor([0.4581, 0.0620, 0.1085, 0.0180, 0.0471, 0.1928, 0.0079, 0.0284, 0.0052,\n",
    "        0.0033, 0.0080, 0.0183, 0.0014, 0.0097, 0.0163, 0.0151])"
   ]
  },
  {
   "cell_type": "code",
   "execution_count": 15,
   "id": "b2d7c664-f81b-451b-918b-8c728b426801",
   "metadata": {},
   "outputs": [
    {
     "data": {
      "text/plain": [
       "tensor([0.4581, 0.0620, 0.1085, 0.0180, 0.0471, 0.1928, 0.0079, 0.0284, 0.0052,\n",
       "        0.0033, 0.0080, 0.0183, 0.0014, 0.0097, 0.0163, 0.0151])"
      ]
     },
     "execution_count": 15,
     "metadata": {},
     "output_type": "execute_result"
    }
   ],
   "source": [
    "weights"
   ]
  },
  {
   "cell_type": "code",
   "execution_count": 16,
   "id": "b9557fc0-278f-419d-b3fc-dd7fad72be45",
   "metadata": {},
   "outputs": [],
   "source": [
    "names = [\n",
    "    \"fineweb\", \"stack_full\", \"c4\", \"arxiv\", \"synthetic-data\", \"stack-pull-requests\",\n",
    "    \"stack-jupyter-scripts\", \"stack-jupyter-structured\", \"open-web-math\",\n",
    "    \"stack-issues\", \"stackoverflow\", \"wikipedia\", \"project-gutenberg\", \"deepmind-math\",\n",
    "    \"stack-kaggle-scripts\", \"stack-documentation\"\n",
    "]"
   ]
  },
  {
   "cell_type": "code",
   "execution_count": 18,
   "id": "bbc2dcba-f81c-4057-8496-e5c1b8bf13ec",
   "metadata": {},
   "outputs": [
    {
     "data": {
      "text/plain": [
       "torch.Size([16])"
      ]
     },
     "execution_count": 18,
     "metadata": {},
     "output_type": "execute_result"
    }
   ],
   "source": [
    "weights.shape"
   ]
  },
  {
   "cell_type": "code",
   "execution_count": 17,
   "id": "5ae64b70-160d-475e-9080-00f4fed0f3a3",
   "metadata": {},
   "outputs": [
    {
     "name": "stdout",
     "output_type": "stream",
     "text": [
      "fineweb tensor(0.4581)\n",
      "stack_full tensor(0.0620)\n",
      "c4 tensor(0.1085)\n",
      "arxiv tensor(0.0180)\n",
      "synthetic-data tensor(0.0471)\n",
      "stack-pull-requests tensor(0.1928)\n",
      "stack-jupyter-scripts tensor(0.0079)\n",
      "stack-jupyter-structured tensor(0.0284)\n",
      "open-web-math tensor(0.0052)\n",
      "stack-issues tensor(0.0033)\n",
      "stackoverflow tensor(0.0080)\n",
      "wikipedia tensor(0.0183)\n",
      "project-gutenberg tensor(0.0014)\n",
      "deepmind-math tensor(0.0097)\n",
      "stack-kaggle-scripts tensor(0.0163)\n",
      "stack-documentation tensor(0.0151)\n"
     ]
    }
   ],
   "source": [
    "for name, weight in zip(names, weights):\n",
    "    print(name, weight)"
   ]
  },
  {
   "cell_type": "code",
   "execution_count": 56,
   "id": "6c2837ab-16b4-40a1-8e57-df2cddd7a91b",
   "metadata": {},
   "outputs": [
    {
     "name": "stdout",
     "output_type": "stream",
     "text": [
      "fineweb tensor(0.4581) tensor(0)\n",
      "stack-pull-requests tensor(0.1928) tensor(5)\n",
      "c4 tensor(0.1085) tensor(2)\n",
      "stack_full tensor(0.0620) tensor(1)\n",
      "synthetic-data tensor(0.0471) tensor(4)\n",
      "stack-jupyter-structured tensor(0.0284) tensor(7)\n",
      "wikipedia tensor(0.0183) tensor(11)\n",
      "arxiv tensor(0.0180) tensor(3)\n",
      "stack-kaggle-scripts tensor(0.0163) tensor(14)\n",
      "stack-documentation tensor(0.0151) tensor(15)\n",
      "deepmind-math tensor(0.0097) tensor(13)\n",
      "stackoverflow tensor(0.0080) tensor(10)\n",
      "stack-jupyter-scripts tensor(0.0079) tensor(6)\n",
      "open-web-math tensor(0.0052) tensor(8)\n",
      "stack-issues tensor(0.0033) tensor(9)\n",
      "project-gutenberg tensor(0.0014) tensor(12)\n"
     ]
    }
   ],
   "source": [
    "for idx in torch.argsort(weights, descending=True):\n",
    "    print(names[idx], weights[idx], idx)"
   ]
  },
  {
   "cell_type": "code",
   "execution_count": null,
   "id": "f9ba0025-8dfc-491e-af9e-b1b48846e93c",
   "metadata": {},
   "outputs": [],
   "source": [
    "0.0014"
   ]
  },
  {
   "cell_type": "markdown",
   "id": "b0efca36-ba66-436f-bb58-9211e925df10",
   "metadata": {},
   "source": [
    "### Adjust the weight of the last domain, at least 1 sample"
   ]
  },
  {
   "cell_type": "code",
   "execution_count": 65,
   "id": "19518b08-ae8a-496a-badb-b1376e930ff7",
   "metadata": {},
   "outputs": [
    {
     "data": {
      "text/plain": [
       "(tensor(0.0020), 'project-gutenberg')"
      ]
     },
     "execution_count": 65,
     "metadata": {},
     "output_type": "execute_result"
    }
   ],
   "source": [
    "weights[12], names[12]"
   ]
  },
  {
   "cell_type": "code",
   "execution_count": 58,
   "id": "f2787f4b-c42e-458c-bb35-5ff65977199c",
   "metadata": {},
   "outputs": [
    {
     "data": {
      "text/plain": [
       "tensor(0.7168)"
      ]
     },
     "execution_count": 58,
     "metadata": {},
     "output_type": "execute_result"
    }
   ],
   "source": [
    "weights[12] * 512"
   ]
  },
  {
   "cell_type": "code",
   "execution_count": 59,
   "id": "9ffa1d3d-c356-42fa-a699-caf3d5745944",
   "metadata": {},
   "outputs": [
    {
     "data": {
      "text/plain": [
       "1.024"
      ]
     },
     "execution_count": 59,
     "metadata": {},
     "output_type": "execute_result"
    }
   ],
   "source": [
    "0.0020 * 512"
   ]
  },
  {
   "cell_type": "code",
   "execution_count": 60,
   "id": "1a3d19da-1948-48f9-91e6-cb188b89cc6c",
   "metadata": {},
   "outputs": [],
   "source": [
    "weights[12] = 0.0020"
   ]
  },
  {
   "cell_type": "code",
   "execution_count": 61,
   "id": "b26f664b-71aa-470c-bd7a-c68402a3f74d",
   "metadata": {},
   "outputs": [],
   "source": [
    "weights[0] = 1-sum([x for idx, x in enumerate(weights) if idx != 0])"
   ]
  },
  {
   "cell_type": "code",
   "execution_count": 62,
   "id": "dec81060-4777-4c5c-8e60-636d58d9c9cc",
   "metadata": {},
   "outputs": [
    {
     "data": {
      "text/plain": [
       "tensor([0.4574, 0.0620, 0.1085, 0.0180, 0.0471, 0.1928, 0.0079, 0.0284, 0.0052,\n",
       "        0.0033, 0.0080, 0.0183, 0.0020, 0.0097, 0.0163, 0.0151])"
      ]
     },
     "execution_count": 62,
     "metadata": {},
     "output_type": "execute_result"
    }
   ],
   "source": [
    "weights"
   ]
  },
  {
   "cell_type": "code",
   "execution_count": 63,
   "id": "9117757d-b85a-4d81-b726-3c2cdb60d691",
   "metadata": {},
   "outputs": [
    {
     "data": {
      "text/plain": [
       "tensor(1.)"
      ]
     },
     "execution_count": 63,
     "metadata": {},
     "output_type": "execute_result"
    }
   ],
   "source": [
    "sum(weights)"
   ]
  },
  {
   "cell_type": "code",
   "execution_count": 64,
   "id": "75c48b3a-9db2-45ed-89c5-ad8f1eaf0d87",
   "metadata": {},
   "outputs": [
    {
     "name": "stdout",
     "output_type": "stream",
     "text": [
      "tensor(234.1888)\n",
      "tensor(31.7440)\n",
      "tensor(55.5520)\n",
      "tensor(9.2160)\n",
      "tensor(24.1152)\n",
      "tensor(98.7136)\n",
      "tensor(4.0448)\n",
      "tensor(14.5408)\n",
      "tensor(2.6624)\n",
      "tensor(1.6896)\n",
      "tensor(4.0960)\n",
      "tensor(9.3696)\n",
      "tensor(1.0240)\n",
      "tensor(4.9664)\n",
      "tensor(8.3456)\n",
      "tensor(7.7312)\n"
     ]
    }
   ],
   "source": [
    "for weight in weights:\n",
    "    print(weight * 512)"
   ]
  },
  {
   "cell_type": "code",
   "execution_count": null,
   "id": "154f43d5-cb04-47a6-8b8c-89049519ebcf",
   "metadata": {},
   "outputs": [],
   "source": []
  },
  {
   "cell_type": "code",
   "execution_count": null,
   "id": "a6c71b11-b59c-4225-9f94-812a4acc71b9",
   "metadata": {},
   "outputs": [],
   "source": []
  }
 ],
 "metadata": {
  "kernelspec": {
   "display_name": "Python 3 (ipykernel)",
   "language": "python",
   "name": "python3"
  },
  "language_info": {
   "codemirror_mode": {
    "name": "ipython",
    "version": 3
   },
   "file_extension": ".py",
   "mimetype": "text/x-python",
   "name": "python",
   "nbconvert_exporter": "python",
   "pygments_lexer": "ipython3",
   "version": "3.8.18"
  }
 },
 "nbformat": 4,
 "nbformat_minor": 5
}
