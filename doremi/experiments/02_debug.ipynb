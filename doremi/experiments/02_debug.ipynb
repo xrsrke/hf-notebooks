{
 "cells": [
  {
   "cell_type": "markdown",
   "id": "5d9907e6-69ed-426c-9ada-0d5b856cc606",
   "metadata": {},
   "source": [
    "### Why run out of training data"
   ]
  },
  {
   "cell_type": "code",
   "execution_count": 4,
   "id": "2240a9f2-bc84-4cce-94a3-25207b13a38d",
   "metadata": {},
   "outputs": [],
   "source": [
    "import torch"
   ]
  },
  {
   "cell_type": "code",
   "execution_count": 1,
   "id": "10a0c8b5-3083-4549-9667-8982268d9d0c",
   "metadata": {},
   "outputs": [],
   "source": [
    "datasets = [\n",
    "    (\"stack_full\", 300006286251),\n",
    "    (\"fineweb\", 299918912908),\n",
    "    (\"c4\", 174635677947),\n",
    "    (\"arxiv\", 30328913436),\n",
    "    (\"synthetic-data\", 28596897142),\n",
    "    (\"stack-pull-requests\", 20341817979),\n",
    "    (\"stack-jupyter-scripts\", 16944691904),\n",
    "    (\"stack-jupyter-structured\", 15298112220),\n",
    "    (\"open-web-math\", 14011668716),\n",
    "    (\"stack-issues\", 11380942372),\n",
    "    (\"stackoverflow\", 10370972771),\n",
    "    (\"wikipedia\", 5341954858),\n",
    "    (\"project-gutenberg\", 4953685397),\n",
    "    (\"deepmind-math\", 4837141843),\n",
    "    (\"stack-kaggle-scripts\", 1726142721),\n",
    "    (\"stack-documentation\", 1656392322),\n",
    "]"
   ]
  },
  {
   "cell_type": "code",
   "execution_count": 16,
   "id": "d89f1637-a367-4ec0-bdf6-0ae7b24c8dfa",
   "metadata": {},
   "outputs": [
    {
     "name": "stdout",
     "output_type": "stream",
     "text": [
      "stack-jupyter-structured 29178.8334274292\n",
      "open-web-math 26725.137168884277\n",
      "stack-issues 21707.42487335205\n",
      "stackoverflow 19781.060735702515\n",
      "wikipedia 10188.970294952393\n",
      "project-gutenberg 9448.405069351196\n",
      "deepmind-math 9226.115880966187\n",
      "stack-kaggle-scripts 3292.3559589385986\n",
      "stack-documentation 3159.3176307678223\n"
     ]
    }
   ],
   "source": [
    "for name, num_tokens in datasets:\n",
    "    num_samples = num_tokens / 1024\n",
    "    n_steps = num_samples / 512\n",
    "\n",
    "    if n_steps < 30000:\n",
    "        print(name, n_steps)"
   ]
  },
  {
   "cell_type": "code",
   "execution_count": null,
   "id": "240cd055-7433-43f7-8b1b-51f84ace953b",
   "metadata": {},
   "outputs": [],
   "source": []
  },
  {
   "cell_type": "code",
   "execution_count": 12,
   "id": "ca8c6de3-7b0f-4781-88c6-50a3eedf4bfc",
   "metadata": {},
   "outputs": [],
   "source": [
    "names = [\n",
    "    \"fineweb\", \"stack_full\", \"c4\", \"arxiv\", \"synthetic-data\", \"stack-pull-requests\",\n",
    "    \"stack-jupyter-scripts\", \"stack-jupyter-structured\", \"open-web-math\",\n",
    "    \"stack-issues\", \"stackoverflow\", \"wikipedia\", \"project-gutenberg\", \"deepmind-math\",\n",
    "    \"stack-kaggle-scripts\", \"stack-documentation\"\n",
    "]"
   ]
  },
  {
   "cell_type": "code",
   "execution_count": 13,
   "id": "66c91f54-d132-4f83-ba1f-38ba1aa087a0",
   "metadata": {},
   "outputs": [],
   "source": [
    "weights = torch.tensor([0.4581, 0.0620, 0.1085, 0.0180, 0.0471, 0.1928, 0.0079, 0.0284, 0.0052,\n",
    "        0.0033, 0.0080, 0.0183, 0.0014, 0.0097, 0.0163, 0.0151])"
   ]
  },
  {
   "cell_type": "code",
   "execution_count": 18,
   "id": "75ba4733-8808-4795-b6a3-007d543e5494",
   "metadata": {},
   "outputs": [
    {
     "name": "stdout",
     "output_type": "stream",
     "text": [
      "fineweb tensor(234.5472)\n",
      "stack-pull-requests tensor(98.7136)\n",
      "c4 tensor(55.5520)\n",
      "stack_full tensor(31.7440)\n",
      "synthetic-data tensor(24.1152)\n",
      "stack-jupyter-structured tensor(14.5408)\n",
      "wikipedia tensor(9.3696)\n",
      "arxiv tensor(9.2160)\n",
      "stack-kaggle-scripts tensor(8.3456)\n",
      "stack-documentation tensor(7.7312)\n",
      "deepmind-math tensor(4.9664)\n",
      "stackoverflow tensor(4.0960)\n",
      "stack-jupyter-scripts tensor(4.0448)\n",
      "open-web-math tensor(2.6624)\n",
      "stack-issues tensor(1.6896)\n",
      "project-gutenberg tensor(0.7168)\n"
     ]
    }
   ],
   "source": [
    "sum = 0\n",
    "for idx in torch.argsort(weights, descending=True):\n",
    "    sum += weights[idx]*512\n",
    "    print(names[idx], weights[idx]*512)"
   ]
  },
  {
   "cell_type": "code",
   "execution_count": null,
   "id": "a1eab101-dd60-401e-a2f8-6b28fbfe042b",
   "metadata": {},
   "outputs": [],
   "source": []
  }
 ],
 "metadata": {
  "kernelspec": {
   "display_name": "Python 3 (ipykernel)",
   "language": "python",
   "name": "python3"
  },
  "language_info": {
   "codemirror_mode": {
    "name": "ipython",
    "version": 3
   },
   "file_extension": ".py",
   "mimetype": "text/x-python",
   "name": "python",
   "nbconvert_exporter": "python",
   "pygments_lexer": "ipython3",
   "version": "3.8.18"
  }
 },
 "nbformat": 4,
 "nbformat_minor": 5
}
