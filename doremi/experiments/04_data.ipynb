{
 "cells": [
  {
   "cell_type": "code",
   "execution_count": 2,
   "id": "97bf4e08-043d-4043-9404-a83be6ef5a61",
   "metadata": {},
   "outputs": [
    {
     "data": {
      "text/plain": [
       "{'stack_full': 300006286251,\n",
       " 'fineweb': 299918912908,\n",
       " 'c4': 174635677947,\n",
       " 'arxiv': 30328913436,\n",
       " 'synthetic-data': 28596897142,\n",
       " 'stack-pull-requests': 20341817979,\n",
       " 'stack-jupyter-scripts': 16944691904,\n",
       " 'stack-jupyter-structured': 15298112220,\n",
       " 'open-web-math': 14011668716,\n",
       " 'stack-issues': 11380942372,\n",
       " 'stackoverflow': 10370972771,\n",
       " 'wikipedia': 5341954858,\n",
       " 'project-gutenberg': 4953685397,\n",
       " 'deepmind-math': 4837141843,\n",
       " 'stack-kaggle-scripts': 1726142721,\n",
       " 'stack-documentation': 1656392322}"
      ]
     },
     "execution_count": 2,
     "metadata": {},
     "output_type": "execute_result"
    }
   ],
   "source": [
    "# source: https://huggingface.slack.com/archives/C06F8VDSF37/p1708173629417409?thread_ts=1708035008.026629&cid=C06F8VDSF37\n",
    "datasets = [\n",
    "    (\"stack_full\", 300006286251),\n",
    "    (\"fineweb\", 299918912908),\n",
    "    (\"c4\", 174635677947),\n",
    "    (\"arxiv\", 30328913436),\n",
    "    (\"synthetic-data\", 28596897142),\n",
    "    (\"stack-pull-requests\", 20341817979),\n",
    "    (\"stack-jupyter-scripts\", 16944691904),\n",
    "    (\"stack-jupyter-structured\", 15298112220),\n",
    "    (\"open-web-math\", 14011668716),\n",
    "    (\"stack-issues\", 11380942372),\n",
    "    (\"stackoverflow\", 10370972771),\n",
    "    (\"wikipedia\", 5341954858),\n",
    "    (\"project-gutenberg\", 4953685397),\n",
    "    (\"deepmind-math\", 4837141843),\n",
    "    (\"stack-kaggle-scripts\", 1726142721),\n",
    "    (\"stack-documentation\", 1656392322),\n",
    "]\n",
    "\n",
    "# Convert to a dictionary\n",
    "dataset_dict = {name: tokens for name, tokens in datasets}\n",
    "\n",
    "dataset_dict"
   ]
  },
  {
   "cell_type": "code",
   "execution_count": 13,
   "id": "4f25a048-4437-41f5-b9fb-04a76d550497",
   "metadata": {},
   "outputs": [],
   "source": [
    "n_steps_per_dataset = {name: n_tokens / 1024 / 512 for name, n_tokens in dataset_dict.items()}"
   ]
  },
  {
   "cell_type": "code",
   "execution_count": 14,
   "id": "38a01e60-8f88-47fa-980e-1a681a54ef38",
   "metadata": {
    "scrolled": true
   },
   "outputs": [
    {
     "data": {
      "text/plain": [
       "[('stack_full', 572216.5799160004),\n",
       " ('fineweb', 572049.9284896851),\n",
       " ('c4', 333091.1215724945),\n",
       " ('arxiv', 57847.81157684326),\n",
       " ('synthetic-data', 54544.25266647339),\n",
       " ('stack-pull-requests', 38798.93871116638),\n",
       " ('stack-jupyter-scripts', 32319.434936523438),\n",
       " ('stack-jupyter-structured', 29178.8334274292),\n",
       " ('open-web-math', 26725.137168884277),\n",
       " ('stack-issues', 21707.42487335205),\n",
       " ('stackoverflow', 19781.060735702515),\n",
       " ('wikipedia', 10188.970294952393),\n",
       " ('project-gutenberg', 9448.405069351196),\n",
       " ('deepmind-math', 9226.115880966187),\n",
       " ('stack-kaggle-scripts', 3292.3559589385986),\n",
       " ('stack-documentation', 3159.3176307678223)]"
      ]
     },
     "execution_count": 14,
     "metadata": {},
     "output_type": "execute_result"
    }
   ],
   "source": [
    "sorted(n_steps_per_dataset.items(), key=lambda item: item[1], reverse=True)"
   ]
  },
  {
   "cell_type": "code",
   "execution_count": null,
   "id": "76df07ca-43d9-4c41-a207-b955ccba38b1",
   "metadata": {},
   "outputs": [],
   "source": [
    "[1, 1, 1, 1]"
   ]
  }
 ],
 "metadata": {
  "kernelspec": {
   "display_name": "Python 3 (ipykernel)",
   "language": "python",
   "name": "python3"
  },
  "language_info": {
   "codemirror_mode": {
    "name": "ipython",
    "version": 3
   },
   "file_extension": ".py",
   "mimetype": "text/x-python",
   "name": "python",
   "nbconvert_exporter": "python",
   "pygments_lexer": "ipython3",
   "version": "3.8.18"
  }
 },
 "nbformat": 4,
 "nbformat_minor": 5
}
