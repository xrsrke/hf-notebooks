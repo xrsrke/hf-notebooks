{
 "cells": [
  {
   "cell_type": "code",
   "execution_count": 1,
   "id": "bb10749c-33a6-4d4f-89bb-a8aba17ced37",
   "metadata": {},
   "outputs": [],
   "source": [
    "import boto3\n",
    "s3 = boto3.resource('s3')"
   ]
  },
  {
   "cell_type": "code",
   "execution_count": 10,
   "id": "c3661d35-9c2c-48b9-8f22-f1c6b85e0d0f",
   "metadata": {},
   "outputs": [],
   "source": [
    "bucket_name = \"huggingface-llm-datasets\" "
   ]
  },
  {
   "cell_type": "code",
   "execution_count": 11,
   "id": "74c02b75-52ef-4eab-ba72-6f6b29573208",
   "metadata": {},
   "outputs": [],
   "source": [
    "bucket = s3.Bucket(\"huggingface-llm-datasets\")"
   ]
  },
  {
   "cell_type": "code",
   "execution_count": 12,
   "id": "71bcad8a-a508-4771-8eb3-81afe251a7ac",
   "metadata": {},
   "outputs": [],
   "source": [
    "dataset_names =  [\n",
    "    \"fineweb\",\n",
    "    \"stack_full\",\n",
    "    \"c4\",\n",
    "    \"arxiv\",\n",
    "    \"synthetic-data\",\n",
    "    \"stack-pull-requests\",\n",
    "    \"stack-jupyter-scripts\",\n",
    "    \"stack-jupyter-structured\",\n",
    "    \"open-web-math\",\n",
    "    \"stack-issues\",\n",
    "    \"stackoverflow\",\n",
    "    \"wikipedia\",\n",
    "    \"project-gutenberg\",\n",
    "    \"deepmind-math\",\n",
    "    \"stack-kaggle-scripts\",\n",
    "    \"stack-documentation\",\n",
    "]"
   ]
  },
  {
   "cell_type": "code",
   "execution_count": 13,
   "id": "020dbe7f-4c97-4f2d-b27a-1840dd51c5c9",
   "metadata": {},
   "outputs": [
    {
     "data": {
      "text/plain": [
       "['Acl',\n",
       " 'Cors',\n",
       " 'Lifecycle',\n",
       " 'LifecycleConfiguration',\n",
       " 'Logging',\n",
       " 'Notification',\n",
       " 'Object',\n",
       " 'Policy',\n",
       " 'RequestPayment',\n",
       " 'Tagging',\n",
       " 'Versioning',\n",
       " 'Website']"
      ]
     },
     "execution_count": 13,
     "metadata": {},
     "output_type": "execute_result"
    }
   ],
   "source": [
    "bucket.get_available_subresources()"
   ]
  },
  {
   "cell_type": "code",
   "execution_count": 14,
   "id": "05c49c60-ad99-48e1-8234-23fed6b55ddd",
   "metadata": {},
   "outputs": [],
   "source": [
    "def bytes_to_gb(bytes):\n",
    "    return bytes / (2**30)"
   ]
  },
  {
   "cell_type": "code",
   "execution_count": 15,
   "id": "1a3e5e3b-3283-4ff9-8f1d-53bcb59018a0",
   "metadata": {},
   "outputs": [],
   "source": [
    "def get_file_size(bucket_name, object_key):\n",
    "    s3 = boto3.client('s3')\n",
    "    response = s3.head_object(Bucket=bucket_name, Key=object_key)\n",
    "    file_size = response['ContentLength']  # Size in bytes\n",
    "    return bytes_to_gb(file_size)"
   ]
  },
  {
   "cell_type": "code",
   "execution_count": 17,
   "id": "c79984ca-d5d3-40d7-af05-15c47b3b01cb",
   "metadata": {},
   "outputs": [
    {
     "name": "stdout",
     "output_type": "stream",
     "text": [
      "path: s3://huggingface-llm-datasets/fineweb/CC-MAIN-2023-50/tokenized-v1/standard/000_CC-MAIN-2023-50.ds, size=186.2645159251988 \n",
      " \n",
      "\n",
      "path: s3://huggingface-llm-datasets/stack_full/tokenized-v1/standard/000_stack_full.ds, size=186.26452589780092 \n",
      " \n",
      "\n",
      "path: s3://huggingface-llm-datasets/c4/tokenized-v1/standard/000_c4.ds, size=186.26451518572867 \n",
      " \n",
      "\n",
      "path: s3://huggingface-llm-datasets/arxiv/tokenized-v1/standard/000_arxiv.ds, size=56.492003493011 \n",
      " \n",
      "\n",
      "path: s3://huggingface-llm-datasets/synthetic-data/tokenized-v1/standard/000_synthetic-data.ds, size=53.26587174460292 \n",
      " \n",
      "\n",
      "path: s3://huggingface-llm-datasets/stack-pull-requests/tokenized-v1/standard/000_stack-pull-requests.ds, size=37.88958858512342 \n",
      " \n",
      "\n",
      "path: s3://huggingface-llm-datasets/stack-jupyter-scripts/tokenized-v1/standard/000_stack-jupyter-scripts.ds, size=31.56194818019867 \n",
      " \n",
      "\n",
      "path: s3://huggingface-llm-datasets/stack-jupyter-structured/tokenized-v1/standard/000_stack-jupyter-structured.ds, size=28.494954518973827 \n",
      " \n",
      "\n",
      "path: s3://huggingface-llm-datasets/open-web-math/tokenized-v1/standard/000_open-web-math.ds, size=26.098766766488552 \n",
      " \n",
      "\n",
      "path: s3://huggingface-llm-datasets/stack-issues/tokenized-v1/standard/000_stack_issues.ds, size=21.198657102882862 \n",
      " \n",
      "\n",
      "path: s3://huggingface-llm-datasets/stackoverflow/tokenized-v1/standard/000_stackoverflow.ds, size=19.317442124709487 \n",
      " \n",
      "\n",
      "path: s3://huggingface-llm-datasets/wikipedia/tokenized-v1/standard/000_wikipedia.ds, size=9.950166303664446 \n",
      " \n",
      "\n",
      "path: s3://huggingface-llm-datasets/project-gutenberg/tokenized-v1/standard/000_project_gutenberg.ds, size=9.226958075538278 \n",
      " \n",
      "\n",
      "path: s3://huggingface-llm-datasets/deepmind-math/tokenized-v1/standard/000_deepmind-math.ds, size=9.009878790006042 \n",
      " \n",
      "\n",
      "path: s3://huggingface-llm-datasets/stack-kaggle-scripts/tokenized-v1/standard/000_stack-kaggle-scripts.ds, size=3.2151913661509752 \n",
      " \n",
      "\n",
      "path: s3://huggingface-llm-datasets/stack-documentation/tokenized-v1/standard/000_stack-documentation.ds, size=3.0852711237967014 \n",
      " \n",
      "\n"
     ]
    }
   ],
   "source": [
    "total = 0\n",
    "\n",
    "for dataset_name in dataset_names:\n",
    "    if dataset_name == \"fineweb\":\n",
    "        object_key = f'{dataset_name}/CC-MAIN-2023-50/tokenized-v1/standard/000_CC-MAIN-2023-50.ds'\n",
    "    else:\n",
    "        if dataset_name == \"stack-issues\":\n",
    "            file_name = \"stack_issues\"\n",
    "        elif dataset_name == \"project-gutenberg\":\n",
    "            file_name = \"project_gutenberg\"\n",
    "        else:\n",
    "            file_name = dataset_name\n",
    "        \n",
    "        object_key = f'{dataset_name}/tokenized-v1/standard/000_{file_name}.ds'\n",
    "\n",
    "    size = get_file_size(bucket_name, object_key)\n",
    "    total += size\n",
    "    print(f\"path: s3://{bucket_name}/{object_key}, size={size} \\n \\n\")"
   ]
  },
  {
   "cell_type": "code",
   "execution_count": 18,
   "id": "04b7d4a5-77a7-4433-9e3b-0aaa26652634",
   "metadata": {},
   "outputs": [
    {
     "data": {
      "text/plain": [
       "867.6002551838756"
      ]
     },
     "execution_count": 18,
     "metadata": {},
     "output_type": "execute_result"
    }
   ],
   "source": [
    "total"
   ]
  },
  {
   "cell_type": "code",
   "execution_count": null,
   "id": "43181193-6200-4759-93f9-e4063afcc68b",
   "metadata": {},
   "outputs": [],
   "source": [
    "aws s3 cp s3://huggingface-llm-datasets/stack-documentation/tokenized-v1/standard/000_stack-documentation.ds ."
   ]
  }
 ],
 "metadata": {
  "kernelspec": {
   "display_name": "Python 3 (ipykernel)",
   "language": "python",
   "name": "python3"
  },
  "language_info": {
   "codemirror_mode": {
    "name": "ipython",
    "version": 3
   },
   "file_extension": ".py",
   "mimetype": "text/x-python",
   "name": "python",
   "nbconvert_exporter": "python",
   "pygments_lexer": "ipython3",
   "version": "3.8.18"
  }
 },
 "nbformat": 4,
 "nbformat_minor": 5
}
