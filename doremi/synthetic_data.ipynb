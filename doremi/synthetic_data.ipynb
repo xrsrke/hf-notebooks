{
 "cells": [
  {
   "cell_type": "code",
   "execution_count": 1,
   "id": "e4718823-56bd-4a3f-aa59-d37b2c3a83a6",
   "metadata": {},
   "outputs": [],
   "source": [
    "train_steps = 200_000\n",
    "global_batch_size = 512"
   ]
  },
  {
   "cell_type": "code",
   "execution_count": 2,
   "id": "3722d564-4a12-45ba-8435-818c34a4e70c",
   "metadata": {},
   "outputs": [],
   "source": [
    "train_num_samples = train_steps * global_batch_size"
   ]
  },
  {
   "cell_type": "code",
   "execution_count": 3,
   "id": "837b4246-a7d2-4d5d-941b-e49f208af2b7",
   "metadata": {},
   "outputs": [
    {
     "data": {
      "text/plain": [
       "102400000"
      ]
     },
     "execution_count": 3,
     "metadata": {},
     "output_type": "execute_result"
    }
   ],
   "source": [
    "train_num_samples"
   ]
  },
  {
   "cell_type": "code",
   "execution_count": 4,
   "id": "5618dd8b-8852-4d45-af61-cba0181a8ee3",
   "metadata": {},
   "outputs": [],
   "source": [
    "num_datasets = 210000"
   ]
  },
  {
   "cell_type": "code",
   "execution_count": 11,
   "id": "1c15e4a7-9ff4-4aff-b4da-bc47ce570720",
   "metadata": {},
   "outputs": [
    {
     "data": {
      "text/plain": [
       "1400"
      ]
     },
     "execution_count": 11,
     "metadata": {},
     "output_type": "execute_result"
    }
   ],
   "source": [
    "210000"
   ]
  },
  {
   "cell_type": "code",
   "execution_count": null,
   "id": "2c0b052c-2f21-476a-8bee-527a76c9e611",
   "metadata": {},
   "outputs": [],
   "source": []
  }
 ],
 "metadata": {
  "kernelspec": {
   "display_name": "Python 3 (ipykernel)",
   "language": "python",
   "name": "python3"
  },
  "language_info": {
   "codemirror_mode": {
    "name": "ipython",
    "version": 3
   },
   "file_extension": ".py",
   "mimetype": "text/x-python",
   "name": "python",
   "nbconvert_exporter": "python",
   "pygments_lexer": "ipython3",
   "version": "3.8.18"
  }
 },
 "nbformat": 4,
 "nbformat_minor": 5
}
