{
 "cells": [
  {
   "cell_type": "code",
   "execution_count": null,
   "id": "c5927401-e88a-4aa5-8a82-f8974c5e232e",
   "metadata": {},
   "outputs": [],
   "source": [
    "import boto3"
   ]
  },
  {
   "cell_type": "code",
   "execution_count": null,
   "id": "342e9a43-3155-4c88-bc86-637a433dad5a",
   "metadata": {},
   "outputs": [],
   "source": [
    "s3 = boto3.client('s3')"
   ]
  },
  {
   "cell_type": "code",
   "execution_count": null,
   "id": "5e85a613-0148-47e2-89d2-731e8840b4f2",
   "metadata": {},
   "outputs": [],
   "source": [
    "bucket_name = 'huggingface-llm-datasets'\n",
    "key = 'OpenHermes-2-5/tokenized-llama3/00000_00000_shuffled.ds.metadata'"
   ]
  },
  {
   "cell_type": "code",
   "execution_count": null,
   "id": "3928131b-52c0-4e01-affa-ea8b40db4ceb",
   "metadata": {},
   "outputs": [],
   "source": [
    "obj = s3.get_object(Bucket=bucket_name, Key=key)\n",
    "content = obj['Body'].read()\n",
    "\n",
    "print(content)"
   ]
  },
  {
   "cell_type": "code",
   "execution_count": null,
   "id": "5168128f-7818-47bd-be29-d5d231a6c67c",
   "metadata": {},
   "outputs": [],
   "source": [
    "import torch"
   ]
  },
  {
   "cell_type": "code",
   "execution_count": null,
   "id": "e689d286-5338-4035-933f-1df9222f6e6d",
   "metadata": {},
   "outputs": [],
   "source": []
  }
 ],
 "metadata": {
  "kernelspec": {
   "display_name": "Python 3 (ipykernel)",
   "language": "python",
   "name": "python3"
  },
  "language_info": {
   "name": ""
  }
 },
 "nbformat": 4,
 "nbformat_minor": 5
}
