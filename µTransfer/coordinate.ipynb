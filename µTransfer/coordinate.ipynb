{
 "cells": [
  {
   "cell_type": "code",
   "execution_count": 6,
   "id": "7d1d2962-66aa-4677-bc81-e58a38be1989",
   "metadata": {},
   "outputs": [],
   "source": [
    "import torch"
   ]
  },
  {
   "cell_type": "code",
   "execution_count": 7,
   "id": "de9ad735-b386-4738-a852-3a33e759eb13",
   "metadata": {},
   "outputs": [],
   "source": [
    "activation = torch.randn(2, 3, 4)\n",
    "\n",
    "# flatten batch_size and seq_len\n",
    "activation_flat = activation.mean(dim=[0,1])  "
   ]
  },
  {
   "cell_type": "code",
   "execution_count": 10,
   "id": "bc37210c-a941-40e0-8ebf-7b7908e88c04",
   "metadata": {},
   "outputs": [
    {
     "data": {
      "text/plain": [
       "tensor([-0.2381, -0.4403, -0.4475, -0.3150])"
      ]
     },
     "execution_count": 10,
     "metadata": {},
     "output_type": "execute_result"
    }
   ],
   "source": [
    "activation_flat"
   ]
  },
  {
   "cell_type": "code",
   "execution_count": 5,
   "id": "234c5137-9ec3-486f-b461-a540efe45708",
   "metadata": {},
   "outputs": [],
   "source": [
    "# compute l1 over d_model dimension \n",
    "l1 = activation_flat.abs().mean()"
   ]
  },
  {
   "cell_type": "code",
   "execution_count": 11,
   "id": "cb1652f6-9d58-4a14-bc50-42f392540618",
   "metadata": {},
   "outputs": [
    {
     "data": {
      "text/plain": [
       "0.5"
      ]
     },
     "execution_count": 11,
     "metadata": {},
     "output_type": "execute_result"
    }
   ],
   "source": [
    "2**-1"
   ]
  },
  {
   "cell_type": "code",
   "execution_count": 21,
   "id": "cd3b8c91-6dd9-4daa-a009-ea0495b8c57f",
   "metadata": {},
   "outputs": [
    {
     "data": {
      "text/plain": [
       "8192"
      ]
     },
     "execution_count": 21,
     "metadata": {},
     "output_type": "execute_result"
    }
   ],
   "source": [
    "2**13"
   ]
  },
  {
   "cell_type": "code",
   "execution_count": 14,
   "id": "ae3e5fe3-cc5f-4490-ac11-5c62684cb42e",
   "metadata": {},
   "outputs": [
    {
     "data": {
      "text/plain": [
       "0.5"
      ]
     },
     "execution_count": 14,
     "metadata": {},
     "output_type": "execute_result"
    }
   ],
   "source": [
    "2**-1"
   ]
  },
  {
   "cell_type": "code",
   "execution_count": 22,
   "id": "e952533a-28ac-4a65-8bae-f85bc34f7834",
   "metadata": {},
   "outputs": [
    {
     "data": {
      "text/plain": [
       "0.25"
      ]
     },
     "execution_count": 22,
     "metadata": {},
     "output_type": "execute_result"
    }
   ],
   "source": [
    "2**-2"
   ]
  },
  {
   "cell_type": "code",
   "execution_count": 23,
   "id": "307859fe-dea6-4b5e-bffd-6599a2d1f6e5",
   "metadata": {},
   "outputs": [
    {
     "data": {
      "text/plain": [
       "1"
      ]
     },
     "execution_count": 23,
     "metadata": {},
     "output_type": "execute_result"
    }
   ],
   "source": [
    "2**0"
   ]
  },
  {
   "cell_type": "code",
   "execution_count": 24,
   "id": "af7f6559-5e70-42a3-819a-6399ce3377e1",
   "metadata": {},
   "outputs": [
    {
     "data": {
      "text/plain": [
       "0.25"
      ]
     },
     "execution_count": 24,
     "metadata": {},
     "output_type": "execute_result"
    }
   ],
   "source": [
    "2**-2"
   ]
  },
  {
   "cell_type": "code",
   "execution_count": 25,
   "id": "dd03d338-1eac-4a92-83ae-844342b0cedb",
   "metadata": {},
   "outputs": [
    {
     "data": {
      "text/plain": [
       "32"
      ]
     },
     "execution_count": 25,
     "metadata": {},
     "output_type": "execute_result"
    }
   ],
   "source": [
    "2**5"
   ]
  },
  {
   "cell_type": "code",
   "execution_count": null,
   "id": "c11c7468-1210-4206-933a-c6036fb1c29e",
   "metadata": {},
   "outputs": [],
   "source": []
  }
 ],
 "metadata": {
  "kernelspec": {
   "display_name": "Python 3 (ipykernel)",
   "language": "python",
   "name": "python3"
  },
  "language_info": {
   "codemirror_mode": {
    "name": "ipython",
    "version": 3
   },
   "file_extension": ".py",
   "mimetype": "text/x-python",
   "name": "python",
   "nbconvert_exporter": "python",
   "pygments_lexer": "ipython3",
   "version": "3.8.18"
  }
 },
 "nbformat": 4,
 "nbformat_minor": 5
}
