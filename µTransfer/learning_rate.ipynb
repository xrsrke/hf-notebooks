{
 "cells": [
  {
   "cell_type": "code",
   "execution_count": 6,
   "id": "111c0657-d9bc-4155-80ee-3ec3cd0db87f",
   "metadata": {},
   "outputs": [],
   "source": [
    "import torch"
   ]
  },
  {
   "cell_type": "code",
   "execution_count": 7,
   "id": "20626dcb-26e1-4888-8ca3-dd0e02b146d0",
   "metadata": {},
   "outputs": [],
   "source": [
    "scales = torch.arange(-20, 2)"
   ]
  },
  {
   "cell_type": "code",
   "execution_count": 8,
   "id": "935e5ca1-e820-4c9d-adf9-bf7fd97d4e88",
   "metadata": {
    "scrolled": true
   },
   "outputs": [],
   "source": [
    "lr = [2**x.item() for x in scales]"
   ]
  },
  {
   "cell_type": "code",
   "execution_count": 10,
   "id": "3985b1bb-5075-4646-a7e7-8bafa5eb4e1d",
   "metadata": {},
   "outputs": [
    {
     "name": "stdout",
     "output_type": "stream",
     "text": [
      "x: -20, lr = 9.5367431640625e-07\n",
      "x: -19, lr = 1.9073486328125e-06\n",
      "x: -18, lr = 3.814697265625e-06\n",
      "x: -17, lr = 7.62939453125e-06\n",
      "x: -16, lr = 1.52587890625e-05\n",
      "x: -15, lr = 3.0517578125e-05\n",
      "x: -14, lr = 6.103515625e-05\n",
      "x: -13, lr = 0.0001220703125\n",
      "x: -12, lr = 0.000244140625\n",
      "x: -11, lr = 0.00048828125\n",
      "x: -10, lr = 0.0009765625\n",
      "x: -9, lr = 0.001953125\n",
      "x: -8, lr = 0.00390625\n",
      "x: -7, lr = 0.0078125\n",
      "x: -6, lr = 0.015625\n",
      "x: -5, lr = 0.03125\n",
      "x: -4, lr = 0.0625\n",
      "x: -3, lr = 0.125\n",
      "x: -2, lr = 0.25\n",
      "x: -1, lr = 0.5\n",
      "x: 0, lr = 1\n",
      "x: 1, lr = 2\n"
     ]
    }
   ],
   "source": [
    "for x in scales:\n",
    "    print(f\"x: {x}, lr = {2**x.item()}\")"
   ]
  },
  {
   "cell_type": "code",
   "execution_count": 11,
   "id": "8df86ae1-6a37-4f38-837f-d8e96b56242d",
   "metadata": {},
   "outputs": [
    {
     "data": {
      "text/plain": [
       "0.006"
      ]
     },
     "execution_count": 11,
     "metadata": {},
     "output_type": "execute_result"
    }
   ],
   "source": [
    "6e-3"
   ]
  },
  {
   "cell_type": "code",
   "execution_count": 12,
   "id": "d0d10af1-f2b4-4fb3-bba6-d9b7be12b576",
   "metadata": {},
   "outputs": [],
   "source": [
    "import math"
   ]
  },
  {
   "cell_type": "code",
   "execution_count": 13,
   "id": "6167acff-a45b-4668-8a74-7eb3b2341264",
   "metadata": {},
   "outputs": [
    {
     "data": {
      "text/plain": [
       "0.0625"
      ]
     },
     "execution_count": 13,
     "metadata": {},
     "output_type": "execute_result"
    }
   ],
   "source": [
    "1/math.sqrt(256)"
   ]
  },
  {
   "cell_type": "code",
   "execution_count": 14,
   "id": "e314845a-c55f-4510-a03a-72b2e2264fdd",
   "metadata": {},
   "outputs": [],
   "source": [
    "import torch"
   ]
  },
  {
   "cell_type": "code",
   "execution_count": 15,
   "id": "f8bf49e3-342c-449e-aca7-14b0353a7d32",
   "metadata": {},
   "outputs": [
    {
     "data": {
      "text/plain": [
       "tensor(1., dtype=torch.bfloat16)"
      ]
     },
     "execution_count": 15,
     "metadata": {},
     "output_type": "execute_result"
    }
   ],
   "source": [
    "torch.tensor(1/1, dtype=torch.bfloat16)"
   ]
  },
  {
   "cell_type": "code",
   "execution_count": 16,
   "id": "083258d4-ff93-431c-92eb-0d422044ff43",
   "metadata": {},
   "outputs": [
    {
     "data": {
      "text/plain": [
       "0.7071067811865476"
      ]
     },
     "execution_count": 16,
     "metadata": {},
     "output_type": "execute_result"
    }
   ],
   "source": [
    "2**-0.5"
   ]
  },
  {
   "cell_type": "code",
   "execution_count": 18,
   "id": "b5b73e76-aef5-4686-b569-2f34e4366438",
   "metadata": {},
   "outputs": [
    {
     "data": {
      "text/plain": [
       "0.08838834764831843"
      ]
     },
     "execution_count": 18,
     "metadata": {},
     "output_type": "execute_result"
    }
   ],
   "source": [
    "1/math.sqrt(128)"
   ]
  },
  {
   "cell_type": "code",
   "execution_count": null,
   "id": "cb8b9c97-43b7-4398-8e1a-e17059734b1b",
   "metadata": {},
   "outputs": [],
   "source": []
  },
  {
   "cell_type": "markdown",
   "id": "2b89ff01-91b3-47dc-bbe9-bf9eed95ea14",
   "metadata": {},
   "source": [
    "$A_{\\text {mem }} \\in \\mathbb{R}^{N \\times d_{\\text {value }}}$ is a matrix that will contain the retrieved memory content. It has N rows corresponding to the N sequence elements in the current input segment, and $d_{\\text {value }}$ columns corresponding to the dimensionality of each value vector.\n",
    "\n",
    "$M_{s-1} \\in \\mathbb{R}^{d_{\\text {key }} \\times d_{\\text {value }}}$ is the memory matrix from the previous segment s-1. It has $d_{\\text {key }}$ rows corresponding to the dimensionality of each key vector, and $d_{\\text {value }}$ columns corresponding to the dimensionality of each value vector.\n",
    "\n",
    "$Q \\in \\mathbb{R}^{N \\times d_{\\text {key }}}$ contains the query vectors for the current segment s. It has N rows corresponding to the sequence elements, and $d_{\\text {key }}$ columns corresponding to the dimensionality of each key vector.\n",
    "\n",
    "$\\sigma$ is a nonlinear activation function that will be applied element-wise to the query matrix Q.\n",
    "\n",
    "$z_{s-1} \\in \\mathbb{R}^{d_{\\text {key }}}$ is a normalization term that sums over all the keys in the memory."
   ]
  },
  {
   "cell_type": "code",
   "execution_count": null,
   "id": "37a4903b-a96f-4823-a049-1395a39fec3b",
   "metadata": {},
   "outputs": [],
   "source": []
  }
 ],
 "metadata": {
  "kernelspec": {
   "display_name": "Python 3 (ipykernel)",
   "language": "python",
   "name": "python3"
  },
  "language_info": {
   "codemirror_mode": {
    "name": "ipython",
    "version": 3
   },
   "file_extension": ".py",
   "mimetype": "text/x-python",
   "name": "python",
   "nbconvert_exporter": "python",
   "pygments_lexer": "ipython3",
   "version": "3.8.18"
  }
 },
 "nbformat": 4,
 "nbformat_minor": 5
}
