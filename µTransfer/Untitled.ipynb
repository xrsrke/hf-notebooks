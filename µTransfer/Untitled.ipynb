{
 "cells": [
  {
   "cell_type": "code",
   "execution_count": 2,
   "id": "e0efa9f8-ef2f-4607-8008-80df7950c35d",
   "metadata": {},
   "outputs": [
    {
     "data": {
      "text/plain": [
       "32"
      ]
     },
     "execution_count": 2,
     "metadata": {},
     "output_type": "execute_result"
    }
   ],
   "source": [
    "sum([3, 3, 3, 3, 3, 3, 2, 2, 3, 3, 3, 1, 0, 0, 0, 0, 0, 0, 0, 0, 0, 0])"
   ]
  },
  {
   "cell_type": "code",
   "execution_count": null,
   "id": "676d88a4-7769-4dc5-bfcd-7c383494f484",
   "metadata": {},
   "outputs": [],
   "source": []
  },
  {
   "cell_type": "code",
   "execution_count": 4,
   "id": "3904201c-1d79-4681-903c-cfb140691b86",
   "metadata": {},
   "outputs": [
    {
     "data": {
      "text/plain": [
       "64"
      ]
     },
     "execution_count": 4,
     "metadata": {},
     "output_type": "execute_result"
    }
   ],
   "source": [
    "sum([3, 3, 3, 3, 3, 3, 2, 2, 3, 3, 3, 4, 3, 3, 3, 3, 3, 3, 2, 3, 3, 3])"
   ]
  },
  {
   "cell_type": "code",
   "execution_count": 1,
   "id": "99f1c68c-9af5-4bcf-9100-2afd8feba427",
   "metadata": {},
   "outputs": [],
   "source": [
    "import math"
   ]
  },
  {
   "cell_type": "code",
   "execution_count": 3,
   "id": "887e218a-f32e-4b42-9963-1f52174d55fe",
   "metadata": {},
   "outputs": [
    {
     "data": {
      "text/plain": [
       "0.011048543456039806"
      ]
     },
     "execution_count": 3,
     "metadata": {},
     "output_type": "execute_result"
    }
   ],
   "source": [
    "math.sqrt(1/8192)"
   ]
  },
  {
   "cell_type": "code",
   "execution_count": 10,
   "id": "8382f610-c674-4b5f-8cb2-51d8bdac1f00",
   "metadata": {},
   "outputs": [
    {
     "data": {
      "text/plain": [
       "0.000244140625"
      ]
     },
     "execution_count": 10,
     "metadata": {},
     "output_type": "execute_result"
    }
   ],
   "source": [
    "2**-12"
   ]
  },
  {
   "cell_type": "code",
   "execution_count": 8,
   "id": "87294ee1-fc6c-4301-b1d1-0572d398a8ac",
   "metadata": {},
   "outputs": [
    {
     "data": {
      "text/plain": [
       "0.25"
      ]
     },
     "execution_count": 8,
     "metadata": {},
     "output_type": "execute_result"
    }
   ],
   "source": [
    "2**-2"
   ]
  },
  {
   "cell_type": "code",
   "execution_count": 11,
   "id": "3ca5c010-0959-4e24-96ba-80cfc86c3aa8",
   "metadata": {},
   "outputs": [
    {
     "data": {
      "text/plain": [
       "6.103515625e-05"
      ]
     },
     "execution_count": 11,
     "metadata": {},
     "output_type": "execute_result"
    }
   ],
   "source": [
    "2**-14"
   ]
  },
  {
   "cell_type": "code",
   "execution_count": 12,
   "id": "f6ddfc48-1249-47d7-a576-d6a2fdf03568",
   "metadata": {},
   "outputs": [],
   "source": [
    "from torch import nn"
   ]
  },
  {
   "cell_type": "code",
   "execution_count": 16,
   "id": "d8232efa-36dc-4264-b8c5-c4a0f379009d",
   "metadata": {},
   "outputs": [],
   "source": [
    "width = 12\n",
    "num_layers = 5\n",
    "num_classes = 10"
   ]
  },
  {
   "cell_type": "code",
   "execution_count": 17,
   "id": "10d266c6-dc8e-45ac-b353-00eb8eb9a899",
   "metadata": {},
   "outputs": [
    {
     "ename": "TypeError",
     "evalue": "list is not a Module subclass",
     "output_type": "error",
     "traceback": [
      "\u001b[0;31m---------------------------------------------------------------------------\u001b[0m",
      "\u001b[0;31mTypeError\u001b[0m                                 Traceback (most recent call last)",
      "Cell \u001b[0;32mIn[17], line 1\u001b[0m\n\u001b[0;32m----> 1\u001b[0m net \u001b[38;5;241m=\u001b[39m \u001b[43mnn\u001b[49m\u001b[38;5;241;43m.\u001b[39;49m\u001b[43mSequential\u001b[49m\u001b[43m(\u001b[49m\u001b[43m[\u001b[49m\u001b[43mnn\u001b[49m\u001b[38;5;241;43m.\u001b[39;49m\u001b[43mLinear\u001b[49m\u001b[43m(\u001b[49m\u001b[38;5;241;43m3072\u001b[39;49m\u001b[43m,\u001b[49m\u001b[43m \u001b[49m\u001b[43mwidth\u001b[49m\u001b[43m,\u001b[49m\u001b[43m \u001b[49m\u001b[43mbias\u001b[49m\u001b[38;5;241;43m=\u001b[39;49m\u001b[38;5;28;43;01mTrue\u001b[39;49;00m\u001b[43m)\u001b[49m\u001b[43m]\u001b[49m\u001b[43m \u001b[49m\u001b[38;5;241;43m+\u001b[39;49m\u001b[43m \u001b[49m\u001b[43m[\u001b[49m\u001b[43mnn\u001b[49m\u001b[38;5;241;43m.\u001b[39;49m\u001b[43mLinear\u001b[49m\u001b[43m(\u001b[49m\u001b[43mwidth\u001b[49m\u001b[43m,\u001b[49m\u001b[43m \u001b[49m\u001b[43mwidth\u001b[49m\u001b[43m,\u001b[49m\u001b[43m \u001b[49m\u001b[43mbias\u001b[49m\u001b[38;5;241;43m=\u001b[39;49m\u001b[38;5;28;43;01mTrue\u001b[39;49;00m\u001b[43m)\u001b[49m\u001b[43m \u001b[49m\u001b[38;5;28;43;01mfor\u001b[39;49;00m\u001b[43m \u001b[49m\u001b[43m_\u001b[49m\u001b[43m \u001b[49m\u001b[38;5;129;43;01min\u001b[39;49;00m\u001b[43m \u001b[49m\u001b[38;5;28;43mrange\u001b[39;49m\u001b[43m(\u001b[49m\u001b[43mnum_layers\u001b[49m\u001b[38;5;241;43m-\u001b[39;49m\u001b[38;5;241;43m1\u001b[39;49m\u001b[43m)\u001b[49m\u001b[43m]\u001b[49m\u001b[43m \u001b[49m\u001b[38;5;241;43m+\u001b[39;49m\u001b[43m \u001b[49m\u001b[43m[\u001b[49m\u001b[43mnn\u001b[49m\u001b[38;5;241;43m.\u001b[39;49m\u001b[43mLinear\u001b[49m\u001b[43m(\u001b[49m\u001b[43mwidth\u001b[49m\u001b[43m,\u001b[49m\u001b[43m \u001b[49m\u001b[43mnum_classes\u001b[49m\u001b[43m,\u001b[49m\u001b[43m \u001b[49m\u001b[43mbias\u001b[49m\u001b[38;5;241;43m=\u001b[39;49m\u001b[38;5;28;43;01mTrue\u001b[39;49;00m\u001b[43m)\u001b[49m\u001b[43m]\u001b[49m\u001b[43m)\u001b[49m\n",
      "File \u001b[0;32m~/miniforge3/envs/ai/lib/python3.8/site-packages/torch/nn/modules/container.py:104\u001b[0m, in \u001b[0;36mSequential.__init__\u001b[0;34m(self, *args)\u001b[0m\n\u001b[1;32m    102\u001b[0m \u001b[38;5;28;01melse\u001b[39;00m:\n\u001b[1;32m    103\u001b[0m     \u001b[38;5;28;01mfor\u001b[39;00m idx, module \u001b[38;5;129;01min\u001b[39;00m \u001b[38;5;28menumerate\u001b[39m(args):\n\u001b[0;32m--> 104\u001b[0m         \u001b[38;5;28;43mself\u001b[39;49m\u001b[38;5;241;43m.\u001b[39;49m\u001b[43madd_module\u001b[49m\u001b[43m(\u001b[49m\u001b[38;5;28;43mstr\u001b[39;49m\u001b[43m(\u001b[49m\u001b[43midx\u001b[49m\u001b[43m)\u001b[49m\u001b[43m,\u001b[49m\u001b[43m \u001b[49m\u001b[43mmodule\u001b[49m\u001b[43m)\u001b[49m\n",
      "File \u001b[0;32m~/miniforge3/envs/ai/lib/python3.8/site-packages/torch/nn/modules/module.py:610\u001b[0m, in \u001b[0;36mModule.add_module\u001b[0;34m(self, name, module)\u001b[0m\n\u001b[1;32m    600\u001b[0m \u001b[38;5;250m\u001b[39m\u001b[38;5;124mr\u001b[39m\u001b[38;5;124;03m\"\"\"Adds a child module to the current module.\u001b[39;00m\n\u001b[1;32m    601\u001b[0m \n\u001b[1;32m    602\u001b[0m \u001b[38;5;124;03mThe module can be accessed as an attribute using the given name.\u001b[39;00m\n\u001b[0;32m   (...)\u001b[0m\n\u001b[1;32m    607\u001b[0m \u001b[38;5;124;03m    module (Module): child module to be added to the module.\u001b[39;00m\n\u001b[1;32m    608\u001b[0m \u001b[38;5;124;03m\"\"\"\u001b[39;00m\n\u001b[1;32m    609\u001b[0m \u001b[38;5;28;01mif\u001b[39;00m \u001b[38;5;129;01mnot\u001b[39;00m \u001b[38;5;28misinstance\u001b[39m(module, Module) \u001b[38;5;129;01mand\u001b[39;00m module \u001b[38;5;129;01mis\u001b[39;00m \u001b[38;5;129;01mnot\u001b[39;00m \u001b[38;5;28;01mNone\u001b[39;00m:\n\u001b[0;32m--> 610\u001b[0m     \u001b[38;5;28;01mraise\u001b[39;00m \u001b[38;5;167;01mTypeError\u001b[39;00m(\u001b[38;5;124mf\u001b[39m\u001b[38;5;124m\"\u001b[39m\u001b[38;5;132;01m{\u001b[39;00mtorch\u001b[38;5;241m.\u001b[39mtypename(module)\u001b[38;5;132;01m}\u001b[39;00m\u001b[38;5;124m is not a Module subclass\u001b[39m\u001b[38;5;124m\"\u001b[39m)\n\u001b[1;32m    611\u001b[0m \u001b[38;5;28;01melif\u001b[39;00m \u001b[38;5;129;01mnot\u001b[39;00m \u001b[38;5;28misinstance\u001b[39m(name, \u001b[38;5;28mstr\u001b[39m):\n\u001b[1;32m    612\u001b[0m     \u001b[38;5;28;01mraise\u001b[39;00m \u001b[38;5;167;01mTypeError\u001b[39;00m(\u001b[38;5;124mf\u001b[39m\u001b[38;5;124m\"\u001b[39m\u001b[38;5;124mmodule name should be a string. Got \u001b[39m\u001b[38;5;132;01m{\u001b[39;00mtorch\u001b[38;5;241m.\u001b[39mtypename(name)\u001b[38;5;132;01m}\u001b[39;00m\u001b[38;5;124m\"\u001b[39m)\n",
      "\u001b[0;31mTypeError\u001b[0m: list is not a Module subclass"
     ]
    }
   ],
   "source": [
    "net = nn.Sequential([nn.Linear(3072, width, bias=True)] + [nn.Linear(width, width, bias=True) for _ in range(num_layers-1)] + [nn.Linear(width, num_classes, bias=True)])"
   ]
  },
  {
   "cell_type": "code",
   "execution_count": 18,
   "id": "0c05be8a-0442-4a5d-b11b-ae80a70b1fbb",
   "metadata": {},
   "outputs": [
    {
     "data": {
      "text/plain": [
       "1024"
      ]
     },
     "execution_count": 18,
     "metadata": {},
     "output_type": "execute_result"
    }
   ],
   "source": [
    "2**10"
   ]
  },
  {
   "cell_type": "code",
   "execution_count": 20,
   "id": "afa0c64d-0946-4e44-ad21-bdc74ea709b0",
   "metadata": {},
   "outputs": [
    {
     "data": {
      "text/plain": [
       "2048"
      ]
     },
     "execution_count": 20,
     "metadata": {},
     "output_type": "execute_result"
    }
   ],
   "source": [
    "2**11"
   ]
  },
  {
   "cell_type": "code",
   "execution_count": 24,
   "id": "411374f6-0bfb-4543-b96d-24d84c8cfdb5",
   "metadata": {},
   "outputs": [
    {
     "data": {
      "text/plain": [
       "32"
      ]
     },
     "execution_count": 24,
     "metadata": {},
     "output_type": "execute_result"
    }
   ],
   "source": [
    "2**5"
   ]
  },
  {
   "cell_type": "code",
   "execution_count": 32,
   "id": "ad920986-eba6-4048-9c7a-288851113f38",
   "metadata": {},
   "outputs": [
    {
     "data": {
      "text/plain": [
       "128"
      ]
     },
     "execution_count": 32,
     "metadata": {},
     "output_type": "execute_result"
    }
   ],
   "source": [
    "2**7"
   ]
  },
  {
   "cell_type": "code",
   "execution_count": 37,
   "id": "59b7cc20-a645-452e-8186-6b2e4dd76ae8",
   "metadata": {},
   "outputs": [
    {
     "data": {
      "text/plain": [
       "['6.103515625e-05:-14',\n",
       " '0.0001220703125:-13',\n",
       " '0.000244140625:-12',\n",
       " '0.00048828125:-11',\n",
       " '0.0009765625:-10',\n",
       " '0.001953125:-9',\n",
       " '0.00390625:-8',\n",
       " '0.0078125:-7',\n",
       " '0.015625:-6',\n",
       " '0.03125:-5',\n",
       " '0.0625:-4',\n",
       " '0.125:-3',\n",
       " '0.25:-2',\n",
       " '0.5:-1',\n",
       " '1:0',\n",
       " '2:1',\n",
       " '4:2',\n",
       " '8:3',\n",
       " '16:4',\n",
       " '32:5',\n",
       " '64:6',\n",
       " '128:7',\n",
       " '256:8',\n",
       " '512:9']"
      ]
     },
     "execution_count": 37,
     "metadata": {},
     "output_type": "execute_result"
    }
   ],
   "source": [
    "[f\"{2**p}:{p}\" for p in range(-14, 10)]"
   ]
  },
  {
   "cell_type": "code",
   "execution_count": 38,
   "id": "b721c127-6a1a-4eeb-8098-59e698f53bb5",
   "metadata": {},
   "outputs": [
    {
     "data": {
      "text/plain": [
       "128"
      ]
     },
     "execution_count": 38,
     "metadata": {},
     "output_type": "execute_result"
    }
   ],
   "source": [
    "2**7"
   ]
  },
  {
   "cell_type": "code",
   "execution_count": 40,
   "id": "50f3d66d-0203-4809-be86-aa1acfd511c2",
   "metadata": {},
   "outputs": [
    {
     "data": {
      "text/plain": [
       "8"
      ]
     },
     "execution_count": 40,
     "metadata": {},
     "output_type": "execute_result"
    }
   ],
   "source": [
    "2**3"
   ]
  },
  {
   "cell_type": "code",
   "execution_count": 41,
   "id": "96946775-2ce1-456e-825e-05de11f106c1",
   "metadata": {},
   "outputs": [
    {
     "data": {
      "text/plain": [
       "32"
      ]
     },
     "execution_count": 41,
     "metadata": {},
     "output_type": "execute_result"
    }
   ],
   "source": [
    "2**5"
   ]
  },
  {
   "cell_type": "code",
   "execution_count": 1,
   "id": "cab4b375-7a91-436f-af78-a3b35c3aa69c",
   "metadata": {},
   "outputs": [
    {
     "data": {
      "text/plain": [
       "[4, 8, 16, 32]"
      ]
     },
     "execution_count": 1,
     "metadata": {},
     "output_type": "execute_result"
    }
   ],
   "source": [
    "[2**p for p in [2, 3, 4, 5]]"
   ]
  },
  {
   "cell_type": "code",
   "execution_count": 2,
   "id": "06616aae-48f0-439e-852f-612a5e03ad27",
   "metadata": {},
   "outputs": [
    {
     "data": {
      "text/plain": [
       "[128, 256, 512, 1024, 2048, 4096, 8192]"
      ]
     },
     "execution_count": 2,
     "metadata": {},
     "output_type": "execute_result"
    }
   ],
   "source": [
    "[2**p for p in [7, 8, 9, 10, 11, 12, 13]]"
   ]
  },
  {
   "cell_type": "code",
   "execution_count": 1,
   "id": "28546549-ced1-4abe-a803-1ad17289b31d",
   "metadata": {},
   "outputs": [],
   "source": [
    "import torch"
   ]
  },
  {
   "cell_type": "code",
   "execution_count": 12,
   "id": "4c19bca0-4a07-4516-a65f-b0f92542f0db",
   "metadata": {},
   "outputs": [],
   "source": [
    "x = torch.randn(4, 2)\n",
    "linear = torch.nn.Linear(4, 2)"
   ]
  },
  {
   "cell_type": "code",
   "execution_count": 7,
   "id": "84cd6c3e-baaf-411e-80b8-545c6871a030",
   "metadata": {},
   "outputs": [],
   "source": [
    "from torch.nn import init\n"
   ]
  },
  {
   "cell_type": "code",
   "execution_count": 8,
   "id": "cfc3bebd-1ec4-4c06-a77f-37cd82174de0",
   "metadata": {},
   "outputs": [
    {
     "data": {
      "text/plain": [
       "(2, 4)"
      ]
     },
     "execution_count": 8,
     "metadata": {},
     "output_type": "execute_result"
    }
   ],
   "source": [
    "init._calculate_fan_in_and_fan_out(x)"
   ]
  },
  {
   "cell_type": "code",
   "execution_count": 10,
   "id": "90ec1cf0-81aa-42f1-98d8-a584d8018965",
   "metadata": {},
   "outputs": [
    {
     "data": {
      "text/plain": [
       "torch.Size([4, 2])"
      ]
     },
     "execution_count": 10,
     "metadata": {},
     "output_type": "execute_result"
    }
   ],
   "source": [
    "x.shape"
   ]
  },
  {
   "cell_type": "code",
   "execution_count": 13,
   "id": "be481b4a-3428-4a37-bbf1-2bef548cca59",
   "metadata": {},
   "outputs": [
    {
     "data": {
      "text/plain": [
       "Parameter containing:\n",
       "tensor([[ 0.4131,  0.2769,  0.1978,  0.2930],\n",
       "        [-0.3144, -0.3497,  0.4773,  0.3507]], requires_grad=True)"
      ]
     },
     "execution_count": 13,
     "metadata": {},
     "output_type": "execute_result"
    }
   ],
   "source": [
    "linear.weight"
   ]
  },
  {
   "cell_type": "code",
   "execution_count": 16,
   "id": "98811042-0546-4258-aff2-4b18141f1c95",
   "metadata": {},
   "outputs": [
    {
     "data": {
      "text/plain": [
       "torch.Size([2, 4])"
      ]
     },
     "execution_count": 16,
     "metadata": {},
     "output_type": "execute_result"
    }
   ],
   "source": [
    "linear.weight.shape"
   ]
  },
  {
   "cell_type": "code",
   "execution_count": 17,
   "id": "5c924438-9449-459b-af42-30f3d7d8db37",
   "metadata": {},
   "outputs": [
    {
     "data": {
      "text/plain": [
       "2"
      ]
     },
     "execution_count": 17,
     "metadata": {},
     "output_type": "execute_result"
    }
   ],
   "source": [
    "linear.out_features "
   ]
  },
  {
   "cell_type": "code",
   "execution_count": 19,
   "id": "a3c9869a-8c42-4f85-b7d2-9d2573795988",
   "metadata": {},
   "outputs": [
    {
     "name": "stdout",
     "output_type": "stream",
     "text": [
      "Fan-in: 10\n",
      "Fan-out: 20\n"
     ]
    }
   ],
   "source": [
    "linear_layer = torch.nn.Linear(in_features=10, out_features=20)\n",
    "\n",
    "# Get the weight tensor of the linear layer\n",
    "weight = linear_layer.weight\n",
    "\n",
    "# Calculate the fan-in and fan-out\n",
    "fan_in, fan_out = torch.nn.init._calculate_fan_in_and_fan_out(weight)\n",
    "\n",
    "print(\"Fan-in:\", fan_in)\n",
    "print(\"Fan-out:\", fan_out)\n"
   ]
  },
  {
   "cell_type": "code",
   "execution_count": 20,
   "id": "d1839926-31bc-472a-8449-d0ef0733ca24",
   "metadata": {},
   "outputs": [
    {
     "data": {
      "text/plain": [
       "10"
      ]
     },
     "execution_count": 20,
     "metadata": {},
     "output_type": "execute_result"
    }
   ],
   "source": [
    "linear_layer.in_features"
   ]
  },
  {
   "cell_type": "code",
   "execution_count": 3,
   "id": "dc998cff-70bc-4330-9fcb-19b38ec3bcf3",
   "metadata": {},
   "outputs": [],
   "source": [
    "import torch"
   ]
  },
  {
   "cell_type": "code",
   "execution_count": 11,
   "id": "e039c313-e123-4c7b-b268-94c8eeaa2cd0",
   "metadata": {},
   "outputs": [],
   "source": [
    "def constant_std_init_(tensor, sampler_):\n",
    "    sampler_(tensor, scale=1**-0.5)\n",
    "    return tensor"
   ]
  },
  {
   "cell_type": "code",
   "execution_count": 12,
   "id": "0b86ceb3-e6a9-4f94-a1c6-5fdeefdcd748",
   "metadata": {},
   "outputs": [],
   "source": [
    "def normal_(tensor, mean=0, std=1):\n",
    "    '''Drop-in replacement of `torch.nn.init.normal_`.\n",
    "    Note:\n",
    "        -  if using this function, ensure `mean` and `std` do not depend on\n",
    "           fan-in, fan-out, or other notions of width, e.g. if mean = 0, std =\n",
    "           1.\n",
    "        - `tensor` should have `infshape` attribute set by `set_base_shapes`.\n",
    "    '''\n",
    "    def sampler_(tensor, scale=1):\n",
    "        _no_grad_normal_(tensor, mean=mean*scale, std=std*scale)\n",
    "    return constant_std_init_(tensor, sampler_)"
   ]
  },
  {
   "cell_type": "code",
   "execution_count": 13,
   "id": "c32bb3a3-bc24-45a3-a759-52cc39b7f605",
   "metadata": {},
   "outputs": [],
   "source": [
    "x = torch.ones(2, 2)"
   ]
  },
  {
   "cell_type": "code",
   "execution_count": 14,
   "id": "9ae5b225-223a-40c9-a150-8e7649c35754",
   "metadata": {},
   "outputs": [
    {
     "ename": "NameError",
     "evalue": "name '_no_grad_normal_' is not defined",
     "output_type": "error",
     "traceback": [
      "\u001b[0;31m---------------------------------------------------------------------------\u001b[0m",
      "\u001b[0;31mNameError\u001b[0m                                 Traceback (most recent call last)",
      "Cell \u001b[0;32mIn[14], line 1\u001b[0m\n\u001b[0;32m----> 1\u001b[0m \u001b[43mnormal_\u001b[49m\u001b[43m(\u001b[49m\u001b[43mx\u001b[49m\u001b[43m)\u001b[49m\n",
      "Cell \u001b[0;32mIn[12], line 11\u001b[0m, in \u001b[0;36mnormal_\u001b[0;34m(tensor, mean, std)\u001b[0m\n\u001b[1;32m      9\u001b[0m \u001b[38;5;28;01mdef\u001b[39;00m \u001b[38;5;21msampler_\u001b[39m(tensor, scale\u001b[38;5;241m=\u001b[39m\u001b[38;5;241m1\u001b[39m):\n\u001b[1;32m     10\u001b[0m     _no_grad_normal_(tensor, mean\u001b[38;5;241m=\u001b[39mmean\u001b[38;5;241m*\u001b[39mscale, std\u001b[38;5;241m=\u001b[39mstd\u001b[38;5;241m*\u001b[39mscale)\n\u001b[0;32m---> 11\u001b[0m \u001b[38;5;28;01mreturn\u001b[39;00m \u001b[43mconstant_std_init_\u001b[49m\u001b[43m(\u001b[49m\u001b[43mtensor\u001b[49m\u001b[43m,\u001b[49m\u001b[43m \u001b[49m\u001b[43msampler_\u001b[49m\u001b[43m)\u001b[49m\n",
      "Cell \u001b[0;32mIn[11], line 2\u001b[0m, in \u001b[0;36mconstant_std_init_\u001b[0;34m(tensor, sampler_)\u001b[0m\n\u001b[1;32m      1\u001b[0m \u001b[38;5;28;01mdef\u001b[39;00m \u001b[38;5;21mconstant_std_init_\u001b[39m(tensor, sampler_):\n\u001b[0;32m----> 2\u001b[0m     \u001b[43msampler_\u001b[49m\u001b[43m(\u001b[49m\u001b[43mtensor\u001b[49m\u001b[43m,\u001b[49m\u001b[43m \u001b[49m\u001b[43mscale\u001b[49m\u001b[38;5;241;43m=\u001b[39;49m\u001b[38;5;241;43m1\u001b[39;49m\u001b[38;5;241;43m*\u001b[39;49m\u001b[38;5;241;43m*\u001b[39;49m\u001b[38;5;241;43m-\u001b[39;49m\u001b[38;5;241;43m0.5\u001b[39;49m\u001b[43m)\u001b[49m\n\u001b[1;32m      3\u001b[0m     \u001b[38;5;28;01mreturn\u001b[39;00m tensor\n",
      "Cell \u001b[0;32mIn[12], line 10\u001b[0m, in \u001b[0;36mnormal_.<locals>.sampler_\u001b[0;34m(tensor, scale)\u001b[0m\n\u001b[1;32m      9\u001b[0m \u001b[38;5;28;01mdef\u001b[39;00m \u001b[38;5;21msampler_\u001b[39m(tensor, scale\u001b[38;5;241m=\u001b[39m\u001b[38;5;241m1\u001b[39m):\n\u001b[0;32m---> 10\u001b[0m     \u001b[43m_no_grad_normal_\u001b[49m(tensor, mean\u001b[38;5;241m=\u001b[39mmean\u001b[38;5;241m*\u001b[39mscale, std\u001b[38;5;241m=\u001b[39mstd\u001b[38;5;241m*\u001b[39mscale)\n",
      "\u001b[0;31mNameError\u001b[0m: name '_no_grad_normal_' is not defined"
     ]
    }
   ],
   "source": [
    "normal_(x)"
   ]
  },
  {
   "cell_type": "code",
   "execution_count": 1,
   "id": "12203a65-c50e-46e9-8a10-e0e25b286bf9",
   "metadata": {},
   "outputs": [
    {
     "data": {
      "text/plain": [
       "4294967296"
      ]
     },
     "execution_count": 1,
     "metadata": {},
     "output_type": "execute_result"
    }
   ],
   "source": [
    "2**32"
   ]
  },
  {
   "cell_type": "code",
   "execution_count": 3,
   "id": "124e146e-fe93-4139-942b-f9597abbc574",
   "metadata": {},
   "outputs": [],
   "source": [
    "import math"
   ]
  },
  {
   "cell_type": "code",
   "execution_count": 4,
   "id": "70dcc008-e40b-41e1-adc6-4a3bb1bf18a7",
   "metadata": {},
   "outputs": [],
   "source": [
    "def spectral_sigma(fan_in, fan_out, init_std):\n",
    "    \"\"\"Spectral parameterization from the [paper](https://arxiv.org/abs/2310.17813).\"\"\"\n",
    "    return (init_std / math.sqrt(fan_in)) * min(1, math.sqrt(fan_out / fan_in))\n"
   ]
  },
  {
   "cell_type": "code",
   "execution_count": 6,
   "id": "e89d6a79-3436-4aca-961f-2f37cc78b3cd",
   "metadata": {},
   "outputs": [],
   "source": [
    "def spectral_lr(fan_in, fan_out):\n",
    "    \"\"\"Spectral parameterization from the [paper](https://arxiv.org/abs/2310.17813).\"\"\"\n",
    "    return fan_out / fan_in"
   ]
  },
  {
   "cell_type": "code",
   "execution_count": 25,
   "id": "c1c4fa48-1747-4413-b2aa-ce518e6c432c",
   "metadata": {},
   "outputs": [
    {
     "data": {
      "text/plain": [
       "0.048"
      ]
     },
     "execution_count": 25,
     "metadata": {},
     "output_type": "execute_result"
    }
   ],
   "source": [
    "spectral_lr(1024, 49152) * 0.001"
   ]
  },
  {
   "cell_type": "code",
   "execution_count": 5,
   "id": "5e6a89c4-1ab1-4ed1-bf79-c0b37105911b",
   "metadata": {},
   "outputs": [
    {
     "data": {
      "text/plain": [
       "0.125"
      ]
     },
     "execution_count": 5,
     "metadata": {},
     "output_type": "execute_result"
    }
   ],
   "source": [
    "spectral_sigma(64, 64, 1)"
   ]
  },
  {
   "cell_type": "code",
   "execution_count": 7,
   "id": "97887464-4e1c-4903-81c6-7bcc2804f707",
   "metadata": {},
   "outputs": [
    {
     "data": {
      "text/plain": [
       "1.0"
      ]
     },
     "execution_count": 7,
     "metadata": {},
     "output_type": "execute_result"
    }
   ],
   "source": [
    "spectral_lr(64, 64)"
   ]
  },
  {
   "cell_type": "code",
   "execution_count": 8,
   "id": "36ccf0a9-ec0a-4001-97b9-7ab3d3f94929",
   "metadata": {},
   "outputs": [
    {
     "data": {
      "text/plain": [
       "0.015625"
      ]
     },
     "execution_count": 8,
     "metadata": {},
     "output_type": "execute_result"
    }
   ],
   "source": [
    "1 / 64"
   ]
  },
  {
   "cell_type": "code",
   "execution_count": 9,
   "id": "ffd0b19d-7ae1-4b06-8ab6-f462808594f2",
   "metadata": {},
   "outputs": [
    {
     "data": {
      "text/plain": [
       "2.985334128148692e-08"
      ]
     },
     "execution_count": 9,
     "metadata": {},
     "output_type": "execute_result"
    }
   ],
   "source": [
    "1.9106138420151627e-06/64"
   ]
  },
  {
   "cell_type": "code",
   "execution_count": 12,
   "id": "836e8cfb-0d86-4352-8d35-365c42d2a649",
   "metadata": {},
   "outputs": [],
   "source": [
    "import torch"
   ]
  },
  {
   "cell_type": "code",
   "execution_count": 13,
   "id": "a58dcbe4-1495-49f6-8024-15f85a52071c",
   "metadata": {},
   "outputs": [],
   "source": [
    "linear = torch.nn.Linear(10, 20)"
   ]
  },
  {
   "cell_type": "code",
   "execution_count": 18,
   "id": "dbfda480-70d7-423e-a27e-ea13c3ad061b",
   "metadata": {},
   "outputs": [
    {
     "data": {
      "text/plain": [
       "10"
      ]
     },
     "execution_count": 18,
     "metadata": {},
     "output_type": "execute_result"
    }
   ],
   "source": [
    "linear.weight.shape[-1]"
   ]
  },
  {
   "cell_type": "code",
   "execution_count": 15,
   "id": "96eff2f3-36d5-4e06-a393-3a0d5de8ec12",
   "metadata": {},
   "outputs": [
    {
     "data": {
      "text/plain": [
       "torch.Size([20])"
      ]
     },
     "execution_count": 15,
     "metadata": {},
     "output_type": "execute_result"
    }
   ],
   "source": [
    "linear.weight.shape[:-1]"
   ]
  },
  {
   "cell_type": "code",
   "execution_count": 16,
   "id": "1ea925a4-b229-4d01-b2d0-679e60df0587",
   "metadata": {},
   "outputs": [
    {
     "data": {
      "text/plain": [
       "torch.Size([20, 10])"
      ]
     },
     "execution_count": 16,
     "metadata": {},
     "output_type": "execute_result"
    }
   ],
   "source": [
    "linear.weight.shape"
   ]
  },
  {
   "cell_type": "code",
   "execution_count": null,
   "id": "1e131e8f-519f-4df0-8dac-8004c13cdec7",
   "metadata": {},
   "outputs": [],
   "source": [
    "torch.log()"
   ]
  },
  {
   "cell_type": "code",
   "execution_count": 30,
   "id": "230696d0-d225-468e-92f1-06280ca57827",
   "metadata": {},
   "outputs": [
    {
     "data": {
      "text/plain": [
       "[tensor(nan),\n",
       " tensor(nan),\n",
       " tensor(nan),\n",
       " tensor(nan),\n",
       " tensor(nan),\n",
       " tensor(nan),\n",
       " tensor(nan),\n",
       " tensor(nan),\n",
       " tensor(nan),\n",
       " tensor(nan),\n",
       " tensor(nan),\n",
       " tensor(nan),\n",
       " tensor(nan)]"
      ]
     },
     "execution_count": 30,
     "metadata": {},
     "output_type": "execute_result"
    }
   ],
   "source": [
    "[torch.log(torch.tensor(x)) for x in[-14, -13, -12, -11, -10, -9, -8, -7, -6, -5, -4, -3, -2]]"
   ]
  },
  {
   "cell_type": "code",
   "execution_count": 31,
   "id": "41b0d86e-c031-48da-9245-397ed909dfae",
   "metadata": {},
   "outputs": [
    {
     "data": {
      "text/plain": [
       "[6.103515625e-05,\n",
       " 0.0001220703125,\n",
       " 0.000244140625,\n",
       " 0.00048828125,\n",
       " 0.0009765625,\n",
       " 0.001953125,\n",
       " 0.00390625,\n",
       " 0.0078125,\n",
       " 0.015625,\n",
       " 0.03125,\n",
       " 0.0625,\n",
       " 0.125,\n",
       " 0.25]"
      ]
     },
     "execution_count": 31,
     "metadata": {},
     "output_type": "execute_result"
    }
   ],
   "source": [
    "[2**x for x in [-14, -13, -12, -11, -10, -9, -8, -7, -6, -5, -4, -3, -2]]"
   ]
  },
  {
   "cell_type": "code",
   "execution_count": 33,
   "id": "b318b42f-4ed2-409f-95aa-afe29c8f4938",
   "metadata": {},
   "outputs": [
    {
     "data": {
      "text/plain": [
       "0.03125"
      ]
     },
     "execution_count": 33,
     "metadata": {},
     "output_type": "execute_result"
    }
   ],
   "source": [
    "1/math.sqrt(1024)"
   ]
  },
  {
   "cell_type": "code",
   "execution_count": null,
   "id": "3d56f839-1cec-4098-b632-c90c708e316d",
   "metadata": {},
   "outputs": [],
   "source": []
  }
 ],
 "metadata": {
  "kernelspec": {
   "display_name": "Python 3 (ipykernel)",
   "language": "python",
   "name": "python3"
  },
  "language_info": {
   "codemirror_mode": {
    "name": "ipython",
    "version": 3
   },
   "file_extension": ".py",
   "mimetype": "text/x-python",
   "name": "python",
   "nbconvert_exporter": "python",
   "pygments_lexer": "ipython3",
   "version": "3.8.18"
  }
 },
 "nbformat": 4,
 "nbformat_minor": 5
}
