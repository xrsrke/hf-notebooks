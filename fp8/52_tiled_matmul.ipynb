{
 "cells": [
  {
   "cell_type": "code",
   "execution_count": 2,
   "id": "957e7cf0-6148-4c05-9e41-449aae79d2a0",
   "metadata": {},
   "outputs": [],
   "source": [
    "import numpy as np\n",
    "\n",
    "def tiled_matrix_multiplication(A, B, tile_size):\n",
    "    m, n = A.shape\n",
    "    n, p = B.shape\n",
    "    C = np.zeros((m, p))\n",
    "\n",
    "    for i in range(0, m, tile_size):\n",
    "        for j in range(0, p, tile_size):\n",
    "            for k in range(0, n, tile_size):\n",
    "                # Extract tiles from A and B\n",
    "                A_tile = A[i:i+tile_size, k:k+tile_size]\n",
    "                B_tile = B[k:k+tile_size, j:j+tile_size]\n",
    "                \n",
    "                # Perform matrix multiplication on tiles\n",
    "                C_tile = np.dot(A_tile, B_tile)\n",
    "                \n",
    "                # Update the result matrix C\n",
    "                C[i:i+tile_size, j:j+tile_size] += C_tile\n",
    "                \n",
    "                print(f\"Step: i={i}, j={j}, k={k}\")\n",
    "                print(\"A_tile:\")\n",
    "                print(A_tile)\n",
    "                print(\"B_tile:\")\n",
    "                print(B_tile)\n",
    "                print(\"C_tile:\")\n",
    "                print(C_tile)\n",
    "                print(\"Current C:\")\n",
    "                print(C)\n",
    "                print()\n",
    "\n",
    "    return C"
   ]
  },
  {
   "cell_type": "code",
   "execution_count": 3,
   "id": "1bfce57d-9909-4b4a-a4b0-bb57f6895fec",
   "metadata": {},
   "outputs": [
    {
     "name": "stdout",
     "output_type": "stream",
     "text": [
      "Step: i=0, j=0, k=0\n",
      "A_tile:\n",
      "[[1 2]\n",
      " [5 6]]\n",
      "B_tile:\n",
      "[[1 2]\n",
      " [4 5]]\n",
      "C_tile:\n",
      "[[ 9 12]\n",
      " [29 40]]\n",
      "Current C:\n",
      "[[ 9. 12.  0.]\n",
      " [29. 40.  0.]\n",
      " [ 0.  0.  0.]]\n",
      "\n",
      "Step: i=0, j=0, k=2\n",
      "A_tile:\n",
      "[[3 4]\n",
      " [7 8]]\n",
      "B_tile:\n",
      "[[ 7  8]\n",
      " [10 11]]\n",
      "C_tile:\n",
      "[[ 61  68]\n",
      " [129 144]]\n",
      "Current C:\n",
      "[[ 70.  80.   0.]\n",
      " [158. 184.   0.]\n",
      " [  0.   0.   0.]]\n",
      "\n",
      "Step: i=0, j=2, k=0\n",
      "A_tile:\n",
      "[[1 2]\n",
      " [5 6]]\n",
      "B_tile:\n",
      "[[3]\n",
      " [6]]\n",
      "C_tile:\n",
      "[[15]\n",
      " [51]]\n",
      "Current C:\n",
      "[[ 70.  80.  15.]\n",
      " [158. 184.  51.]\n",
      " [  0.   0.   0.]]\n",
      "\n",
      "Step: i=0, j=2, k=2\n",
      "A_tile:\n",
      "[[3 4]\n",
      " [7 8]]\n",
      "B_tile:\n",
      "[[ 9]\n",
      " [12]]\n",
      "C_tile:\n",
      "[[ 75]\n",
      " [159]]\n",
      "Current C:\n",
      "[[ 70.  80.  90.]\n",
      " [158. 184. 210.]\n",
      " [  0.   0.   0.]]\n",
      "\n",
      "Step: i=2, j=0, k=0\n",
      "A_tile:\n",
      "[[ 9 10]]\n",
      "B_tile:\n",
      "[[1 2]\n",
      " [4 5]]\n",
      "C_tile:\n",
      "[[49 68]]\n",
      "Current C:\n",
      "[[ 70.  80.  90.]\n",
      " [158. 184. 210.]\n",
      " [ 49.  68.   0.]]\n",
      "\n",
      "Step: i=2, j=0, k=2\n",
      "A_tile:\n",
      "[[11 12]]\n",
      "B_tile:\n",
      "[[ 7  8]\n",
      " [10 11]]\n",
      "C_tile:\n",
      "[[197 220]]\n",
      "Current C:\n",
      "[[ 70.  80.  90.]\n",
      " [158. 184. 210.]\n",
      " [246. 288.   0.]]\n",
      "\n",
      "Step: i=2, j=2, k=0\n",
      "A_tile:\n",
      "[[ 9 10]]\n",
      "B_tile:\n",
      "[[3]\n",
      " [6]]\n",
      "C_tile:\n",
      "[[87]]\n",
      "Current C:\n",
      "[[ 70.  80.  90.]\n",
      " [158. 184. 210.]\n",
      " [246. 288.  87.]]\n",
      "\n",
      "Step: i=2, j=2, k=2\n",
      "A_tile:\n",
      "[[11 12]]\n",
      "B_tile:\n",
      "[[ 9]\n",
      " [12]]\n",
      "C_tile:\n",
      "[[243]]\n",
      "Current C:\n",
      "[[ 70.  80.  90.]\n",
      " [158. 184. 210.]\n",
      " [246. 288. 330.]]\n",
      "\n",
      "Final result:\n",
      "[[ 70.  80.  90.]\n",
      " [158. 184. 210.]\n",
      " [246. 288. 330.]]\n"
     ]
    }
   ],
   "source": [
    "\n",
    "# Example usage\n",
    "A = np.array([[1, 2, 3, 4],\n",
    "              [5, 6, 7, 8],\n",
    "              [9, 10, 11, 12]])\n",
    "\n",
    "B = np.array([[1, 2, 3],\n",
    "              [4, 5, 6],\n",
    "              [7, 8, 9],\n",
    "              [10, 11, 12]])\n",
    "\n",
    "tile_size = 2\n",
    "\n",
    "result = tiled_matrix_multiplication(A, B, tile_size)\n",
    "print(\"Final result:\")\n",
    "print(result)"
   ]
  },
  {
   "cell_type": "code",
   "execution_count": 6,
   "id": "7b88ba33-a96d-4e88-b65d-e4e2540dbd55",
   "metadata": {},
   "outputs": [
    {
     "data": {
      "text/plain": [
       "[0, 4, 8, 12]"
      ]
     },
     "execution_count": 6,
     "metadata": {},
     "output_type": "execute_result"
    }
   ],
   "source": [
    "list(range(0, 16, 4))"
   ]
  },
  {
   "cell_type": "code",
   "execution_count": 8,
   "id": "7a4afb71-400f-4cd3-b658-fe2a034a52e6",
   "metadata": {},
   "outputs": [
    {
     "data": {
      "text/plain": [
       "array([[ 70,  80,  90],\n",
       "       [158, 184, 210],\n",
       "       [246, 288, 330]])"
      ]
     },
     "execution_count": 8,
     "metadata": {},
     "output_type": "execute_result"
    }
   ],
   "source": [
    "A@B"
   ]
  },
  {
   "cell_type": "code",
   "execution_count": 9,
   "id": "a02dbca2-cb6b-4931-bdc3-4dfb7a85644f",
   "metadata": {},
   "outputs": [],
   "source": [
    "import math"
   ]
  },
  {
   "cell_type": "code",
   "execution_count": 10,
   "id": "56a416ae-fda3-473b-b749-c278cb476f93",
   "metadata": {},
   "outputs": [
    {
     "data": {
      "text/plain": [
       "0.022097086912079608"
      ]
     },
     "execution_count": 10,
     "metadata": {},
     "output_type": "execute_result"
    }
   ],
   "source": [
    "1/math.sqrt(2048)"
   ]
  },
  {
   "cell_type": "code",
   "execution_count": null,
   "id": "ad89394b-d676-4ee5-8685-d02ec1ac26c1",
   "metadata": {},
   "outputs": [],
   "source": []
  }
 ],
 "metadata": {
  "kernelspec": {
   "display_name": "Python 3 (ipykernel)",
   "language": "python",
   "name": "python3"
  },
  "language_info": {
   "codemirror_mode": {
    "name": "ipython",
    "version": 3
   },
   "file_extension": ".py",
   "mimetype": "text/x-python",
   "name": "python",
   "nbconvert_exporter": "python",
   "pygments_lexer": "ipython3",
   "version": "3.10.14"
  }
 },
 "nbformat": 4,
 "nbformat_minor": 5
}
