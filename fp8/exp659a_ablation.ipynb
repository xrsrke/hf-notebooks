{
 "cells": [
  {
   "cell_type": "code",
   "execution_count": 1,
   "id": "195a024e-3eea-40f9-9630-9dc849c8fca8",
   "metadata": {},
   "outputs": [
    {
     "name": "stdout",
     "output_type": "stream",
     "text": [
      "[]\n",
      "['layer scale']\n",
      "['u clipping']\n",
      "['smooth quant']\n",
      "['clipped softmax']\n",
      "['layer scale', 'u clipping']\n",
      "['layer scale', 'smooth quant']\n",
      "['layer scale', 'clipped softmax']\n",
      "['u clipping', 'smooth quant']\n",
      "['u clipping', 'clipped softmax']\n",
      "['smooth quant', 'clipped softmax']\n",
      "['layer scale', 'u clipping', 'smooth quant']\n",
      "['layer scale', 'u clipping', 'clipped softmax']\n",
      "['layer scale', 'smooth quant', 'clipped softmax']\n",
      "['u clipping', 'smooth quant', 'clipped softmax']\n",
      "['layer scale', 'u clipping', 'smooth quant', 'clipped softmax']\n",
      "\n",
      "Total number of combinations: 16\n"
     ]
    }
   ],
   "source": [
    "from itertools import combinations\n",
    "\n",
    "# Define the list of elements\n",
    "elements = [\"layer scale\", \"u clipping\", \"smooth quant\", \"clipped softmax\"]\n",
    "\n",
    "# Generate all possible combinations\n",
    "all_combinations = []\n",
    "\n",
    "for r in range(len(elements) + 1):\n",
    "    all_combinations.extend(combinations(elements, r))\n",
    "\n",
    "# Convert combinations to list of lists for easier reading\n",
    "result = [list(combo) for combo in all_combinations]\n",
    "\n",
    "# Print the result\n",
    "for combo in result:\n",
    "    print(combo)\n",
    "\n",
    "# Print the total number of combinations\n",
    "print(f\"\\nTotal number of combinations: {len(result)}\")"
   ]
  },
  {
   "cell_type": "code",
   "execution_count": 2,
   "id": "0d4278f6-8d9f-4a53-b509-64d43bde1ef9",
   "metadata": {},
   "outputs": [
    {
     "name": "stdout",
     "output_type": "stream",
     "text": [
      "[]\n",
      "['layer scale']\n",
      "['u clipping']\n",
      "['clipped softmax']\n",
      "['layer scale', 'u clipping']\n",
      "['layer scale', 'clipped softmax']\n",
      "['u clipping', 'clipped softmax']\n",
      "['layer scale', 'u clipping', 'clipped softmax']\n",
      "\n",
      "Total number of combinations: 8\n"
     ]
    }
   ],
   "source": [
    "from itertools import combinations\n",
    "\n",
    "# Define the list of elements\n",
    "elements = [\"layer scale\", \"u clipping\", \"clipped softmax\"]\n",
    "\n",
    "# Generate all possible combinations\n",
    "all_combinations = []\n",
    "\n",
    "for r in range(len(elements) + 1):\n",
    "    all_combinations.extend(combinations(elements, r))\n",
    "\n",
    "# Convert combinations to list of lists for easier reading\n",
    "result = [list(combo) for combo in all_combinations]\n",
    "\n",
    "# Print the result\n",
    "for combo in result:\n",
    "    print(combo)\n",
    "\n",
    "# Print the total number of combinations\n",
    "print(f\"\\nTotal number of combinations: {len(result)}\")"
   ]
  },
  {
   "cell_type": "code",
   "execution_count": null,
   "id": "27dc06ab-633c-44e7-b794-34e329055e54",
   "metadata": {},
   "outputs": [],
   "source": []
  }
 ],
 "metadata": {
  "kernelspec": {
   "display_name": "Python 3 (ipykernel)",
   "language": "python",
   "name": "python3"
  },
  "language_info": {
   "codemirror_mode": {
    "name": "ipython",
    "version": 3
   },
   "file_extension": ".py",
   "mimetype": "text/x-python",
   "name": "python",
   "nbconvert_exporter": "python",
   "pygments_lexer": "ipython3",
   "version": "3.10.14"
  }
 },
 "nbformat": 4,
 "nbformat_minor": 5
}
