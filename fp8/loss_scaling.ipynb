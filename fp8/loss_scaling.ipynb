{
 "cells": [
  {
   "cell_type": "code",
   "execution_count": 1,
   "id": "3f55a485-9f3d-4c46-a8f1-362364e4fdbc",
   "metadata": {},
   "outputs": [],
   "source": [
    "import torch"
   ]
  },
  {
   "cell_type": "code",
   "execution_count": 2,
   "id": "11951224-e046-4609-b090-04b5b2d1083a",
   "metadata": {},
   "outputs": [
    {
     "data": {
      "text/plain": [
       "tensor(32768)"
      ]
     },
     "execution_count": 2,
     "metadata": {},
     "output_type": "execute_result"
    }
   ],
   "source": [
    "torch.tensor(2**15)"
   ]
  },
  {
   "cell_type": "code",
   "execution_count": null,
   "id": "924067ec-8361-4ff1-8596-5492b25dc540",
   "metadata": {},
   "outputs": [],
   "source": [
    "32768"
   ]
  }
 ],
 "metadata": {
  "kernelspec": {
   "display_name": "Python 3 (ipykernel)",
   "language": "python",
   "name": "python3"
  },
  "language_info": {
   "codemirror_mode": {
    "name": "ipython",
    "version": 3
   },
   "file_extension": ".py",
   "mimetype": "text/x-python",
   "name": "python",
   "nbconvert_exporter": "python",
   "pygments_lexer": "ipython3",
   "version": "3.8.18"
  }
 },
 "nbformat": 4,
 "nbformat_minor": 5
}
