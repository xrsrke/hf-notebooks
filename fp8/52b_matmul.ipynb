{
 "cells": [
  {
   "cell_type": "code",
   "execution_count": 17,
   "id": "7f0693c8-0de4-4b26-8a87-93e4b7ae103e",
   "metadata": {
    "scrolled": true
   },
   "outputs": [],
   "source": [
    "import torch"
   ]
  },
  {
   "cell_type": "code",
   "execution_count": 18,
   "id": "4c3baeb6-e71a-409b-83f6-d863dcb84b1e",
   "metadata": {},
   "outputs": [],
   "source": [
    "A = torch.tensor([[1, 2, 3, 4], [5, 6, 7, 8]], dtype=torch.float32)\n",
    "B = torch.tensor([[1, 2, 3, 4, 5, 6], [7, 8, 9, 10, 11, 12], [13, 14, 15, 16, 17, 18], [19, 20, 21, 22, 23, 24]], dtype=torch.float32)"
   ]
  },
  {
   "cell_type": "markdown",
   "id": "f82f77cc-fe44-45ee-8407-6680d4f98a32",
   "metadata": {},
   "source": [
    "**Example 1**"
   ]
  },
  {
   "cell_type": "code",
   "execution_count": 29,
   "id": "a13a6c2a-5c40-4a5e-baeb-720d4799674d",
   "metadata": {},
   "outputs": [
    {
     "data": {
      "text/plain": [
       "(tensor([[1., 2., 3., 4.],\n",
       "         [5., 6., 7., 8.]]),\n",
       " torch.Size([2, 4]))"
      ]
     },
     "execution_count": 29,
     "metadata": {},
     "output_type": "execute_result"
    }
   ],
   "source": [
    "A, A.shape"
   ]
  },
  {
   "cell_type": "code",
   "execution_count": 30,
   "id": "c10f14df-99d9-4a5c-a477-8ee5738431d6",
   "metadata": {},
   "outputs": [
    {
     "data": {
      "text/plain": [
       "(tensor([[ 1.,  2.,  3.,  4.,  5.,  6.],\n",
       "         [ 7.,  8.,  9., 10., 11., 12.],\n",
       "         [13., 14., 15., 16., 17., 18.],\n",
       "         [19., 20., 21., 22., 23., 24.]]),\n",
       " torch.Size([4, 6]))"
      ]
     },
     "execution_count": 30,
     "metadata": {},
     "output_type": "execute_result"
    }
   ],
   "source": [
    "B, B.shape"
   ]
  },
  {
   "cell_type": "markdown",
   "id": "0a94683a-8553-40a6-be59-9d44c4c6b4d6",
   "metadata": {},
   "source": [
    "Write a matrix multiplication between `A` and `B`"
   ]
  },
  {
   "cell_type": "code",
   "execution_count": 31,
   "id": "92cb0ecd-806b-4d0d-a79b-9e521daa279f",
   "metadata": {},
   "outputs": [],
   "source": [
    "output = torch.zeros(2, 6)\n",
    "n_rows, n_cols = output.shape\n",
    "shared_dim = 4"
   ]
  },
  {
   "cell_type": "code",
   "execution_count": 32,
   "id": "d88a5505-4902-4c8f-8562-5943048611e2",
   "metadata": {},
   "outputs": [],
   "source": [
    "for row_idx in range(n_rows):\n",
    "    for column_idx in range(n_cols):\n",
    "        for k in range(shared_dim):\n",
    "            output[row_idx, column_idx] += A[row_idx, k] * B[k, column_idx]"
   ]
  },
  {
   "cell_type": "code",
   "execution_count": 33,
   "id": "3ea94058-e969-45eb-ac84-583331f6cf7e",
   "metadata": {},
   "outputs": [
    {
     "data": {
      "text/plain": [
       "tensor([[True, True, True, True, True, True],\n",
       "        [True, True, True, True, True, True]])"
      ]
     },
     "execution_count": 33,
     "metadata": {},
     "output_type": "execute_result"
    }
   ],
   "source": [
    "output == A @ B"
   ]
  },
  {
   "cell_type": "markdown",
   "id": "872b1a6a-86ba-4597-b822-68c1df565c31",
   "metadata": {},
   "source": [
    "**Example 2**"
   ]
  },
  {
   "cell_type": "code",
   "execution_count": 42,
   "id": "9cac3d2a-4912-40e2-bd81-7f83efbe04f5",
   "metadata": {},
   "outputs": [],
   "source": [
    "# Example usage with PyTorch tensors\n",
    "# Width = 4\n",
    "# A = torch.tensor([[1, 2, 3, 4], [5, 6, 7, 8], [9, 10, 11, 12], [13, 14, 15, 16]], dtype=torch.float32)\n",
    "# B = torch.tensor([[16, 15, 14, 13], [12, 11, 10, 9], [8, 7, 6, 5], [4, 3, 2, 1]], dtype=torch.float32)\n",
    "\n",
    "A = torch.tensor([[1, 2, 3, 4], [5, 6, 7, 8]], dtype=torch.float32)\n",
    "B = torch.tensor([[1, 2, 3, 4, 5, 6], [7, 8, 9, 10, 11, 12], [13, 14, 15, 16, 17, 18], [19, 20, 21, 22, 23, 24]], dtype=torch.float32)"
   ]
  },
  {
   "cell_type": "code",
   "execution_count": 57,
   "id": "014c411c-962b-4799-83ba-ec42eb2ce901",
   "metadata": {},
   "outputs": [
    {
     "data": {
      "text/plain": [
       "tensor([[ 1.,  2.,  3.,  4.,  5.,  6.],\n",
       "        [ 7.,  8.,  9., 10., 11., 12.],\n",
       "        [13., 14., 15., 16., 17., 18.],\n",
       "        [19., 20., 21., 22., 23., 24.]])"
      ]
     },
     "execution_count": 57,
     "metadata": {},
     "output_type": "execute_result"
    }
   ],
   "source": [
    "B"
   ]
  },
  {
   "cell_type": "code",
   "execution_count": 43,
   "id": "96f87037-89aa-4510-b16d-57619598d780",
   "metadata": {},
   "outputs": [
    {
     "data": {
      "text/plain": [
       "(torch.Size([2, 4]), torch.Size([4, 6]))"
      ]
     },
     "execution_count": 43,
     "metadata": {},
     "output_type": "execute_result"
    }
   ],
   "source": [
    "A.shape, B.shape"
   ]
  },
  {
   "cell_type": "code",
   "execution_count": 44,
   "id": "9574e74c-f94b-41bf-9461-0fc0a54400a7",
   "metadata": {},
   "outputs": [],
   "source": [
    "import torch"
   ]
  },
  {
   "cell_type": "code",
   "execution_count": 52,
   "id": "936e027f-1422-49d5-ae29-a46d98859937",
   "metadata": {},
   "outputs": [],
   "source": [
    "output = torch.zeros((2, 6), dtype=torch.float32)\n",
    "n_rows, n_cols = output.shape\n",
    "shared_dim = 4"
   ]
  },
  {
   "cell_type": "code",
   "execution_count": 53,
   "id": "392c7d44-a8e4-4cc5-bbc1-00fcedf92c5a",
   "metadata": {},
   "outputs": [],
   "source": [
    "# Flatten the matrices to simulate 1D array indexing like in the CUDA code\n",
    "A_flat = A.view(-1)\n",
    "B_flat = B.view(-1)"
   ]
  },
  {
   "cell_type": "code",
   "execution_count": 55,
   "id": "303645bd-51d9-49b1-8d66-5087c449dd10",
   "metadata": {},
   "outputs": [],
   "source": [
    "# Loop over each element of the result matrix P\n",
    "for row_idx in range(n_rows):  # Equivalent to thread row index\n",
    "    for column_idx in range(n_cols):  # Equivalent to thread column index\n",
    "        P_value = 0\n",
    "        # Compute the dot product for the current element in P\n",
    "        for k in range(shared_dim):  # Loop over the shared dimension\n",
    "            P_value += A_flat[row_idx * n_rows + k] * B_flat[k * n_cols + column_idx]\n",
    "        # Store the result in P\n",
    "        output[row_idx, column_idx] = P_value"
   ]
  },
  {
   "cell_type": "code",
   "execution_count": 56,
   "id": "f411a02a-d670-4de9-a08d-a47d642df8e4",
   "metadata": {},
   "outputs": [
    {
     "data": {
      "text/plain": [
       "tensor([[130., 140., 150., 160., 170., 180.],\n",
       "        [210., 228., 246., 264., 282., 300.]])"
      ]
     },
     "execution_count": 56,
     "metadata": {},
     "output_type": "execute_result"
    }
   ],
   "source": [
    "output"
   ]
  },
  {
   "cell_type": "markdown",
   "id": "ce5856b5-05cb-4dab-b2f8-cdfbe9ab49ff",
   "metadata": {},
   "source": [
    "##### Example 3"
   ]
  },
  {
   "cell_type": "code",
   "execution_count": 3,
   "id": "742cb21f-722c-4bd8-8be4-f2992baadcd8",
   "metadata": {},
   "outputs": [],
   "source": [
    "A = torch.arange(N_ROWS*SHARED_DIM).reshape(N_ROWS, SHARED_DIM)\n",
    "B = torch.arange(SHARED_DIM*N_COLUMNS).reshape(SHARED_DIM, N_COLUMNS)"
   ]
  },
  {
   "cell_type": "code",
   "execution_count": 4,
   "id": "c87720e0-28cd-4b30-9b0e-82b163b6e114",
   "metadata": {},
   "outputs": [],
   "source": [
    "import torch"
   ]
  },
  {
   "cell_type": "code",
   "execution_count": 5,
   "id": "dd0a1c32-5f6b-4563-8f85-c659ec0d782b",
   "metadata": {},
   "outputs": [],
   "source": [
    "N_ROWS, N_COLUMNS, SHARED_DIM = 4, 8, 16"
   ]
  },
  {
   "cell_type": "code",
   "execution_count": 6,
   "id": "026b61e9-1c07-41a5-9604-1acd4ab720fe",
   "metadata": {
    "scrolled": true
   },
   "outputs": [
    {
     "data": {
      "text/plain": [
       "(torch.Size([4, 16]), torch.Size([16, 8]))"
      ]
     },
     "execution_count": 6,
     "metadata": {},
     "output_type": "execute_result"
    }
   ],
   "source": [
    "A.shape, B.shape"
   ]
  },
  {
   "cell_type": "code",
   "execution_count": 7,
   "id": "914d9bda-1a2e-4ea2-b863-478533ef562b",
   "metadata": {},
   "outputs": [],
   "source": [
    "TILE_SIZE = 2"
   ]
  },
  {
   "cell_type": "markdown",
   "id": "a6d4252d-fa88-4638-a4cc-02074818e65f",
   "metadata": {},
   "source": [
    "Implement tiled matrix multiplication given each tile has size `(TILE_SIZE, TILE_SIZE) `"
   ]
  },
  {
   "cell_type": "code",
   "execution_count": 8,
   "id": "ebf02f74-f1ac-4608-9fe5-82b7dbbbc29b",
   "metadata": {},
   "outputs": [],
   "source": [
    "ROW_BLOCK_SIZE = N_ROWS // TILE_SIZE\n",
    "COLUMN_BLOCK_SIZE = N_COLUMNS // TILE_SIZE\n",
    "SHARED_DIM_BLOCK_SIZE = SHARED_DIM // TILE_SIZE"
   ]
  },
  {
   "cell_type": "code",
   "execution_count": 9,
   "id": "514e5be1-ca0d-4979-9480-6382376481c0",
   "metadata": {},
   "outputs": [],
   "source": [
    "output = torch.zeros(N_ROWS, N_COLUMNS)"
   ]
  },
  {
   "cell_type": "code",
   "execution_count": 10,
   "id": "2c184e21-6532-4d15-bb93-aa0bdc7a5b10",
   "metadata": {},
   "outputs": [],
   "source": [
    "for row_start_idx in range(0, N_ROWS, ROW_BLOCK_SIZE):\n",
    "    row_end_idx = row_start_idx + ROW_BLOCK_SIZE\n",
    "    \n",
    "    for column_start_idx in range(0, N_COLUMNS, COLUMN_BLOCK_SIZE):\n",
    "        column_end_idx = column_start_idx + COLUMN_BLOCK_SIZE\n",
    "        \n",
    "        accum = torch.zeros(ROW_BLOCK_SIZE, COLUMN_BLOCK_SIZE)\n",
    "        for k_start_idx in range(0, SHARED_DIM, SHARED_DIM_BLOCK_SIZE):\n",
    "            k_end_idx = k_start_idx + SHARED_DIM_BLOCK_SIZE\n",
    "            \n",
    "            tiled_a = A[row_start_idx:row_end_idx, k_start_idx:k_end_idx]\n",
    "            tiled_b = B[k_start_idx:k_end_idx, column_start_idx:column_end_idx]\n",
    "            accum += tiled_a @ tiled_b\n",
    "\n",
    "        output[row_start_idx:row_end_idx, column_start_idx:column_end_idx] = accum"
   ]
  },
  {
   "cell_type": "code",
   "execution_count": 11,
   "id": "5597ac91-500c-44f3-9231-2e43c691d5a5",
   "metadata": {},
   "outputs": [
    {
     "data": {
      "text/plain": [
       "tensor([[True, True, True, True, True, True, True, True],\n",
       "        [True, True, True, True, True, True, True, True],\n",
       "        [True, True, True, True, True, True, True, True],\n",
       "        [True, True, True, True, True, True, True, True]])"
      ]
     },
     "execution_count": 11,
     "metadata": {},
     "output_type": "execute_result"
    }
   ],
   "source": [
    "output == A@B"
   ]
  },
  {
   "cell_type": "code",
   "execution_count": 13,
   "id": "d701e936-43b7-4c61-aa80-339b01a91be2",
   "metadata": {},
   "outputs": [
    {
     "data": {
      "text/plain": [
       "0"
      ]
     },
     "execution_count": 13,
     "metadata": {},
     "output_type": "execute_result"
    }
   ],
   "source": [
    "2 % 2"
   ]
  },
  {
   "cell_type": "code",
   "execution_count": 15,
   "id": "88b78952-1b62-464f-a3ad-29f0cbd6c15e",
   "metadata": {},
   "outputs": [
    {
     "data": {
      "text/plain": [
       "tensor([[1],\n",
       "        [2],\n",
       "        [3],\n",
       "        [4]])"
      ]
     },
     "execution_count": 15,
     "metadata": {},
     "output_type": "execute_result"
    }
   ],
   "source": [
    "torch.tensor([1, 2, 3, 4])[:, None]"
   ]
  },
  {
   "cell_type": "code",
   "execution_count": 16,
   "id": "43669b2b-7d83-43b1-bf80-a116c82047f5",
   "metadata": {},
   "outputs": [
    {
     "data": {
      "text/plain": [
       "tensor([[1, 2, 3, 4]])"
      ]
     },
     "execution_count": 16,
     "metadata": {},
     "output_type": "execute_result"
    }
   ],
   "source": [
    "torch.tensor([1, 2, 3, 4])[None, :]"
   ]
  },
  {
   "cell_type": "markdown",
   "id": "48638e8e-9913-4d46-bafa-d615fb9cb7e6",
   "metadata": {},
   "source": [
    "##### Example 4"
   ]
  },
  {
   "cell_type": "code",
   "execution_count": 17,
   "id": "172598ac-80dc-4d51-b45a-420e3ce34edb",
   "metadata": {},
   "outputs": [],
   "source": [
    "n_rows, n_cols = 4, 8\n",
    "n_shared_dim = 16\n",
    "block_size = 2\n",
    "\n",
    "n_blocks_in_shared_dim = n_shared_dim // block_size\n",
    "\n",
    "pids = torch.arange(n_rows*n_cols)\n",
    "\n",
    "for pid in pids:\n",
    "    row_start_idx = pid // n_blocks_in_shared_dim\n",
    "    column_start_idx = pid % n_blocks_in_shared_dim\n",
    "\n",
    "    print(row_start_idx, column_start_idx)\n",
    "\n",
    "    # offs_am = (pid_m * BLOCK_SIZE_M + tl.arange(0, BLOCK_SIZE_M))\n",
    "    # offs_bn = (pid_n * BLOCK_SIZE_N + tl.arange(0, BLOCK_SIZE_N))\n",
    "    \n",
    "    # offs_k = tl.arange(0, BLOCK_SIZE_K)\n",
    "    # a_ptrs = a_ptr + (offs_am[:, None] * stride_am + offs_k[None, :] * stride_ak)\n",
    "    # b_ptrs = b_ptr + (offs_k[:, None] * stride_bk + offs_bn[None, :] * stride_bn)"
   ]
  },
  {
   "cell_type": "code",
   "execution_count": 19,
   "id": "470b3c36-8efd-448f-8bc4-637df4d923c0",
   "metadata": {},
   "outputs": [],
   "source": [
    "n_blocks_in_shared_dim = n_shared_dim // block_size"
   ]
  },
  {
   "cell_type": "code",
   "execution_count": 23,
   "id": "f540ae20-ec2a-4f17-ba8f-b444243ab4be",
   "metadata": {},
   "outputs": [],
   "source": [
    "pids = torch.arange(n_rows*n_cols)"
   ]
  },
  {
   "cell_type": "code",
   "execution_count": 26,
   "id": "44f6d77b-bf8b-408a-b85d-9167c1b84884",
   "metadata": {},
   "outputs": [
    {
     "name": "stdout",
     "output_type": "stream",
     "text": [
      "tensor(0) tensor(0)\n",
      "tensor(0) tensor(1)\n",
      "tensor(0) tensor(2)\n",
      "tensor(0) tensor(3)\n",
      "tensor(0) tensor(4)\n",
      "tensor(0) tensor(5)\n",
      "tensor(0) tensor(6)\n",
      "tensor(0) tensor(7)\n",
      "tensor(1) tensor(0)\n",
      "tensor(1) tensor(1)\n",
      "tensor(1) tensor(2)\n",
      "tensor(1) tensor(3)\n",
      "tensor(1) tensor(4)\n",
      "tensor(1) tensor(5)\n",
      "tensor(1) tensor(6)\n",
      "tensor(1) tensor(7)\n",
      "tensor(2) tensor(0)\n",
      "tensor(2) tensor(1)\n",
      "tensor(2) tensor(2)\n",
      "tensor(2) tensor(3)\n",
      "tensor(2) tensor(4)\n",
      "tensor(2) tensor(5)\n",
      "tensor(2) tensor(6)\n",
      "tensor(2) tensor(7)\n",
      "tensor(3) tensor(0)\n",
      "tensor(3) tensor(1)\n",
      "tensor(3) tensor(2)\n",
      "tensor(3) tensor(3)\n",
      "tensor(3) tensor(4)\n",
      "tensor(3) tensor(5)\n",
      "tensor(3) tensor(6)\n",
      "tensor(3) tensor(7)\n"
     ]
    }
   ],
   "source": [
    "for pid in pids:\n",
    "    row_start_idx = pid // n_blocks_in_shared_dim\n",
    "    column_start_idx = pid % n_blocks_in_shared_dim\n",
    "\n",
    "    print(row_start_idx, column_start_idx)"
   ]
  },
  {
   "cell_type": "code",
   "execution_count": null,
   "id": "47471c00-2a2d-47e4-a263-6b9254efdae0",
   "metadata": {},
   "outputs": [],
   "source": []
  },
  {
   "cell_type": "code",
   "execution_count": null,
   "id": "3984a330-9cf0-4a95-9719-a6b901e8607c",
   "metadata": {},
   "outputs": [],
   "source": [
    "\n",
    "# grid_n = tl.cdiv(N, BLOCK_SIZE_N)\n",
    "# pid_m = pid // grid_n\n",
    "# pid_n = pid % grid_n\n",
    "\n",
    "# ----------------------------------------------------------\n",
    "# Create pointers for the first blocks of A and B.\n",
    "# We will advance this pointer as we move in the K direction\n",
    "# and accumulate\n",
    "# `a_ptrs` is a block of [BLOCK_SIZE_M, BLOCK_SIZE_K] pointers\n",
    "# `b_ptrs` is a block of [BLOCK_SIZE_K, BLOCK_SIZE_N] pointers\n",
    "# See above `Pointer Arithmetic` section for details\n",
    "# offs_am = (pid_m * BLOCK_SIZE_M + tl.arange(0, BLOCK_SIZE_M)) % M\n",
    "# offs_bn = (pid_n * BLOCK_SIZE_N + tl.arange(0, BLOCK_SIZE_N)) % N\n",
    "\n",
    "offs_am = (pid_m * BLOCK_SIZE_M + tl.arange(0, BLOCK_SIZE_M))\n",
    "offs_bn = (pid_n * BLOCK_SIZE_N + tl.arange(0, BLOCK_SIZE_N))\n",
    "\n",
    "offs_k = tl.arange(0, BLOCK_SIZE_K)\n",
    "a_ptrs = a_ptr + (offs_am[:, None] * stride_am + offs_k[None, :] * stride_ak)\n",
    "b_ptrs = b_ptr + (offs_k[:, None] * stride_bk + offs_bn[None, :] * stride_bn)"
   ]
  },
  {
   "cell_type": "code",
   "execution_count": null,
   "id": "4f27ca6d-cbad-4c20-b983-77c6686a02d7",
   "metadata": {},
   "outputs": [],
   "source": []
  },
  {
   "cell_type": "code",
   "execution_count": 29,
   "id": "2bce8f7c-4273-454a-91ef-91309bf52bf4",
   "metadata": {},
   "outputs": [],
   "source": [
    "import pandas as pd\n",
    "import numpy as np\n",
    "\n",
    "# Matrix dimensions\n",
    "M = 4  # Number of rows in A and C\n",
    "N = 8  # Number of columns in B and C\n",
    "K = 16  # Number of columns in A and rows in B\n",
    "\n",
    "# Block sizes\n",
    "BLOCK_SIZE_M = 2\n",
    "BLOCK_SIZE_N = 2\n",
    "BLOCK_SIZE_K = 2\n",
    "\n",
    "# Strides for row-major storage\n",
    "stride_am = K  # Number of elements to skip to move to the next row in A\n",
    "stride_ak = 1  # Number of elements to skip to move to the next column in A\n",
    "\n",
    "stride_bk = N  # Number of elements to skip to move to the next row in B\n",
    "stride_bn = 1  # Number of elements to skip to move to the next column in B\n",
    "\n",
    "# Starting addresses (for simplicity, we start at 0)\n",
    "a_ptr = 0\n",
    "b_ptr = 0\n",
    "\n",
    "# Calculate grid dimensions\n",
    "grid_m = (M + BLOCK_SIZE_M - 1) // BLOCK_SIZE_M  # ceil division\n",
    "grid_n = (N + BLOCK_SIZE_N - 1) // BLOCK_SIZE_N  # ceil division\n",
    "\n",
    "n_programs = grid_m * grid_n  # Total number of program instances\n",
    "\n",
    "# Program IDs\n",
    "pids = np.arange(n_programs)\n",
    "\n",
    "# Compute pid_m and pid_n for each program\n",
    "pid_ms = pids // grid_n\n",
    "pid_ns = pids % grid_n\n",
    "\n",
    "# Data list to collect intermediate variables\n",
    "data = []\n",
    "\n",
    "for pid, pid_m, pid_n in zip(pids, pid_ms, pid_ns):\n",
    "    # Compute offsets for A\n",
    "    offs_am = (pid_m * BLOCK_SIZE_M + np.arange(0, BLOCK_SIZE_M)) % M\n",
    "    offs_k = np.arange(0, BLOCK_SIZE_K)\n",
    "\n",
    "    # Compute pointers for A\n",
    "    a_offsets_row = offs_am[:, None] * stride_am  # Shape: (BLOCK_SIZE_M, 1)\n",
    "    a_offsets_col = offs_k[None, :] * stride_ak   # Shape: (1, BLOCK_SIZE_K)\n",
    "    a_ptrs = a_ptr + a_offsets_row + a_offsets_col  # Shape: (BLOCK_SIZE_M, BLOCK_SIZE_K)\n",
    "\n",
    "    # Compute offsets for B\n",
    "    offs_bn = (pid_n * BLOCK_SIZE_N + np.arange(0, BLOCK_SIZE_N)) % N\n",
    "\n",
    "    # Compute pointers for B\n",
    "    b_offsets_row = offs_k[:, None] * stride_bk    # Shape: (BLOCK_SIZE_K, 1)\n",
    "    b_offsets_col = offs_bn[None, :] * stride_bn   # Shape: (1, BLOCK_SIZE_N)\n",
    "    b_ptrs = b_ptr + b_offsets_row + b_offsets_col  # Shape: (BLOCK_SIZE_K, BLOCK_SIZE_N)\n",
    "\n",
    "    # Collect data\n",
    "    data.append({\n",
    "        'pid': pid,\n",
    "        'pid_m': pid_m,\n",
    "        'pid_n': pid_n,\n",
    "        'offs_am': offs_am.tolist(),\n",
    "        'offs_bn': offs_bn.tolist(),\n",
    "        'offs_k': offs_k.tolist(),\n",
    "        'a_ptrs': a_ptrs.tolist(),\n",
    "        'b_ptrs': b_ptrs.tolist(),\n",
    "    })\n",
    "\n",
    "# Create a pandas DataFrame from the data\n",
    "df = pd.DataFrame(data)\n"
   ]
  },
  {
   "cell_type": "code",
   "execution_count": 30,
   "id": "6423a79d-b06b-4c75-b7c6-a3a855d352d6",
   "metadata": {},
   "outputs": [
    {
     "data": {
      "text/html": [
       "<div>\n",
       "<style scoped>\n",
       "    .dataframe tbody tr th:only-of-type {\n",
       "        vertical-align: middle;\n",
       "    }\n",
       "\n",
       "    .dataframe tbody tr th {\n",
       "        vertical-align: top;\n",
       "    }\n",
       "\n",
       "    .dataframe thead th {\n",
       "        text-align: right;\n",
       "    }\n",
       "</style>\n",
       "<table border=\"1\" class=\"dataframe\">\n",
       "  <thead>\n",
       "    <tr style=\"text-align: right;\">\n",
       "      <th></th>\n",
       "      <th>pid</th>\n",
       "      <th>pid_m</th>\n",
       "      <th>pid_n</th>\n",
       "      <th>offs_am</th>\n",
       "      <th>offs_bn</th>\n",
       "      <th>offs_k</th>\n",
       "      <th>a_ptrs</th>\n",
       "      <th>b_ptrs</th>\n",
       "    </tr>\n",
       "  </thead>\n",
       "  <tbody>\n",
       "    <tr>\n",
       "      <th>0</th>\n",
       "      <td>0</td>\n",
       "      <td>0</td>\n",
       "      <td>0</td>\n",
       "      <td>[0, 1]</td>\n",
       "      <td>[0, 1]</td>\n",
       "      <td>[0, 1]</td>\n",
       "      <td>[[0, 1], [16, 17]]</td>\n",
       "      <td>[[0, 1], [8, 9]]</td>\n",
       "    </tr>\n",
       "    <tr>\n",
       "      <th>1</th>\n",
       "      <td>1</td>\n",
       "      <td>0</td>\n",
       "      <td>1</td>\n",
       "      <td>[0, 1]</td>\n",
       "      <td>[2, 3]</td>\n",
       "      <td>[0, 1]</td>\n",
       "      <td>[[0, 1], [16, 17]]</td>\n",
       "      <td>[[2, 3], [10, 11]]</td>\n",
       "    </tr>\n",
       "    <tr>\n",
       "      <th>2</th>\n",
       "      <td>2</td>\n",
       "      <td>0</td>\n",
       "      <td>2</td>\n",
       "      <td>[0, 1]</td>\n",
       "      <td>[4, 5]</td>\n",
       "      <td>[0, 1]</td>\n",
       "      <td>[[0, 1], [16, 17]]</td>\n",
       "      <td>[[4, 5], [12, 13]]</td>\n",
       "    </tr>\n",
       "    <tr>\n",
       "      <th>3</th>\n",
       "      <td>3</td>\n",
       "      <td>0</td>\n",
       "      <td>3</td>\n",
       "      <td>[0, 1]</td>\n",
       "      <td>[6, 7]</td>\n",
       "      <td>[0, 1]</td>\n",
       "      <td>[[0, 1], [16, 17]]</td>\n",
       "      <td>[[6, 7], [14, 15]]</td>\n",
       "    </tr>\n",
       "    <tr>\n",
       "      <th>4</th>\n",
       "      <td>4</td>\n",
       "      <td>1</td>\n",
       "      <td>0</td>\n",
       "      <td>[2, 3]</td>\n",
       "      <td>[0, 1]</td>\n",
       "      <td>[0, 1]</td>\n",
       "      <td>[[32, 33], [48, 49]]</td>\n",
       "      <td>[[0, 1], [8, 9]]</td>\n",
       "    </tr>\n",
       "    <tr>\n",
       "      <th>5</th>\n",
       "      <td>5</td>\n",
       "      <td>1</td>\n",
       "      <td>1</td>\n",
       "      <td>[2, 3]</td>\n",
       "      <td>[2, 3]</td>\n",
       "      <td>[0, 1]</td>\n",
       "      <td>[[32, 33], [48, 49]]</td>\n",
       "      <td>[[2, 3], [10, 11]]</td>\n",
       "    </tr>\n",
       "    <tr>\n",
       "      <th>6</th>\n",
       "      <td>6</td>\n",
       "      <td>1</td>\n",
       "      <td>2</td>\n",
       "      <td>[2, 3]</td>\n",
       "      <td>[4, 5]</td>\n",
       "      <td>[0, 1]</td>\n",
       "      <td>[[32, 33], [48, 49]]</td>\n",
       "      <td>[[4, 5], [12, 13]]</td>\n",
       "    </tr>\n",
       "    <tr>\n",
       "      <th>7</th>\n",
       "      <td>7</td>\n",
       "      <td>1</td>\n",
       "      <td>3</td>\n",
       "      <td>[2, 3]</td>\n",
       "      <td>[6, 7]</td>\n",
       "      <td>[0, 1]</td>\n",
       "      <td>[[32, 33], [48, 49]]</td>\n",
       "      <td>[[6, 7], [14, 15]]</td>\n",
       "    </tr>\n",
       "  </tbody>\n",
       "</table>\n",
       "</div>"
      ],
      "text/plain": [
       "   pid  pid_m  pid_n offs_am offs_bn  offs_k                a_ptrs  \\\n",
       "0    0      0      0  [0, 1]  [0, 1]  [0, 1]    [[0, 1], [16, 17]]   \n",
       "1    1      0      1  [0, 1]  [2, 3]  [0, 1]    [[0, 1], [16, 17]]   \n",
       "2    2      0      2  [0, 1]  [4, 5]  [0, 1]    [[0, 1], [16, 17]]   \n",
       "3    3      0      3  [0, 1]  [6, 7]  [0, 1]    [[0, 1], [16, 17]]   \n",
       "4    4      1      0  [2, 3]  [0, 1]  [0, 1]  [[32, 33], [48, 49]]   \n",
       "5    5      1      1  [2, 3]  [2, 3]  [0, 1]  [[32, 33], [48, 49]]   \n",
       "6    6      1      2  [2, 3]  [4, 5]  [0, 1]  [[32, 33], [48, 49]]   \n",
       "7    7      1      3  [2, 3]  [6, 7]  [0, 1]  [[32, 33], [48, 49]]   \n",
       "\n",
       "               b_ptrs  \n",
       "0    [[0, 1], [8, 9]]  \n",
       "1  [[2, 3], [10, 11]]  \n",
       "2  [[4, 5], [12, 13]]  \n",
       "3  [[6, 7], [14, 15]]  \n",
       "4    [[0, 1], [8, 9]]  \n",
       "5  [[2, 3], [10, 11]]  \n",
       "6  [[4, 5], [12, 13]]  \n",
       "7  [[6, 7], [14, 15]]  "
      ]
     },
     "execution_count": 30,
     "metadata": {},
     "output_type": "execute_result"
    }
   ],
   "source": [
    "df"
   ]
  },
  {
   "cell_type": "code",
   "execution_count": 31,
   "id": "02ecbe39-c3e7-448f-b18c-b04c831bfa91",
   "metadata": {},
   "outputs": [
    {
     "data": {
      "text/plain": [
       "1"
      ]
     },
     "execution_count": 31,
     "metadata": {},
     "output_type": "execute_result"
    }
   ],
   "source": [
    "2//2"
   ]
  },
  {
   "cell_type": "code",
   "execution_count": null,
   "id": "251f2d77-6dd0-4f6d-aff3-2f52aa7adfa8",
   "metadata": {},
   "outputs": [],
   "source": []
  }
 ],
 "metadata": {
  "kernelspec": {
   "display_name": "Python 3 (ipykernel)",
   "language": "python",
   "name": "python3"
  },
  "language_info": {
   "codemirror_mode": {
    "name": "ipython",
    "version": 3
   },
   "file_extension": ".py",
   "mimetype": "text/x-python",
   "name": "python",
   "nbconvert_exporter": "python",
   "pygments_lexer": "ipython3",
   "version": "3.10.14"
  }
 },
 "nbformat": 4,
 "nbformat_minor": 5
}
