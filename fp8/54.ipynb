{
 "cells": [
  {
   "cell_type": "code",
   "execution_count": 1,
   "id": "009d561d-c591-4613-bdf7-bab7bf814db2",
   "metadata": {},
   "outputs": [],
   "source": [
    "import torch"
   ]
  },
  {
   "cell_type": "markdown",
   "id": "fd6b58f6-3909-41ca-9eee-05a122a06634",
   "metadata": {},
   "source": [
    "- Tensor subclass status: https://colab.research.google.com/drive/1MLeSCMrc6a5Yf_6uAh0bH-IPf5c_BTQf#scrollTo=ueookYrCsxmG\n",
    "- Wrapper Subclass design: https://colab.research.google.com/drive/12FN24CPRe_FVxjE46SZTu8q3j4RVSq15?usp=sharing#scrollTo=UVGyfyg14-Gq\n",
    "- Tensor sublass and autograd: https://colab.research.google.com/drive/1BVCEUqkyIXZR3SfgZt9V1_PzvqjFKoWj#scrollTo=c9PS1XOlvsDu"
   ]
  },
  {
   "cell_type": "code",
   "execution_count": 2,
   "id": "d85fa17d-e2df-4014-b3f7-8d77a68ca6fd",
   "metadata": {},
   "outputs": [],
   "source": [
    "class FP8Tensor(torch.Tensor):\n",
    "    def __new__(cls):\n",
    "        pass"
   ]
  },
  {
   "cell_type": "code",
   "execution_count": null,
   "id": "cdc5cfbb-aa44-45b9-bb23-d602e0cc49bf",
   "metadata": {},
   "outputs": [],
   "source": [
    "tensor = FP8Tensor(torch.Tensor):"
   ]
  }
 ],
 "metadata": {
  "kernelspec": {
   "display_name": "Python 3 (ipykernel)",
   "language": "python",
   "name": "python3"
  },
  "language_info": {
   "codemirror_mode": {
    "name": "ipython",
    "version": 3
   },
   "file_extension": ".py",
   "mimetype": "text/x-python",
   "name": "python",
   "nbconvert_exporter": "python",
   "pygments_lexer": "ipython3",
   "version": "3.10.14"
  }
 },
 "nbformat": 4,
 "nbformat_minor": 5
}
