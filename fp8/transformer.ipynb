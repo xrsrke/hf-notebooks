{
 "cells": [
  {
   "cell_type": "code",
   "execution_count": 19,
   "id": "4dfd6f66-9aa9-4bfc-aad4-c1c9cc466783",
   "metadata": {},
   "outputs": [],
   "source": [
    "import torch\n",
    "from torch import nn\n",
    "from einops import rearrange"
   ]
  },
  {
   "cell_type": "code",
   "execution_count": 5,
   "id": "5ef31fc1-e85c-4d36-9a32-b1f1c0290f0b",
   "metadata": {},
   "outputs": [],
   "source": [
    "# weight = torch.randn([2304, 768])"
   ]
  },
  {
   "cell_type": "code",
   "execution_count": 6,
   "id": "a03b1494-80b1-4cec-a9a4-efabb95c36c3",
   "metadata": {},
   "outputs": [],
   "source": [
    "linear = nn.Linear(768, 768*3)"
   ]
  },
  {
   "cell_type": "code",
   "execution_count": 7,
   "id": "79c76666-ea17-40ea-a834-9dd00287aa52",
   "metadata": {},
   "outputs": [
    {
     "data": {
      "text/plain": [
       "torch.Size([2304, 768])"
      ]
     },
     "execution_count": 7,
     "metadata": {},
     "output_type": "execute_result"
    }
   ],
   "source": [
    "linear.weight.shape"
   ]
  },
  {
   "cell_type": "code",
   "execution_count": 8,
   "id": "4218ec34-3f7a-4210-84af-8a582b349f71",
   "metadata": {},
   "outputs": [
    {
     "data": {
      "text/plain": [
       "torch.Size([2304])"
      ]
     },
     "execution_count": 8,
     "metadata": {},
     "output_type": "execute_result"
    }
   ],
   "source": [
    "linear.bias.shape"
   ]
  },
  {
   "cell_type": "code",
   "execution_count": 9,
   "id": "429412b2-e70f-4dd9-8e2b-72e7ed7e6509",
   "metadata": {},
   "outputs": [],
   "source": [
    "input = torch.randn([16, 128, 768])"
   ]
  },
  {
   "cell_type": "code",
   "execution_count": 12,
   "id": "4f6d9121-980a-4adf-9db9-a435f9e82c6a",
   "metadata": {},
   "outputs": [
    {
     "data": {
      "text/plain": [
       "torch.Size([16, 128, 2304])"
      ]
     },
     "execution_count": 12,
     "metadata": {},
     "output_type": "execute_result"
    }
   ],
   "source": [
    "(input @ linear.weight.T).shape"
   ]
  },
  {
   "cell_type": "code",
   "execution_count": 16,
   "id": "4e11f4f8-12c8-49ba-8a0a-e6b417cd6cf1",
   "metadata": {},
   "outputs": [],
   "source": [
    "ref_output = input @ linear.weight.T + linear.bias"
   ]
  },
  {
   "cell_type": "code",
   "execution_count": 20,
   "id": "9447a17e-0d08-4232-8a83-010027124087",
   "metadata": {},
   "outputs": [],
   "source": [
    "batch_size = input.shape[0]\n",
    "seq_len = input.shape[1]\n",
    "input = rearrange(input, \"b n h -> (b n) h\")"
   ]
  },
  {
   "cell_type": "code",
   "execution_count": 21,
   "id": "5026732b-00f7-4d9a-98ab-006bc401148b",
   "metadata": {},
   "outputs": [
    {
     "data": {
      "text/plain": [
       "torch.Size([2048, 768])"
      ]
     },
     "execution_count": 21,
     "metadata": {},
     "output_type": "execute_result"
    }
   ],
   "source": [
    "input.shape"
   ]
  },
  {
   "cell_type": "code",
   "execution_count": 24,
   "id": "4801cb85-168a-40c4-ac5e-29a158cf5a9d",
   "metadata": {},
   "outputs": [
    {
     "data": {
      "text/plain": [
       "torch.Size([2048, 2304])"
      ]
     },
     "execution_count": 24,
     "metadata": {},
     "output_type": "execute_result"
    }
   ],
   "source": [
    "(input @ linear.weight.T).shape"
   ]
  },
  {
   "cell_type": "code",
   "execution_count": 26,
   "id": "21441470-2b32-48a8-9e4e-08c98def38dd",
   "metadata": {},
   "outputs": [
    {
     "data": {
      "text/plain": [
       "torch.Size([2048, 768])"
      ]
     },
     "execution_count": 26,
     "metadata": {},
     "output_type": "execute_result"
    }
   ],
   "source": [
    "input.shape"
   ]
  },
  {
   "cell_type": "code",
   "execution_count": 27,
   "id": "b9d37ae3-9abc-492d-980b-f7bc6c1dd205",
   "metadata": {},
   "outputs": [
    {
     "data": {
      "text/plain": [
       "torch.Size([2048, 768])"
      ]
     },
     "execution_count": 27,
     "metadata": {},
     "output_type": "execute_result"
    }
   ],
   "source": [
    "input.shape"
   ]
  },
  {
   "cell_type": "code",
   "execution_count": 2,
   "id": "161ee23c-7079-43ca-a52b-6141a3db4b58",
   "metadata": {},
   "outputs": [],
   "source": [
    "import torch"
   ]
  },
  {
   "cell_type": "code",
   "execution_count": 24,
   "id": "5933474d-e859-4b32-9c57-7ac326920c72",
   "metadata": {},
   "outputs": [],
   "source": [
    "args = [\n",
    "(\n",
    "    torch.randn(16, 32, dtype=torch.float32),\n",
    "    torch.randn(16, 32, dtype=torch.float32),\n",
    "    False,\n",
    "    True,\n",
    "),\n",
    "(\n",
    "    torch.randn(16, 32, dtype=torch.float32),\n",
    "    torch.randn(16, 32, dtype=torch.float32),\n",
    "    True,\n",
    "    False,\n",
    "),\n",
    "(\n",
    "    torch.randn(32, 16, dtype=torch.float32),\n",
    "    torch.randn(64, 32, dtype=torch.float32),\n",
    "    True,\n",
    "    True,\n",
    "),\n",
    "(\n",
    "    torch.randn(32, 16, dtype=torch.float32),\n",
    "    torch.randn(16, 64, dtype=torch.float32),\n",
    "    False,\n",
    "    False,\n",
    ")\n",
    "]"
   ]
  },
  {
   "cell_type": "code",
   "execution_count": 25,
   "id": "31478ab7-8da8-43fa-9ab5-0f1342c43624",
   "metadata": {},
   "outputs": [],
   "source": [
    "def normal_matmul(a, transpose_a, b, transpose_b):\n",
    "    a = a.T if transpose_a is True else a\n",
    "    b = b.T if transpose_b is True else b\n",
    "    return torch.matmul(a, b)"
   ]
  },
  {
   "cell_type": "code",
   "execution_count": 26,
   "id": "4da3d7ea-88fb-4983-8768-d7318eeff81c",
   "metadata": {},
   "outputs": [],
   "source": [
    "# # orig\n",
    "# def fp8_matmul(a, transpose_a, b, transpose_b):\n",
    "#     a = a.T if transpose_a is False else a\n",
    "#     b = b.T if transpose_b is True else b\n",
    "#     return torch.matmul(a.T, b)"
   ]
  },
  {
   "cell_type": "code",
   "execution_count": 33,
   "id": "cb0997db-f0b3-4ff2-961a-139369eb1482",
   "metadata": {},
   "outputs": [],
   "source": [
    "# orig\n",
    "def fp8_matmul_2(a, transpose_a, b, transpose_b):\n",
    "\n",
    "    if transpose_a is True:\n",
    "        a = a\n",
    "    elif transpose_a is False:\n",
    "        a = a.T\n",
    "\n",
    "    if transpose_b is False:\n",
    "        b = b\n",
    "    elif transpose_b is True:\n",
    "        b = b.T\n",
    "\n",
    "    predicted_shape = torch.zeros(a.T.shape[0], b.shape[-1]).shape\n",
    "    \n",
    "    # a = a if transpose_a is True else a\n",
    "    # b = b.T if transpose_b is True else b\n",
    "    output = torch.matmul(a.T, b)\n",
    "    assert predicted_shape == output.shape\n",
    "    return output"
   ]
  },
  {
   "cell_type": "code",
   "execution_count": 34,
   "id": "48f59e81-bfe8-4ebf-81eb-1ef525452238",
   "metadata": {},
   "outputs": [
    {
     "name": "stdout",
     "output_type": "stream",
     "text": [
      "True\n",
      "True\n",
      "True\n",
      "True\n"
     ]
    }
   ],
   "source": [
    "for (a, b, transpose_a, transpose_b) in args:\n",
    "    ref_output = normal_matmul(a, transpose_a, b, transpose_b)\n",
    "    output = fp8_matmul_2(a, transpose_a, b, transpose_b)\n",
    "    \n",
    "    print(torch.equal(output, ref_output))"
   ]
  },
  {
   "cell_type": "code",
   "execution_count": null,
   "id": "19dca4ce-c7ae-431d-96a0-2b2afdd95af6",
   "metadata": {},
   "outputs": [],
   "source": []
  },
  {
   "cell_type": "code",
   "execution_count": 35,
   "id": "cc79f02a-f42a-497c-b5dc-d0edcb157a7c",
   "metadata": {},
   "outputs": [],
   "source": [
    "x, y, _, _ = args[0]"
   ]
  },
  {
   "cell_type": "code",
   "execution_count": 41,
   "id": "b0998c33-8aa2-4a9f-98b1-83b47a9a6258",
   "metadata": {},
   "outputs": [],
   "source": [
    "import torch.nn.functional as F"
   ]
  },
  {
   "cell_type": "code",
   "execution_count": 43,
   "id": "fca3013c-0dab-42e5-a80a-666e7d15be88",
   "metadata": {},
   "outputs": [
    {
     "data": {
      "text/plain": [
       "tensor([[True, True, True, True, True, True, True, True, True, True, True, True,\n",
       "         True, True, True, True],\n",
       "        [True, True, True, True, True, True, True, True, True, True, True, True,\n",
       "         True, True, True, True],\n",
       "        [True, True, True, True, True, True, True, True, True, True, True, True,\n",
       "         True, True, True, True],\n",
       "        [True, True, True, True, True, True, True, True, True, True, True, True,\n",
       "         True, True, True, True],\n",
       "        [True, True, True, True, True, True, True, True, True, True, True, True,\n",
       "         True, True, True, True],\n",
       "        [True, True, True, True, True, True, True, True, True, True, True, True,\n",
       "         True, True, True, True],\n",
       "        [True, True, True, True, True, True, True, True, True, True, True, True,\n",
       "         True, True, True, True],\n",
       "        [True, True, True, True, True, True, True, True, True, True, True, True,\n",
       "         True, True, True, True],\n",
       "        [True, True, True, True, True, True, True, True, True, True, True, True,\n",
       "         True, True, True, True],\n",
       "        [True, True, True, True, True, True, True, True, True, True, True, True,\n",
       "         True, True, True, True],\n",
       "        [True, True, True, True, True, True, True, True, True, True, True, True,\n",
       "         True, True, True, True],\n",
       "        [True, True, True, True, True, True, True, True, True, True, True, True,\n",
       "         True, True, True, True],\n",
       "        [True, True, True, True, True, True, True, True, True, True, True, True,\n",
       "         True, True, True, True],\n",
       "        [True, True, True, True, True, True, True, True, True, True, True, True,\n",
       "         True, True, True, True],\n",
       "        [True, True, True, True, True, True, True, True, True, True, True, True,\n",
       "         True, True, True, True],\n",
       "        [True, True, True, True, True, True, True, True, True, True, True, True,\n",
       "         True, True, True, True]])"
      ]
     },
     "execution_count": 43,
     "metadata": {},
     "output_type": "execute_result"
    }
   ],
   "source": [
    "x @ y.T == F.linear(x, y)"
   ]
  },
  {
   "cell_type": "code",
   "execution_count": null,
   "id": "8c42e538-5f70-4d37-9486-9a49865b9c9b",
   "metadata": {},
   "outputs": [],
   "source": []
  },
  {
   "cell_type": "code",
   "execution_count": null,
   "id": "f3413a06-fda1-411e-836f-7d462290275f",
   "metadata": {},
   "outputs": [],
   "source": []
  }
 ],
 "metadata": {
  "kernelspec": {
   "display_name": "Python 3 (ipykernel)",
   "language": "python",
   "name": "python3"
  },
  "language_info": {
   "codemirror_mode": {
    "name": "ipython",
    "version": 3
   },
   "file_extension": ".py",
   "mimetype": "text/x-python",
   "name": "python",
   "nbconvert_exporter": "python",
   "pygments_lexer": "ipython3",
   "version": "3.8.18"
  }
 },
 "nbformat": 4,
 "nbformat_minor": 5
}
